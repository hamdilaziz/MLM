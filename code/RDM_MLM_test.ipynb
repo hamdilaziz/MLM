{
  "nbformat": 4,
  "nbformat_minor": 0,
  "metadata": {
    "colab": {
      "name": "Untitled1.ipynb",
      "provenance": [],
      "collapsed_sections": []
    },
    "kernelspec": {
      "display_name": "Python 3",
      "name": "python3"
    },
    "language_info": {
      "name": "python"
    }
  },
  "cells": [
    {
      "cell_type": "code",
      "metadata": {
        "id": "nd_b2f_ri6ti"
      },
      "source": [
        "import matplotlib.pyplot as plt\n",
        "import numpy as np\n",
        "import pandas as pd\n",
        "import seaborn as sns\n",
        "from sklearn.metrics import mean_squared_error\n",
        "from sklearn.pipeline import make_pipeline\n",
        "from sklearn.preprocessing import StandardScaler,MinMaxScaler\n",
        "from sklearn.svm import SVR,SVC\n",
        "from sklearn.tree import DecisionTreeClassifier,DecisionTreeRegressor\n",
        "from sklearn.model_selection import train_test_split,GridSearchCV,StratifiedShuffleSplit,cross_val_score\n",
        "from sklearn.datasets import make_classification,make_moons,make_circles,make_regression\n",
        "\n",
        "sns.set_theme(style=\"darkgrid\")\n",
        "from sklearn.utils import shuffle\n",
        "from sklearn.ensemble import RandomForestRegressor, RandomForestClassifier\n",
        "from imblearn.under_sampling import RandomUnderSampler\n",
        "import time\n",
        "from sklearn.metrics import accuracy_score, jaccard_score, precision_score\n",
        "import warnings\n",
        "import RFD_MLM as rfd_mlm\n",
        "from sklearn.datasets import load_iris,load_wine,load_breast_cancer\n",
        "warnings.filterwarnings('ignore')\n"
      ],
      "execution_count": null,
      "outputs": []
    },
    {
      "cell_type": "code",
      "metadata": {
        "colab": {
          "resources": {
            "http://localhost:8080/nbextensions/google.colab/files.js": {
              "data": "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",
              "ok": true,
              "headers": [
                [
                  "content-type",
                  "application/javascript"
                ]
              ],
              "status": 200,
              "status_text": ""
            }
          },
          "base_uri": "https://localhost:8080/",
          "height": 375
        },
        "id": "SaIAnqVOrdLJ",
        "outputId": "7a63c495-2fd2-4ca2-9250-e0cc0e543bae"
      },
      "source": [
        "from google.colab import files \n",
        "import io\n",
        "uploaded = files.upload()"
      ],
      "execution_count": null,
      "outputs": [
        {
          "output_type": "display_data",
          "data": {
            "text/html": [
              "\n",
              "     <input type=\"file\" id=\"files-9cbb5a68-ddc8-4d96-84db-461deb14ff4a\" name=\"files[]\" multiple disabled\n",
              "        style=\"border:none\" />\n",
              "     <output id=\"result-9cbb5a68-ddc8-4d96-84db-461deb14ff4a\">\n",
              "      Upload widget is only available when the cell has been executed in the\n",
              "      current browser session. Please rerun this cell to enable.\n",
              "      </output>\n",
              "      <script src=\"/nbextensions/google.colab/files.js\"></script> "
            ],
            "text/plain": [
              "<IPython.core.display.HTML object>"
            ]
          },
          "metadata": {
            "tags": []
          }
        },
        {
          "output_type": "stream",
          "text": [
            "Saving abalone.data to abalone.data\n",
            "Saving abalone.domain to abalone.domain\n",
            "Saving diabetes - Copie.csv to diabetes - Copie.csv\n",
            "Saving diabetes.csv to diabetes.csv\n",
            "Saving housing.data to housing.data\n",
            "Saving housing.domain to housing.domain\n",
            "Saving price.data to price.data\n",
            "Saving price.domain to price.domain\n",
            "Saving servo.data to servo.data\n",
            "Saving servo.domain to servo.domain\n"
          ],
          "name": "stdout"
        }
      ]
    },
    {
      "cell_type": "code",
      "metadata": {
        "colab": {
          "resources": {
            "http://localhost:8080/nbextensions/google.colab/files.js": {
              "data": "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",
              "ok": true,
              "headers": [
                [
                  "content-type",
                  "application/javascript"
                ]
              ],
              "status": 200,
              "status_text": ""
            }
          },
          "base_uri": "https://localhost:8080/",
          "height": 73
        },
        "id": "Q33y_5eoEqgJ",
        "outputId": "a3c196e9-19f7-4af0-b481-2251d0217d7a"
      },
      "source": [
        "from google.colab import files \n",
        "import io\n",
        "uploaded = files.upload()"
      ],
      "execution_count": null,
      "outputs": [
        {
          "output_type": "display_data",
          "data": {
            "text/html": [
              "\n",
              "     <input type=\"file\" id=\"files-32df872a-81ad-44a8-bbd0-dc8ad080e88c\" name=\"files[]\" multiple disabled\n",
              "        style=\"border:none\" />\n",
              "     <output id=\"result-32df872a-81ad-44a8-bbd0-dc8ad080e88c\">\n",
              "      Upload widget is only available when the cell has been executed in the\n",
              "      current browser session. Please rerun this cell to enable.\n",
              "      </output>\n",
              "      <script src=\"/nbextensions/google.colab/files.js\"></script> "
            ],
            "text/plain": [
              "<IPython.core.display.HTML object>"
            ]
          },
          "metadata": {
            "tags": []
          }
        },
        {
          "output_type": "stream",
          "text": [
            "Saving RFD_MLM.py to RFD_MLM.py\n"
          ],
          "name": "stdout"
        }
      ]
    },
    {
      "cell_type": "code",
      "metadata": {
        "id": "EnbquiH7_91b"
      },
      "source": [
        "def to_pandas(X,y):\n",
        "    n = len(X)\n",
        "    return pd.DataFrame(data = np.concatenate((X,y.reshape((n,1))),axis=1),columns=[\"c\"+str(i) for i in range(X.shape[1]+1)])\n",
        "\n",
        "# 6 datasets pour la régression \n",
        "domain = pd.read_csv(\"abalone.domain\",delimiter=\":\", names=[\"column\",\"type\" ])# Pour charger les noms des dolonnes\n",
        "abalone = pd.read_csv(\"abalone.data\",names=domain.column.to_list()) # charher la dataset, \n",
        "\n",
        "domain = pd.read_csv(\"price.domain\",delimiter=\":\", names=[\"column\",\"type\",\"unknow\"])\n",
        "price = pd.read_csv(\"price.data\",names=domain.column.to_list())\n",
        "\n",
        "domain = pd.read_csv(\"housing.domain\",delimiter=\":\", names=[\"column\",\"type\" ])\n",
        "housing = pd.read_csv(\"housing.data\",names=domain.column.to_list())\n",
        "\n",
        "domain = pd.read_csv(\"servo.domain\",delimiter=\":\", names=[\"column\",\"type\" ])\n",
        "servo = pd.read_csv(\"servo.data\",names=domain.column.to_list())\n",
        "\n",
        "# 3 dataset pour la classification\n",
        "cancer = to_pandas(load_breast_cancer().data,load_breast_cancer().target)\n",
        "iris = to_pandas(load_iris().data,load_iris().target)\n",
        "wine = to_pandas(load_wine().data,load_wine().target)\n",
        "diabetes = pd.read_csv(\"diabetes.csv\")\n",
        "\n",
        "\n",
        "\n",
        "\n",
        "def split_and_norm(X,y,name,test_size=1/3):\n",
        "    X_train, X_test, y_train, y_test = train_test_split(X, y, test_size=test_size,random_state=42)    \n",
        "    if name == \"c\":\n",
        "        rus = RandomUnderSampler(random_state=42) # equilibré les proportions de classes\n",
        "        X,y = rus.fit_resample(X,y)\n",
        "        sss = StratifiedShuffleSplit(n_splits=1, test_size=1/3,random_state=42)\n",
        "        for train_idx,test_idx in sss.split(X,y):\n",
        "            X_train,X_test=X[train_idx],X[test_idx]\n",
        "            y_train,y_test=y[train_idx],y[test_idx]\n",
        "    # centrer réduire\n",
        "    mx = X_train.mean(axis=0)\n",
        "    ecart1 = X_train.std(axis=0)\n",
        "    return (X_train-mx)/ecart1,(X_test-mx)/ecart1,y_train,y_test\n",
        "\n",
        "def preprocessing(dataset):\n",
        "    # séparer les colonnes en deux types catégorielles et numériques\n",
        "    cat_col=[col for col in dataset.columns if dataset[col].dtype=='object']\n",
        "    num_col=[col for col in dataset.columns if dataset[col].dtype=='int64' or dataset[col].dtype=='float64']\n",
        "    # garder uniquement les colonnes catégorielles et supprimer les valeurs manquantes \n",
        "    dataset = dataset[num_col].dropna(axis=0)\n",
        "    # 10 pérmutation aléatoire pour mélanger les données \n",
        "\n",
        "    for i in range(10):\n",
        "        dataset=shuffle(dataset,random_state=0)\n",
        "    data = dataset.to_numpy()\n",
        "    size = data.shape[1]\n",
        "    X = data[:,:size-1]\n",
        "    y = data[:,size-1]\n",
        "    return X,y\n"
      ],
      "execution_count": null,
      "outputs": []
    },
    {
      "cell_type": "code",
      "metadata": {
        "id": "4Ve2hR-W-3FU"
      },
      "source": [
        "def rf_test(dataset,name):\n",
        "    X,y = preprocessing(dataset)# pré traiter les données\n",
        "    x_train, x_test, y_train, y_test = split_and_norm(X,y,name,test_size=1/3)# divisier les données et normaliser \n",
        "\n",
        "    if name == 'r':\n",
        "        param_grid = {'max_depth': [10,20,40,60,80,100],\n",
        "              'criterion':['mse'],\n",
        "              'min_samples_split': [2, 5, 10,15],\n",
        "              'n_estimators': [100, 150, 200, 250, 300, 350, 400]}\n",
        "        grid = GridSearchCV(RandomForestRegressor(),param_grid) \n",
        "    elif name =='c':\n",
        "        param_grid = {'max_depth': [10,20,40,60,80,100],\n",
        "              'criterion':['gini'],\n",
        "              'min_samples_split': [2, 5, 10,15],\n",
        "              'n_estimators': [100, 150, 200, 250, 300, 350, 400]}\n",
        "        grid = GridSearchCV(RandomForestClassifier(),param_grid) \n",
        "    # entrainement du modèle \n",
        "    grid.fit(x_train,y_train) \n",
        "    clf = grid.best_estimator_\n",
        "    pred = clf.predict(x_test)# prediction\n",
        "    if name == \"r\":\n",
        "        return mean_squared_error(y_test,pred)\n",
        "    elif name == \"c\":\n",
        "        return accuracy_score(y_test,pred)"
      ],
      "execution_count": null,
      "outputs": []
    },
    {
      "cell_type": "code",
      "metadata": {
        "colab": {
          "base_uri": "https://localhost:8080/"
        },
        "id": "WuoNL_EF_iiZ",
        "outputId": "3f7fa6f8-efcd-4284-aea3-bb08921601e2"
      },
      "source": [
        "for name,ds in ds_regression.items():\n",
        "  print(\"Dataset \"+name+\" ################################\")\n",
        "  print(rf_test(ds,\"r\"))"
      ],
      "execution_count": null,
      "outputs": [
        {
          "output_type": "stream",
          "text": [
            "Dataset servo ################################\n",
            "0.6142018901910943\n",
            "Dataset price ################################\n",
            "3023859.219288678\n",
            "Dataset housing ################################\n",
            "14.379006172255101\n",
            "Dataset abalone ################################\n",
            "5.175021811847339\n"
          ],
          "name": "stdout"
        }
      ]
    },
    {
      "cell_type": "code",
      "metadata": {
        "id": "7cUu5ZjzCG4-"
      },
      "source": [
        "ds_regression = {\"servo\":servo,\"price\":price,\"housing\":housing,\"abalone\":abalone}\n",
        "ds_classification = {\"iris\":iris,\"wine\":wine,\"diabetes\":diabetes,\"cancer\":cancer}\n",
        "RFMLM = {\"regression\":[],\"classification\":[]}\n",
        "RF = {\"regression\":[],\"classification\":[]}\n"
      ],
      "execution_count": null,
      "outputs": []
    },
    {
      "cell_type": "code",
      "metadata": {
        "colab": {
          "base_uri": "https://localhost:8080/"
        },
        "id": "aijCtGTAoeiR",
        "outputId": "c52ceb6d-db48-491c-98bf-afa307e26978"
      },
      "source": [
        "for name,ds in [('price',price)]:\n",
        "  print(\"Dataset \"+name+\" ################################\")\n",
        "  X,y = preprocessing(ds)\n",
        "  l1,l2=[],[]\n",
        "  for i in range(5):\n",
        "    X_train, X_test, y_train, y_test = train_test_split(X, y, test_size=1/3)    \n",
        "    mx,ecart = X_train.mean(0),X_train.std(0)\n",
        "    X_train,X_test = (X_train-mx)/ecart,(X_test-mx)/ecart\n",
        "    clf = rfd_mlm.RFDMLM_Regressor()\n",
        "    clf.fit(X_train,y_train)\n",
        "    rf = RandomForestRegressor()\n",
        "    rf.fit(X_train,y_train)\n",
        "\n",
        "    l1.append(mean_squared_error(y_test,clf.predict(X_test)))\n",
        "    l2.append(mean_squared_error(y_test,rf.predict(X_test)))\n",
        "  RFMLM[\"regression\"].append(np.mean(l1))\n",
        "  RF[\"regression\"].append(np.mean(l2))\n",
        "  \n",
        "  print(\"RFMLM results : \",RFMLM[\"regression\"][-1])\n",
        "  print(\"RF results : \",RF[\"regression\"][-1])\n"
      ],
      "execution_count": null,
      "outputs": [
        {
          "output_type": "stream",
          "text": [
            "Dataset price ################################\n",
            "RFMLM results :  10402140.547713151\n",
            "RF results :  3973929.214945833\n"
          ],
          "name": "stdout"
        }
      ]
    },
    {
      "cell_type": "code",
      "metadata": {
        "colab": {
          "base_uri": "https://localhost:8080/"
        },
        "id": "d15ng398WTd6",
        "outputId": "dbcf6b7d-e8dd-4898-ae58-d0063e7627fa"
      },
      "source": [
        "for name,ds in ds_classification.items():\n",
        "  print(\"Dataset \"+name+\" ################################\")\n",
        "  X,y = preprocessing(ds)\n",
        "  rus = RandomUnderSampler(random_state=42) # equilibré les proportions de classes\n",
        "  X,y = rus.fit_resample(X,y)\n",
        "  l1,l2=[],[]\n",
        "  for i in range(5):\n",
        "    X_train, X_test, y_train, y_test = train_test_split(X, y, test_size=1/3)    \n",
        "    mx,ecart = X_train.mean(0),X_train.std(0)\n",
        "    X_train,X_test = (X_train-mx)/ecart,(X_test-mx)/ecart\n",
        "    clf = rfd_mlm.RFDMLM_Classifier()\n",
        "    clf.fit(X_train,y_train)\n",
        "    rf = RandomForestClassifier()\n",
        "    rf.fit(X_train,y_train)\n",
        "\n",
        "    l1.append(accuracy_score(y_test,clf.predict(X_test)))\n",
        "    l2.append(accuracy_score(y_test,rf.predict(X_test)))\n",
        "  RFMLM[\"classification\"].append(np.mean(l1))\n",
        "  RF[\"classification\"].append(np.mean(l2))\n",
        "  \n",
        "  print(\"RFMLM results : \",RFMLM[\"classification\"][-1])\n",
        "  print(\"RF results : \",RF[\"classification\"][-1])\n"
      ],
      "execution_count": null,
      "outputs": [
        {
          "output_type": "stream",
          "text": [
            "Dataset iris ################################\n",
            "RFMLM results :  0.9359999999999999\n",
            "RF results :  0.9359999999999999\n",
            "Dataset wine ################################\n",
            "RFMLM results :  0.9625\n",
            "RF results :  0.975\n",
            "Dataset diabetes ################################\n",
            "RFMLM results :  0.7396648044692737\n",
            "RF results :  0.7508379888268156\n",
            "Dataset cancer ################################\n",
            "RFMLM results :  0.9690140845070422\n",
            "RF results :  0.9633802816901408\n"
          ],
          "name": "stdout"
        }
      ]
    },
    {
      "cell_type": "code",
      "metadata": {
        "colab": {
          "base_uri": "https://localhost:8080/"
        },
        "id": "euo7mu3IjUYe",
        "outputId": "4796f76a-348f-4772-ef4b-7505ea7a872f"
      },
      "source": [
        " from collections import Counter\n",
        "RF,RFMLM"
      ],
      "execution_count": null,
      "outputs": [
        {
          "output_type": "execute_result",
          "data": {
            "text/plain": [
              "({'classification': [0.9359999999999999,\n",
              "   0.975,\n",
              "   0.7508379888268156,\n",
              "   0.9633802816901408],\n",
              "  'regression': [1.1498193166748405,\n",
              "   5746245.372060936,\n",
              "   13.509830106508872,\n",
              "   4.801612950466618]},\n",
              " {'classification': [0.9359999999999999,\n",
              "   0.9625,\n",
              "   0.7396648044692737,\n",
              "   0.9690140845070422],\n",
              "  'regression': [1.151710651545938,\n",
              "   30016305.74791224,\n",
              "   12.197427018143403,\n",
              "   5.15553863953056]})"
            ]
          },
          "metadata": {
            "tags": []
          },
          "execution_count": 36
        }
      ]
    },
    {
      "cell_type": "code",
      "metadata": {
        "colab": {
          "base_uri": "https://localhost:8080/"
        },
        "id": "bCit7lojXnMA",
        "outputId": "336855fb-d958-44b7-ee2f-941c62ddee3a"
      },
      "source": [
        "X,y = preprocessing(servo)\n",
        "X_train,X_test,y_train,y_test = split_and_norm(X,y,'r')\n",
        "clf = RandomForestRegressor().fit(X_train,y_train)\n",
        "pred = clf.predict(X_test)\n",
        "mean_squared_error(pred,y_test)"
      ],
      "execution_count": null,
      "outputs": [
        {
          "output_type": "execute_result",
          "data": {
            "text/plain": [
              "0.5914366840174965"
            ]
          },
          "metadata": {
            "tags": []
          },
          "execution_count": 10
        }
      ]
    },
    {
      "cell_type": "code",
      "metadata": {
        "colab": {
          "base_uri": "https://localhost:8080/"
        },
        "id": "VsbjSp5KoE5Z",
        "outputId": "050dc9b4-9ce0-445c-ec9d-343804204f4b"
      },
      "source": [
        "sr"
      ],
      "execution_count": null,
      "outputs": [
        {
          "output_type": "execute_result",
          "data": {
            "text/plain": [
              "[(0.6341922839553853, 0.6145731263797768),\n",
              " (3597756.054615723, 3133466.796971698),\n",
              " (5.743125314363903, 5.337364249820532),\n",
              " (11.941279854856484, 13.445936473372788)]"
            ]
          },
          "metadata": {
            "tags": []
          },
          "execution_count": 11
        }
      ]
    },
    {
      "cell_type": "code",
      "metadata": {
        "id": "m0fmzY3Uwn5C"
      },
      "source": [
        "param_grid = {'max_depth': [10,20,40,60,80,100],\n",
        "              'criterion':['mse'],\n",
        "              'min_samples_split': [2, 5, 10,15],\n",
        "              'n_estimators': [100, 150, 200, 250, 300, 350, 400]}"
      ],
      "execution_count": null,
      "outputs": []
    },
    {
      "cell_type": "code",
      "metadata": {
        "colab": {
          "base_uri": "https://localhost:8080/"
        },
        "id": "qqLjZG_z2jsb",
        "outputId": "44620e19-f4bd-40c2-b333-bbb1de497d5b"
      },
      "source": [
        "for name,ds in ds_regression.items():\n",
        "  print(\"Dataset \"+name+\" #####################################\")\n",
        "  grid = GridSearchCV(RandomForestRegressor(),param_grid) \n",
        "  X,y = preprocessing(ds)\n",
        "  X_train,X_test,y_train,y_test = split_and_norm(X,y,'r')\n",
        "  grid.fit(X_train,y_train)\n",
        "  pred = grid.best_estimator_.predict(X_test)\n",
        "  print(mean_squared_error(y_test,pred))"
      ],
      "execution_count": null,
      "outputs": [
        {
          "output_type": "stream",
          "text": [
            "Dataset servo #####################################\n",
            "0.614681682875987\n",
            "Dataset price #####################################\n",
            "3030979.3377699293\n",
            "Dataset housing #####################################\n",
            "14.009710023298803\n",
            "Dataset abalone #####################################\n",
            "5.17021641860689\n"
          ],
          "name": "stdout"
        }
      ]
    },
    {
      "cell_type": "code",
      "metadata": {
        "colab": {
          "base_uri": "https://localhost:8080/"
        },
        "id": "VKy7gI2zC_zv",
        "outputId": "50e0d6c5-d946-449e-e296-59a32840f93a"
      },
      "source": [
        "param_grid = {'max_depth': [10,20,40,60,80,100],\n",
        "              'criterion':['gini'],\n",
        "              'min_samples_split': [2, 5, 10,15],\n",
        "              'n_estimators': [100, 150, 200, 250, 300, 350, 400]}\n",
        "for name,ds in ds_classification.items():\n",
        "  print(\"Dataset \"+name+\" #####################################\")\n",
        "  grid = GridSearchCV(RandomForestClassifier(),param_grid) \n",
        "  X,y = preprocessing(ds)\n",
        "  X_train,X_test,y_train,y_test = split_and_norm(X,y,'c')\n",
        "  grid.fit(X_train,y_train)\n",
        "  pred = grid.best_estimator_.predict(X_test)\n",
        "  print(accuracy_score(y_test,pred))"
      ],
      "execution_count": null,
      "outputs": [
        {
          "output_type": "stream",
          "text": [
            "Dataset iris #####################################\n",
            "0.96\n",
            "Dataset wine #####################################\n",
            "0.9583333333333334\n",
            "Dataset diabetes #####################################\n",
            "0.7932960893854749\n",
            "Dataset cancer #####################################\n",
            "0.9577464788732394\n"
          ],
          "name": "stdout"
        }
      ]
    },
    {
      "cell_type": "markdown",
      "metadata": {
        "id": "ONK4ovQvR3be"
      },
      "source": [
        "## Compare RFD_MLM and RF in high dimensionality"
      ]
    },
    {
      "cell_type": "code",
      "metadata": {
        "colab": {
          "background_save": true,
          "base_uri": "https://localhost:8080/"
        },
        "id": "iVHIdffeL5mu",
        "outputId": "71c05243-e105-4340-a8b3-88e299837408"
      },
      "source": [
        "s = []\n",
        "for i in range(1,31):\n",
        "    X, y = make_classification(n_samples=i*400, n_features=i*40, n_redundant=0, n_informative=2,n_classes=3,\n",
        "                               random_state=42, n_clusters_per_class=1)\n",
        "    df = to_pandas(X,y)\n",
        "    X,y = preprocessing(df)\n",
        "    X_train,X_test,y_train,y_test = split_and_norm(X,y,\"c\")\n",
        "\n",
        "\n",
        "    rfd_c = rfd_mlm.RFDMLM_Classifier()\n",
        "    rfd_c.fit(X_train,y_train)\n",
        "    s.append(accuracy_score(y_test,rfd_c.predict(X_test)))\n",
        "    print(\"RF : \",s[-1])\n"
      ],
      "execution_count": null,
      "outputs": [
        {
          "output_type": "stream",
          "text": [
            "RF :  0.8257575757575758\n",
            "RF :  0.8458646616541353\n",
            "RF :  0.8517587939698492\n",
            "RF :  0.832391713747646\n",
            "RF :  0.8954545454545455\n",
            "RF :  0.9459119496855346\n",
            "RF :  0.8258064516129032\n",
            "RF :  0.7768361581920904\n",
            "RF :  0.9382303839732888\n",
            "RF :  0.837593984962406\n",
            "RF :  0.8824333561175667\n",
            "RF :  0.9755485893416928\n",
            "RF :  0.8212420197330238\n",
            "RF :  0.8641975308641975\n",
            "RF :  0.8471943887775552\n",
            "RF :  0.8352112676056338\n",
            "RF :  0.9194333776007083\n",
            "RF :  0.8604262432093607\n",
            "RF :  0.8912183544303798\n",
            "RF :  0.8613935969868173\n",
            "RF :  0.8444762245262781\n",
            "RF :  0.9137872049264454\n",
            "RF :  0.957530218882718\n",
            "RF :  0.8181818181818182\n",
            "RF :  0.9368231046931408\n",
            "RF :  0.9246100519930676\n",
            "RF :  0.8970219871973282\n",
            "RF :  0.8943982846421871\n",
            "RF :  0.916882444329363\n",
            "RF :  0.8864377036851341\n"
          ],
          "name": "stdout"
        }
      ]
    },
    {
      "cell_type": "code",
      "metadata": {
        "colab": {
          "base_uri": "https://localhost:8080/"
        },
        "id": "FDZspHKHgAPj",
        "outputId": "a497b793-c45e-4d94-ddb9-5fe34aa482a8"
      },
      "source": [
        " X, y = make_classification(n_samples=200, n_features=10, n_redundant=0, n_informative=2,n_classes=3,\n",
        "                               random_state=42, n_clusters_per_class=1)\n",
        " X[0]"
      ],
      "execution_count": null,
      "outputs": [
        {
          "output_type": "execute_result",
          "data": {
            "text/plain": [
              "array([ 0.01035262,  0.65511414, -0.1869713 ,  1.52522257, -0.6095122 ,\n",
              "       -0.3052247 ,  0.55781031, -1.06511366, -1.31183623,  1.39020755])"
            ]
          },
          "metadata": {
            "tags": []
          },
          "execution_count": 10
        }
      ]
    },
    {
      "cell_type": "code",
      "metadata": {
        "colab": {
          "base_uri": "https://localhost:8080/"
        },
        "id": "1SjxBVvNS-SC",
        "outputId": "ad7b5b19-13c0-4679-ac7f-cbd58c67735c"
      },
      "source": [
        "rfd_mlm"
      ],
      "execution_count": null,
      "outputs": [
        {
          "output_type": "execute_result",
          "data": {
            "text/plain": [
              "<RFD_MLM.RFDMLM_Classifier at 0x7f79224e3f90>"
            ]
          },
          "metadata": {
            "tags": []
          },
          "execution_count": 9
        }
      ]
    },
    {
      "cell_type": "code",
      "metadata": {
        "colab": {
          "base_uri": "https://localhost:8080/"
        },
        "id": "jHuKuYaXAo8e",
        "outputId": "ecd52840-2263-40e3-e37b-4be47bd05bd9"
      },
      "source": [
        "s_r = []\n",
        "for i in range(1,30):\n",
        "    X, y = make_regression(n_samples=i*100, n_features=i*10, n_informative=2,\n",
        "                               random_state=42)\n",
        "    df = to_pandas(X,y)\n",
        "    X,y = preprocessing(df)\n",
        "    X_train,X_test,y_train,y_test = split_and_norm(X,y,\"r\")\n",
        "\n",
        "\n",
        "    rfd_c = rfd_mlm.RFDMLM_Regressor()\n",
        "    rfd_c.fit(X_train,y_train)\n",
        "    s_r.append(mean_squared_error(y_test,rfd_c.predict(X_test)))\n",
        "    print(\"RF : \",s_r[-1])"
      ],
      "execution_count": null,
      "outputs": [
        {
          "output_type": "stream",
          "text": [
            "RF :  29.68511240097921\n",
            "RF :  69.57437242398458\n",
            "RF :  989.4040119175385\n",
            "RF :  688.0442581593887\n",
            "RF :  819.4488601020369\n",
            "RF :  634.0161792389123\n",
            "RF :  171.97592864756328\n",
            "RF :  18.222135354525076\n",
            "RF :  123.16725341044071\n",
            "RF :  100.04829454532984\n",
            "RF :  160.55691619250024\n",
            "RF :  117.48715071426872\n",
            "RF :  68.70789279537149\n",
            "RF :  124.54294086276398\n",
            "RF :  30.647246430409506\n",
            "RF :  58.89883266748135\n",
            "RF :  64.70174407111634\n",
            "RF :  12.505911136707095\n",
            "RF :  18.950361871805768\n",
            "RF :  84.79346440501247\n",
            "RF :  303.5664263275131\n",
            "RF :  29.12822026855631\n",
            "RF :  49.610707318100204\n",
            "RF :  127.60446748134241\n",
            "RF :  211.6011854274029\n",
            "RF :  36.767163706737314\n",
            "RF :  11.767203934452208\n",
            "RF :  98.00849368388984\n",
            "RF :  62.168630713209694\n"
          ],
          "name": "stdout"
        }
      ]
    },
    {
      "cell_type": "code",
      "metadata": {
        "id": "iwwZQ4_PMTMf"
      },
      "source": [
        ""
      ],
      "execution_count": null,
      "outputs": []
    }
  ]
}