{
 "cells": [
  {
   "cell_type": "code",
   "execution_count": 1,
   "metadata": {
    "scrolled": false
   },
   "outputs": [],
   "source": [
    "import matplotlib.pyplot as plt\n",
    "import numpy as np\n",
    "import pandas as pd\n",
    "import seaborn as sns\n",
    "from skmlm import MLM,MLMC,NN_MLM,OS_MLM,FCM_MLM\n",
    "from sklearn.metrics import mean_squared_error\n",
    "from sklearn.pipeline import make_pipeline\n",
    "from sklearn.preprocessing import StandardScaler,MinMaxScaler\n",
    "from sklearn.svm import SVR,SVC\n",
    "from sklearn.ensemble import RandomForestRegressor, RandomForestClassifier\n",
    "#from sklearn.tree import DecisionTreeClassifier,DecisionTreeRegressor\n",
    "from sklearn.model_selection import train_test_split,GridSearchCV,StratifiedShuffleSplit,cross_val_score\n",
    "sns.set_theme(style=\"darkgrid\")\n",
    "from sklearn.utils import shuffle\n",
    "from imblearn.under_sampling import RandomUnderSampler\n",
    "import time\n",
    "from sklearn.metrics import accuracy_score, jaccard_score, precision_score\n",
    "import RFD_MLM as mlm\n",
    "import warnings\n",
    "warnings.filterwarnings('ignore')"
   ]
  },
  {
   "cell_type": "code",
   "execution_count": 2,
   "metadata": {},
   "outputs": [],
   "source": [
    "from sklearn.datasets import load_iris,load_wine,load_breast_cancer"
   ]
  },
  {
   "cell_type": "markdown",
   "metadata": {},
   "source": [
    "## 1. Préparations des données"
   ]
  },
  {
   "cell_type": "markdown",
   "metadata": {},
   "source": [
    "### 1.1 Chargement de données "
   ]
  },
  {
   "cell_type": "code",
   "execution_count": 3,
   "metadata": {},
   "outputs": [],
   "source": [
    "def to_pandas(X,y):\n",
    "    n = len(X)\n",
    "    return pd.DataFrame(data = np.concatenate((X,y.reshape((n,1))),axis=1),columns=[\"c\"+str(i) for i in range(X.shape[1]+1)])\n",
    "\n",
    "# 6 datasets pour la régression \n",
    "domain = pd.read_csv(\"data/abalone.domain\",delimiter=\":\", names=[\"column\",\"type\" ])# Pour charger les noms des dolonnes\n",
    "abalone = pd.read_csv(\"data/abalone.data\",names=domain.column.to_list()) # charher la dataset, \n",
    "\n",
    "domain = pd.read_csv(\"data/price.domain\",delimiter=\":\", names=[\"column\",\"type\",\"unknow\"])\n",
    "price = pd.read_csv(\"data/price.data\",names=domain.column.to_list())\n",
    "\n",
    "domain = pd.read_csv(\"data/housing.domain\",delimiter=\":\", names=[\"column\",\"type\" ])\n",
    "housing = pd.read_csv(\"data/housing.data\",names=domain.column.to_list())\n",
    "\n",
    "domain = pd.read_csv(\"data/servo.domain\",delimiter=\":\", names=[\"column\",\"type\" ])\n",
    "servo = pd.read_csv(\"data/servo.data\",names=domain.column.to_list())\n",
    "\n",
    "# 3 dataset pour la classification\n",
    "cancer = to_pandas(load_breast_cancer().data,load_breast_cancer().target)\n",
    "iris = to_pandas(load_iris().data,load_iris().target)\n",
    "wine = to_pandas(load_wine().data,load_wine().target)\n",
    "diabetes = pd.read_csv(\"data/diabetes.csv\")\n"
   ]
  },
  {
   "cell_type": "code",
   "execution_count": 8,
   "metadata": {},
   "outputs": [
    {
     "name": "stdout",
     "output_type": "stream",
     "text": [
      "Les dimensions des données :\n",
      "Servo         : (167, 5)\n",
      "Abalone       : (4177, 9)\n",
      "housing       : (506, 14)\n",
      "Auto price    : (159, 16)\n",
      "breast_cancer : (569, 31)\n",
      "iris          : (150, 5)\n",
      "wine          : (178, 14)\n",
      "Diabetes      : (768, 9)\n"
     ]
    }
   ],
   "source": [
    "print(\"Les dimensions des données :\")\n",
    "print(\"Servo         :\",servo.shape)\n",
    "print(\"Abalone       :\",abalone.shape)\n",
    "print(\"housing       :\",housing.shape)\n",
    "print(\"Auto price    :\", price.shape)\n",
    "print(\"breast_cancer :\",cancer.shape)\n",
    "print(\"iris          :\",iris.shape)\n",
    "print(\"wine          :\",wine.shape)\n",
    "print(\"Diabetes      :\",diabetes.shape)"
   ]
  },
  {
   "cell_type": "code",
   "execution_count": 5,
   "metadata": {},
   "outputs": [
    {
     "data": {
      "text/html": [
       "<div>\n",
       "<style scoped>\n",
       "    .dataframe tbody tr th:only-of-type {\n",
       "        vertical-align: middle;\n",
       "    }\n",
       "\n",
       "    .dataframe tbody tr th {\n",
       "        vertical-align: top;\n",
       "    }\n",
       "\n",
       "    .dataframe thead th {\n",
       "        text-align: right;\n",
       "    }\n",
       "</style>\n",
       "<table border=\"1\" class=\"dataframe\">\n",
       "  <thead>\n",
       "    <tr style=\"text-align: right;\">\n",
       "      <th></th>\n",
       "      <th>motor</th>\n",
       "      <th>screw</th>\n",
       "      <th>pgain</th>\n",
       "      <th>vgain</th>\n",
       "      <th>class</th>\n",
       "    </tr>\n",
       "  </thead>\n",
       "  <tbody>\n",
       "    <tr>\n",
       "      <th>0</th>\n",
       "      <td>E</td>\n",
       "      <td>E</td>\n",
       "      <td>5</td>\n",
       "      <td>4</td>\n",
       "      <td>0.281251</td>\n",
       "    </tr>\n",
       "    <tr>\n",
       "      <th>1</th>\n",
       "      <td>B</td>\n",
       "      <td>D</td>\n",
       "      <td>6</td>\n",
       "      <td>5</td>\n",
       "      <td>0.506252</td>\n",
       "    </tr>\n",
       "  </tbody>\n",
       "</table>\n",
       "</div>"
      ],
      "text/plain": [
       "  motor screw  pgain  vgain     class\n",
       "0     E     E      5      4  0.281251\n",
       "1     B     D      6      5  0.506252"
      ]
     },
     "execution_count": 5,
     "metadata": {},
     "output_type": "execute_result"
    }
   ],
   "source": [
    "servo.head(2)"
   ]
  },
  {
   "cell_type": "code",
   "execution_count": 6,
   "metadata": {},
   "outputs": [
    {
     "data": {
      "text/html": [
       "<div>\n",
       "<style scoped>\n",
       "    .dataframe tbody tr th:only-of-type {\n",
       "        vertical-align: middle;\n",
       "    }\n",
       "\n",
       "    .dataframe tbody tr th {\n",
       "        vertical-align: top;\n",
       "    }\n",
       "\n",
       "    .dataframe thead th {\n",
       "        text-align: right;\n",
       "    }\n",
       "</style>\n",
       "<table border=\"1\" class=\"dataframe\">\n",
       "  <thead>\n",
       "    <tr style=\"text-align: right;\">\n",
       "      <th></th>\n",
       "      <th>sex</th>\n",
       "      <th>length</th>\n",
       "      <th>diameter</th>\n",
       "      <th>height</th>\n",
       "      <th>whole weight</th>\n",
       "      <th>shucked weight</th>\n",
       "      <th>viscera weight</th>\n",
       "      <th>shell weight</th>\n",
       "      <th>rings</th>\n",
       "    </tr>\n",
       "  </thead>\n",
       "  <tbody>\n",
       "    <tr>\n",
       "      <th>0</th>\n",
       "      <td>M</td>\n",
       "      <td>0.455</td>\n",
       "      <td>0.365</td>\n",
       "      <td>0.095</td>\n",
       "      <td>0.5140</td>\n",
       "      <td>0.2245</td>\n",
       "      <td>0.1010</td>\n",
       "      <td>0.15</td>\n",
       "      <td>15</td>\n",
       "    </tr>\n",
       "    <tr>\n",
       "      <th>1</th>\n",
       "      <td>M</td>\n",
       "      <td>0.350</td>\n",
       "      <td>0.265</td>\n",
       "      <td>0.090</td>\n",
       "      <td>0.2255</td>\n",
       "      <td>0.0995</td>\n",
       "      <td>0.0485</td>\n",
       "      <td>0.07</td>\n",
       "      <td>7</td>\n",
       "    </tr>\n",
       "  </tbody>\n",
       "</table>\n",
       "</div>"
      ],
      "text/plain": [
       "  sex   length   diameter  height  whole weight  shucked weight  \\\n",
       "0    M    0.455     0.365   0.095        0.5140          0.2245   \n",
       "1    M    0.350     0.265   0.090        0.2255          0.0995   \n",
       "\n",
       "   viscera weight  shell weight  rings  \n",
       "0          0.1010          0.15     15  \n",
       "1          0.0485          0.07      7  "
      ]
     },
     "execution_count": 6,
     "metadata": {},
     "output_type": "execute_result"
    }
   ],
   "source": [
    "abalone.head(2)"
   ]
  },
  {
   "cell_type": "code",
   "execution_count": 7,
   "metadata": {},
   "outputs": [
    {
     "data": {
      "text/html": [
       "<div>\n",
       "<style scoped>\n",
       "    .dataframe tbody tr th:only-of-type {\n",
       "        vertical-align: middle;\n",
       "    }\n",
       "\n",
       "    .dataframe tbody tr th {\n",
       "        vertical-align: top;\n",
       "    }\n",
       "\n",
       "    .dataframe thead th {\n",
       "        text-align: right;\n",
       "    }\n",
       "</style>\n",
       "<table border=\"1\" class=\"dataframe\">\n",
       "  <thead>\n",
       "    <tr style=\"text-align: right;\">\n",
       "      <th></th>\n",
       "      <th>CRIM</th>\n",
       "      <th>ZN</th>\n",
       "      <th>INDUS</th>\n",
       "      <th>CHAS</th>\n",
       "      <th>NOX</th>\n",
       "      <th>RM</th>\n",
       "      <th>AGE</th>\n",
       "      <th>DIS</th>\n",
       "      <th>RAD</th>\n",
       "      <th>TAX</th>\n",
       "      <th>PTRATIO</th>\n",
       "      <th>B</th>\n",
       "      <th>LSTAT</th>\n",
       "      <th>class</th>\n",
       "    </tr>\n",
       "  </thead>\n",
       "  <tbody>\n",
       "    <tr>\n",
       "      <th>0</th>\n",
       "      <td>0.006</td>\n",
       "      <td>18.0</td>\n",
       "      <td>2.31</td>\n",
       "      <td>0</td>\n",
       "      <td>0.538</td>\n",
       "      <td>6.575</td>\n",
       "      <td>65.2</td>\n",
       "      <td>4.090</td>\n",
       "      <td>1</td>\n",
       "      <td>296.0</td>\n",
       "      <td>15.3</td>\n",
       "      <td>396.898</td>\n",
       "      <td>4.98</td>\n",
       "      <td>24.0</td>\n",
       "    </tr>\n",
       "    <tr>\n",
       "      <th>1</th>\n",
       "      <td>0.027</td>\n",
       "      <td>0.0</td>\n",
       "      <td>7.07</td>\n",
       "      <td>0</td>\n",
       "      <td>0.469</td>\n",
       "      <td>6.421</td>\n",
       "      <td>78.9</td>\n",
       "      <td>4.967</td>\n",
       "      <td>2</td>\n",
       "      <td>242.0</td>\n",
       "      <td>17.8</td>\n",
       "      <td>396.898</td>\n",
       "      <td>9.14</td>\n",
       "      <td>21.6</td>\n",
       "    </tr>\n",
       "  </tbody>\n",
       "</table>\n",
       "</div>"
      ],
      "text/plain": [
       "    CRIM    ZN  INDUS  CHAS    NOX     RM   AGE    DIS  RAD    TAX  PTRATIO  \\\n",
       "0  0.006  18.0   2.31     0  0.538  6.575  65.2  4.090    1  296.0     15.3   \n",
       "1  0.027   0.0   7.07     0  0.469  6.421  78.9  4.967    2  242.0     17.8   \n",
       "\n",
       "         B  LSTAT  class   \n",
       "0  396.898   4.98    24.0  \n",
       "1  396.898   9.14    21.6  "
      ]
     },
     "execution_count": 7,
     "metadata": {},
     "output_type": "execute_result"
    }
   ],
   "source": [
    "housing.head(2)"
   ]
  },
  {
   "cell_type": "code",
   "execution_count": 8,
   "metadata": {},
   "outputs": [
    {
     "data": {
      "text/html": [
       "<div>\n",
       "<style scoped>\n",
       "    .dataframe tbody tr th:only-of-type {\n",
       "        vertical-align: middle;\n",
       "    }\n",
       "\n",
       "    .dataframe tbody tr th {\n",
       "        vertical-align: top;\n",
       "    }\n",
       "\n",
       "    .dataframe thead th {\n",
       "        text-align: right;\n",
       "    }\n",
       "</style>\n",
       "<table border=\"1\" class=\"dataframe\">\n",
       "  <thead>\n",
       "    <tr style=\"text-align: right;\">\n",
       "      <th></th>\n",
       "      <th>symboling</th>\n",
       "      <th>normalized-losses</th>\n",
       "      <th>wheel-base</th>\n",
       "      <th>length</th>\n",
       "      <th>width</th>\n",
       "      <th>height</th>\n",
       "      <th>curb-weight</th>\n",
       "      <th>engine-size</th>\n",
       "      <th>bore</th>\n",
       "      <th>stroke</th>\n",
       "      <th>compression-ratio</th>\n",
       "      <th>horsepower</th>\n",
       "      <th>peak-rpm</th>\n",
       "      <th>city-mpg</th>\n",
       "      <th>highway-mpg</th>\n",
       "      <th>price</th>\n",
       "    </tr>\n",
       "  </thead>\n",
       "  <tbody>\n",
       "    <tr>\n",
       "      <th>0</th>\n",
       "      <td>2</td>\n",
       "      <td>164</td>\n",
       "      <td>99.8</td>\n",
       "      <td>176.6</td>\n",
       "      <td>66.2</td>\n",
       "      <td>54.3</td>\n",
       "      <td>2337</td>\n",
       "      <td>109</td>\n",
       "      <td>3.19</td>\n",
       "      <td>3.4</td>\n",
       "      <td>10.0</td>\n",
       "      <td>102</td>\n",
       "      <td>5500</td>\n",
       "      <td>24</td>\n",
       "      <td>30</td>\n",
       "      <td>13950</td>\n",
       "    </tr>\n",
       "    <tr>\n",
       "      <th>1</th>\n",
       "      <td>2</td>\n",
       "      <td>164</td>\n",
       "      <td>99.4</td>\n",
       "      <td>176.6</td>\n",
       "      <td>66.4</td>\n",
       "      <td>54.3</td>\n",
       "      <td>2824</td>\n",
       "      <td>136</td>\n",
       "      <td>3.19</td>\n",
       "      <td>3.4</td>\n",
       "      <td>8.0</td>\n",
       "      <td>115</td>\n",
       "      <td>5500</td>\n",
       "      <td>18</td>\n",
       "      <td>22</td>\n",
       "      <td>17450</td>\n",
       "    </tr>\n",
       "  </tbody>\n",
       "</table>\n",
       "</div>"
      ],
      "text/plain": [
       "   symboling  normalized-losses  wheel-base  length  width  height  \\\n",
       "0          2                164        99.8   176.6   66.2    54.3   \n",
       "1          2                164        99.4   176.6   66.4    54.3   \n",
       "\n",
       "   curb-weight  engine-size  bore  stroke  compression-ratio  horsepower  \\\n",
       "0         2337          109  3.19     3.4               10.0         102   \n",
       "1         2824          136  3.19     3.4                8.0         115   \n",
       "\n",
       "   peak-rpm  city-mpg  highway-mpg  price  \n",
       "0      5500        24           30  13950  \n",
       "1      5500        18           22  17450  "
      ]
     },
     "execution_count": 8,
     "metadata": {},
     "output_type": "execute_result"
    }
   ],
   "source": [
    "price.head(2)"
   ]
  },
  {
   "cell_type": "code",
   "execution_count": 9,
   "metadata": {},
   "outputs": [
    {
     "data": {
      "text/html": [
       "<div>\n",
       "<style scoped>\n",
       "    .dataframe tbody tr th:only-of-type {\n",
       "        vertical-align: middle;\n",
       "    }\n",
       "\n",
       "    .dataframe tbody tr th {\n",
       "        vertical-align: top;\n",
       "    }\n",
       "\n",
       "    .dataframe thead th {\n",
       "        text-align: right;\n",
       "    }\n",
       "</style>\n",
       "<table border=\"1\" class=\"dataframe\">\n",
       "  <thead>\n",
       "    <tr style=\"text-align: right;\">\n",
       "      <th></th>\n",
       "      <th>Pregnancies</th>\n",
       "      <th>Glucose</th>\n",
       "      <th>BloodPressure</th>\n",
       "      <th>SkinThickness</th>\n",
       "      <th>Insulin</th>\n",
       "      <th>BMI</th>\n",
       "      <th>DiabetesPedigreeFunction</th>\n",
       "      <th>Age</th>\n",
       "      <th>Outcome</th>\n",
       "    </tr>\n",
       "  </thead>\n",
       "  <tbody>\n",
       "    <tr>\n",
       "      <th>0</th>\n",
       "      <td>6</td>\n",
       "      <td>148</td>\n",
       "      <td>72</td>\n",
       "      <td>35</td>\n",
       "      <td>0</td>\n",
       "      <td>33.6</td>\n",
       "      <td>0.627</td>\n",
       "      <td>50</td>\n",
       "      <td>1</td>\n",
       "    </tr>\n",
       "    <tr>\n",
       "      <th>1</th>\n",
       "      <td>1</td>\n",
       "      <td>85</td>\n",
       "      <td>66</td>\n",
       "      <td>29</td>\n",
       "      <td>0</td>\n",
       "      <td>26.6</td>\n",
       "      <td>0.351</td>\n",
       "      <td>31</td>\n",
       "      <td>0</td>\n",
       "    </tr>\n",
       "  </tbody>\n",
       "</table>\n",
       "</div>"
      ],
      "text/plain": [
       "   Pregnancies  Glucose  BloodPressure  SkinThickness  Insulin   BMI  \\\n",
       "0            6      148             72             35        0  33.6   \n",
       "1            1       85             66             29        0  26.6   \n",
       "\n",
       "   DiabetesPedigreeFunction  Age  Outcome  \n",
       "0                     0.627   50        1  \n",
       "1                     0.351   31        0  "
      ]
     },
     "execution_count": 9,
     "metadata": {},
     "output_type": "execute_result"
    }
   ],
   "source": [
    "diabetes.head(2)"
   ]
  },
  {
   "cell_type": "markdown",
   "metadata": {},
   "source": [
    "### 1.2 Prétraitements"
   ]
  },
  {
   "cell_type": "code",
   "execution_count": 4,
   "metadata": {},
   "outputs": [],
   "source": [
    "\n",
    "def split_and_norm(X,y,name,test_size=1/3):\n",
    "    X_train, X_test, y_train, y_test = train_test_split(X, y, test_size=test_size,random_state=42)    \n",
    "    if name == \"c\":\n",
    "        rus = RandomUnderSampler(random_state=42) # equilibré les proportions de classes\n",
    "        X,y = rus.fit_resample(X,y)\n",
    "        sss = StratifiedShuffleSplit(n_splits=1, test_size=1/3,random_state=42)\n",
    "        for train_idx,test_idx in sss.split(X,y):\n",
    "            X_train,X_test=X[train_idx],X[test_idx]\n",
    "            y_train,y_test=y[train_idx],y[test_idx]\n",
    "    # centrer réduire\n",
    "    mx = X_train.mean(axis=0)\n",
    "    ecart1 = X_train.std(axis=0)\n",
    "    return (X_train-mx)/ecart1,(X_test-mx)/ecart1,y_train,y_test\n",
    "\n",
    "def preprocessing(dataset):\n",
    "    # séparer les colonnes en deux types catégorielles et numériques\n",
    "    cat_col=[col for col in dataset.columns if dataset[col].dtype=='object']\n",
    "    num_col=[col for col in dataset.columns if dataset[col].dtype=='int64' or dataset[col].dtype=='float64']\n",
    "    # garder uniquement les colonnes catégorielles et supprimer les valeurs manquantes \n",
    "    dataset = dataset[num_col].dropna(axis=0)\n",
    "    # 10 pérmutation aléatoire pour mélanger les données \n",
    "\n",
    "    for i in range(10):\n",
    "        dataset=shuffle(dataset,random_state=0)\n",
    "    data = dataset.to_numpy()\n",
    "    size = data.shape[1]\n",
    "    X = data[:,:size-1]\n",
    "    y = data[:,size-1]\n",
    "    return X,y\n"
   ]
  },
  {
   "cell_type": "code",
   "execution_count": 7,
   "metadata": {},
   "outputs": [],
   "source": [
    "def mlm_test(dataset,name,dist=\"euclidean\"):\n",
    "    L = []\n",
    "    X,y = preprocessing(dataset)\n",
    "    X_train, X_test, y_train, y_test = split_and_norm(X,y,name,test_size=1/3)\n",
    "    y_train = y_train.reshape((len(y_train),1))\n",
    "    y_test = y_test.reshape((len(y_test),1))\n",
    "    if name == \"r\":\n",
    "        for i in np.arange(5,105,5): \n",
    "            clf = MLM(rp_number=i/100,dist = dist)\n",
    "            clf.fit(X_train,y_train)\n",
    "            ypred = clf.predict(X_test)\n",
    "            L.append((mean_squared_error(ypred,y_test),i/100))\n",
    "        return sorted(L, key = lambda couple : couple[0])[0]\n",
    "    elif name== \"c\" :\n",
    "\n",
    "        for i in np.arange(5,105,5): \n",
    "            clf = NN_MLM(rp_number=i/100,dist=dist)\n",
    "            score = cross_val_score(clf,X_train,y_train,cv=10,scoring=\"accuracy\").mean()\n",
    "            L.append((score,i/100))\n",
    "        res = sorted(L, key = lambda couple : couple[0],reverse=True)[0]   \n",
    "        clf = NN_MLM(rp_number=res[1],dist=dist)\n",
    "        clf.fit(X_train,y_train)\n",
    "        pred = clf.predict(X_test)\n",
    "        return accuracy_score(pred,y_test)\n"
   ]
  },
  {
   "cell_type": "code",
   "execution_count": 6,
   "metadata": {},
   "outputs": [],
   "source": [
    "def grid_search_param(x,y,name):\n",
    "    \n",
    "    # je définie les paramètres du grid search \n",
    "    param_grid = {'C': np.logspace(-2, 10, 10),  \n",
    "                  'gamma': np.logspace(-2, 10, 10), \n",
    "                  'kernel': ['rbf']}\n",
    "\n",
    "    if name == 'r':\n",
    "        grid = GridSearchCV(SVR(), param_grid) \n",
    "    elif name =='c':\n",
    "        param_grid = {'C': np.logspace(-2, 10, 10),  \n",
    "                  'gamma': np.logspace(-2, 10, 10), \n",
    "                  'kernel': ['rbf']}\n",
    "        \n",
    "        grid = GridSearchCV(SVC(),param_grid) \n",
    "    # entrainement du modèle \n",
    "    grid.fit(x,y.reshape(len(y))) \n",
    "    # affichage des meilleurs hyper paramètres\n",
    "    #print(grid.best_params_) \n",
    "\n",
    "    # affciher l'état du modèle avec les meilleurs paramètres trouvés\n",
    "    #print(grid.best_estimator_) \n",
    "    return grid.best_params_\n",
    "\n",
    "def svm_test(dataset,name):\n",
    "    X,y = preprocessing(dataset)# pré traiter les données\n",
    "    x_train, x_test, y_train, y_test = split_and_norm(X,y,name,test_size=1/3)# divisier les données et normaliser \n",
    "    g = grid_search_param(x_train,y_train,name)# optimiser les hyper paramètres \n",
    "    if name == \"r\":\n",
    "        clf = SVR(C= g['C'], gamma= g['gamma'], kernel= g['kernel'])\n",
    "    elif name == \"c\":\n",
    "        clf = SVC(C= g['C'], gamma= g['gamma'], kernel= g['kernel'])\n",
    "        \n",
    "    \n",
    "    if name == \"r\":\n",
    "        tps1 = time.time()\n",
    "        clf.fit(x_train,y_train)\n",
    "        pred = clf.predict(x_test)# prediction\n",
    "        tps2 = time.time()\n",
    "        return mean_squared_error(pred,y_test)# calcul du score\n",
    "    elif name == \"c\":\n",
    "        tps1 = time.time()\n",
    "        clf.fit(x_train,y_train)\n",
    "        score = clf.score(x_test,y_test)\n",
    "        tps2 = time.time()\n",
    "        return score\n",
    "\n",
    "\n",
    "def rf_test(dataset,name):\n",
    "    X,y = preprocessing(dataset)# pré traiter les données\n",
    "    x_train, x_test, y_train, y_test = split_and_norm(X,y,name,test_size=1/3)# divisier les données et normaliser \n",
    "\n",
    "    if name == 'r':\n",
    "        param_grid = {'max_depth': [10,20,40,60,80,100],\n",
    "              'criterion':['mse'],\n",
    "              'min_samples_split': [2, 5, 10,15],\n",
    "              'n_estimators': [100, 150, 200, 250, 300, 350, 400]}\n",
    "        grid = GridSearchCV(RandomForestRegressor(),param_grid) \n",
    "    elif name =='c':\n",
    "        param_grid = {'max_depth': [10,20,40,60,80,100],\n",
    "              'criterion':['gini'],\n",
    "              'min_samples_split': [2, 5, 10,15],\n",
    "              'n_estimators': [100, 150, 200, 250, 300, 350, 400]}\n",
    "        grid = GridSearchCV(RandomForestClassifier(),param_grid) \n",
    "    # entrainement du modèle \n",
    "    grid.fit(x_train,y_train) \n",
    "    clf = grid.best_estimator_\n",
    "    pred = clf.predict(x_test)# prediction\n",
    "    if name == \"r\":\n",
    "        return mean_squared_error(y_test,pred)\n",
    "    elif name == \"c\":\n",
    "        return accuracy_score(y_test,pred)\n"
   ]
  },
  {
   "cell_type": "markdown",
   "metadata": {},
   "source": [
    "## 2. Test sur des problèmes de régressions"
   ]
  },
  {
   "cell_type": "markdown",
   "metadata": {},
   "source": [
    "### Servo dataset\n",
    "#### a) Minimal Learning Machine "
   ]
  },
  {
   "cell_type": "code",
   "execution_count": 11,
   "metadata": {},
   "outputs": [
    {
     "name": "stdout",
     "output_type": "stream",
     "text": [
      "Score : 0.6240813489669005, nombre de points référence associé : 0.3 %\n"
     ]
    }
   ],
   "source": [
    "ser = mlm_test(servo,\"r\",1/3)\n",
    "print(\"Score : {}, nombre de points référence associé : {} %\".format(ser[0],ser[1]))"
   ]
  },
  {
   "cell_type": "markdown",
   "metadata": {},
   "source": [
    "#### b) SVM "
   ]
  },
  {
   "cell_type": "code",
   "execution_count": 70,
   "metadata": {},
   "outputs": [
    {
     "name": "stdout",
     "output_type": "stream",
     "text": [
      "Score :  (1.2467975782861096, 0.003000497817993164)\n"
     ]
    }
   ],
   "source": [
    "print(\"Score : \",svm_test(servo,\"r\"))"
   ]
  },
  {
   "cell_type": "markdown",
   "metadata": {},
   "source": [
    "#### c) Decision Tree"
   ]
  },
  {
   "cell_type": "code",
   "execution_count": 139,
   "metadata": {},
   "outputs": [
    {
     "ename": "NameError",
     "evalue": "name 'parameters' is not defined",
     "output_type": "error",
     "traceback": [
      "\u001b[1;31m---------------------------------------------------------------------------\u001b[0m",
      "\u001b[1;31mNameError\u001b[0m                                 Traceback (most recent call last)",
      "\u001b[1;32m<ipython-input-139-a6c048bf3ee9>\u001b[0m in \u001b[0;36m<module>\u001b[1;34m\u001b[0m\n\u001b[1;32m----> 1\u001b[1;33m \u001b[0mprint\u001b[0m\u001b[1;33m(\u001b[0m\u001b[1;34m\"Score : \"\u001b[0m\u001b[1;33m,\u001b[0m\u001b[0mrf_test\u001b[0m\u001b[1;33m(\u001b[0m\u001b[0mservo\u001b[0m\u001b[1;33m,\u001b[0m\u001b[1;34m\"r\"\u001b[0m\u001b[1;33m)\u001b[0m\u001b[1;33m)\u001b[0m\u001b[1;33m\u001b[0m\u001b[1;33m\u001b[0m\u001b[0m\n\u001b[0m",
      "\u001b[1;32m<ipython-input-138-97bf31eeb4b0>\u001b[0m in \u001b[0;36mrf_test\u001b[1;34m(dataset, name)\u001b[0m\n\u001b[0;32m     56\u001b[0m               \u001b[1;34m'min_samples_split'\u001b[0m\u001b[1;33m:\u001b[0m \u001b[1;33m[\u001b[0m\u001b[1;36m2\u001b[0m\u001b[1;33m,\u001b[0m \u001b[1;36m5\u001b[0m\u001b[1;33m,\u001b[0m \u001b[1;36m10\u001b[0m\u001b[1;33m,\u001b[0m\u001b[1;36m15\u001b[0m\u001b[1;33m]\u001b[0m\u001b[1;33m,\u001b[0m\u001b[1;33m\u001b[0m\u001b[1;33m\u001b[0m\u001b[0m\n\u001b[0;32m     57\u001b[0m               'n_estimators': [100, 150, 200, 250, 300, 350, 400]}\n\u001b[1;32m---> 58\u001b[1;33m         \u001b[0mgrid\u001b[0m \u001b[1;33m=\u001b[0m \u001b[0mGridSearchCV\u001b[0m\u001b[1;33m(\u001b[0m\u001b[0mRandomForestRegressor\u001b[0m\u001b[1;33m(\u001b[0m\u001b[1;33m)\u001b[0m\u001b[1;33m,\u001b[0m\u001b[0mparameters\u001b[0m\u001b[1;33m)\u001b[0m\u001b[1;33m\u001b[0m\u001b[1;33m\u001b[0m\u001b[0m\n\u001b[0m\u001b[0;32m     59\u001b[0m     \u001b[1;32melif\u001b[0m \u001b[0mname\u001b[0m \u001b[1;33m==\u001b[0m\u001b[1;34m'c'\u001b[0m\u001b[1;33m:\u001b[0m\u001b[1;33m\u001b[0m\u001b[1;33m\u001b[0m\u001b[0m\n\u001b[0;32m     60\u001b[0m         param_grid = {'max_depth': [10,20,40,60,80,100],\n",
      "\u001b[1;31mNameError\u001b[0m: name 'parameters' is not defined"
     ]
    }
   ],
   "source": [
    "print(\"Score : \",rf_test(servo,\"r\"))"
   ]
  },
  {
   "cell_type": "markdown",
   "metadata": {},
   "source": [
    "### 2.2 Dataset Auto Price"
   ]
  },
  {
   "cell_type": "markdown",
   "metadata": {},
   "source": [
    "#### a) MLM"
   ]
  },
  {
   "cell_type": "code",
   "execution_count": 14,
   "metadata": {},
   "outputs": [
    {
     "name": "stdout",
     "output_type": "stream",
     "text": [
      "Meilleur score : 3099576.643231837, Nombre de point références associé : 0.75 %\n"
     ]
    }
   ],
   "source": [
    "pri = test(price,\"r\",1/3)\n",
    "print(\"Meilleur score : {}, Nombre de point références associé : {} %\".format(pri[0],pri[1]))"
   ]
  },
  {
   "cell_type": "markdown",
   "metadata": {},
   "source": [
    "#### b) SVM "
   ]
  },
  {
   "cell_type": "code",
   "execution_count": 71,
   "metadata": {},
   "outputs": [
    {
     "name": "stdout",
     "output_type": "stream",
     "text": [
      "Score :  (5388256.196759264, 0.005002498626708984)\n"
     ]
    }
   ],
   "source": [
    "print(\"Score : \",svm_test(price,\"r\"))"
   ]
  },
  {
   "cell_type": "markdown",
   "metadata": {},
   "source": [
    "#### c) Decision Tree"
   ]
  },
  {
   "cell_type": "code",
   "execution_count": 155,
   "metadata": {},
   "outputs": [
    {
     "name": "stdout",
     "output_type": "stream",
     "text": [
      "Score :  6689661.947684507\n"
     ]
    }
   ],
   "source": [
    "print(\"Score : \",dt_test(price,\"r\"))"
   ]
  },
  {
   "cell_type": "markdown",
   "metadata": {},
   "source": [
    "### 2.3 Dataset Boston Housing"
   ]
  },
  {
   "cell_type": "code",
   "execution_count": 143,
   "metadata": {},
   "outputs": [
    {
     "name": "stdout",
     "output_type": "stream",
     "text": [
      "Dataset iris ################################\n",
      "0.96\n",
      "Dataset wine ################################\n",
      "0.9583333333333334\n",
      "Dataset diabetes ################################\n",
      "0.7932960893854749\n",
      "Dataset cancer ################################\n",
      "0.9788732394366197\n"
     ]
    }
   ],
   "source": [
    "ds_regression = {\"servo\":servo,\"price\":price,\"housing\":housing,\"abalone\":abalone}\n",
    "ds_classification = {\"iris\":iris,\"wine\":wine,\"diabetes\":diabetes,\"cancer\":cancer}\n",
    "for name,ds in ds_classification.items():\n",
    "    print(\"Dataset \"+name+\" ################################\")\n",
    "    print(rf_test(ds,\"c\"))"
   ]
  },
  {
   "cell_type": "markdown",
   "metadata": {},
   "source": [
    "#### a) MLM"
   ]
  },
  {
   "cell_type": "code",
   "execution_count": 15,
   "metadata": {},
   "outputs": [
    {
     "name": "stdout",
     "output_type": "stream",
     "text": [
      "Meilleur valeur : 24.157636881665386, Nombre de point références associé : 0.85 %\n"
     ]
    }
   ],
   "source": [
    "hou = test(housing,\"r\",1/3)\n",
    "print(\"Meilleur valeur : {}, Nombre de point références associé : {} %\".format(hou[0],hou[1]))"
   ]
  },
  {
   "cell_type": "markdown",
   "metadata": {
    "collapsed": true
   },
   "source": [
    "#### b) SVM"
   ]
  },
  {
   "cell_type": "code",
   "execution_count": null,
   "metadata": {},
   "outputs": [],
   "source": [
    "print(\"Score : \",svm_test(housing,\"r\"))"
   ]
  },
  {
   "cell_type": "markdown",
   "metadata": {},
   "source": [
    "#### c) Decision Tree"
   ]
  },
  {
   "cell_type": "code",
   "execution_count": 142,
   "metadata": {},
   "outputs": [
    {
     "name": "stdout",
     "output_type": "stream",
     "text": [
      "Score :  13.732484217455612\n"
     ]
    }
   ],
   "source": [
    "print(\"Score : \",rf_test(housing,\"r\"))"
   ]
  },
  {
   "cell_type": "markdown",
   "metadata": {},
   "source": [
    "### 2.4 Dataset Abalone "
   ]
  },
  {
   "cell_type": "markdown",
   "metadata": {},
   "source": [
    "#### a) MLM"
   ]
  },
  {
   "cell_type": "code",
   "execution_count": 16,
   "metadata": {},
   "outputs": [
    {
     "name": "stdout",
     "output_type": "stream",
     "text": [
      "Meilleur valeur : 4.991579625045996, Nombre de point références associé : 0.1\n"
     ]
    }
   ],
   "source": [
    "aba = test(abalone,\"r\",1/3)\n",
    "print(\"Meilleur valeur : {}, Nombre de point références associé : {}\".format(aba[0],aba[1]))"
   ]
  },
  {
   "cell_type": "markdown",
   "metadata": {},
   "source": [
    "#### b) SVM"
   ]
  },
  {
   "cell_type": "code",
   "execution_count": 144,
   "metadata": {},
   "outputs": [
    {
     "name": "stdout",
     "output_type": "stream",
     "text": [
      "Score :  5.041134592485038\n"
     ]
    }
   ],
   "source": [
    "print(\"Score : \",svm_test(abalone,\"r\"))"
   ]
  },
  {
   "cell_type": "markdown",
   "metadata": {},
   "source": [
    "#### c) Decision Tree"
   ]
  },
  {
   "cell_type": "code",
   "execution_count": 157,
   "metadata": {},
   "outputs": [
    {
     "name": "stdout",
     "output_type": "stream",
     "text": [
      "Score :  6.222055403070914\n"
     ]
    }
   ],
   "source": [
    "print(\"Score : \",dt_test(abalone,\"r\"))"
   ]
  },
  {
   "cell_type": "code",
   "execution_count": 144,
   "metadata": {},
   "outputs": [
    {
     "data": {
      "text/html": [
       "<style  type=\"text/css\" >\n",
       "    #T_1d6ee3be_b336_11eb_93e4_5c3a452210dcrow0_col0 {\n",
       "            background-color:  green;\n",
       "        }    #T_1d6ee3be_b336_11eb_93e4_5c3a452210dcrow0_col1 {\n",
       "            background-color:  green;\n",
       "        }    #T_1d6ee3be_b336_11eb_93e4_5c3a452210dcrow1_col0 {\n",
       "            background-color:  green;\n",
       "        }    #T_1d6ee3be_b336_11eb_93e4_5c3a452210dcrow2_col2 {\n",
       "            background-color:  green;\n",
       "        }    #T_1d6ee3be_b336_11eb_93e4_5c3a452210dcrow3_col1 {\n",
       "            background-color:  green;\n",
       "        }    #T_1d6ee3be_b336_11eb_93e4_5c3a452210dcrow3_col2 {\n",
       "            background-color:  green;\n",
       "        }</style><table id=\"T_1d6ee3be_b336_11eb_93e4_5c3a452210dc\" ><thead>    <tr>        <th class=\"blank level0\" ></th>        <th class=\"col_heading level0 col0\" >MLM</th>        <th class=\"col_heading level0 col1\" >SVM</th>        <th class=\"col_heading level0 col2\" >RF</th>    </tr></thead><tbody>\n",
       "                <tr>\n",
       "                        <th id=\"T_1d6ee3be_b336_11eb_93e4_5c3a452210dclevel0_row0\" class=\"row_heading level0 row0\" >Iris</th>\n",
       "                        <td id=\"T_1d6ee3be_b336_11eb_93e4_5c3a452210dcrow0_col0\" class=\"data row0 col0\" >0.98</td>\n",
       "                        <td id=\"T_1d6ee3be_b336_11eb_93e4_5c3a452210dcrow0_col1\" class=\"data row0 col1\" >0.98</td>\n",
       "                        <td id=\"T_1d6ee3be_b336_11eb_93e4_5c3a452210dcrow0_col2\" class=\"data row0 col2\" >0.96</td>\n",
       "            </tr>\n",
       "            <tr>\n",
       "                        <th id=\"T_1d6ee3be_b336_11eb_93e4_5c3a452210dclevel0_row1\" class=\"row_heading level0 row1\" >Wine</th>\n",
       "                        <td id=\"T_1d6ee3be_b336_11eb_93e4_5c3a452210dcrow1_col0\" class=\"data row1 col0\" >0.979</td>\n",
       "                        <td id=\"T_1d6ee3be_b336_11eb_93e4_5c3a452210dcrow1_col1\" class=\"data row1 col1\" >0.875</td>\n",
       "                        <td id=\"T_1d6ee3be_b336_11eb_93e4_5c3a452210dcrow1_col2\" class=\"data row1 col2\" >0.958</td>\n",
       "            </tr>\n",
       "            <tr>\n",
       "                        <th id=\"T_1d6ee3be_b336_11eb_93e4_5c3a452210dclevel0_row2\" class=\"row_heading level0 row2\" >Prima Indians Diabetes</th>\n",
       "                        <td id=\"T_1d6ee3be_b336_11eb_93e4_5c3a452210dcrow2_col0\" class=\"data row2 col0\" >0.748</td>\n",
       "                        <td id=\"T_1d6ee3be_b336_11eb_93e4_5c3a452210dcrow2_col1\" class=\"data row2 col1\" >0.782</td>\n",
       "                        <td id=\"T_1d6ee3be_b336_11eb_93e4_5c3a452210dcrow2_col2\" class=\"data row2 col2\" >0.793</td>\n",
       "            </tr>\n",
       "            <tr>\n",
       "                        <th id=\"T_1d6ee3be_b336_11eb_93e4_5c3a452210dclevel0_row3\" class=\"row_heading level0 row3\" >Wisconsin Breast Cancer</th>\n",
       "                        <td id=\"T_1d6ee3be_b336_11eb_93e4_5c3a452210dcrow3_col0\" class=\"data row3 col0\" >0.971</td>\n",
       "                        <td id=\"T_1d6ee3be_b336_11eb_93e4_5c3a452210dcrow3_col1\" class=\"data row3 col1\" >0.978</td>\n",
       "                        <td id=\"T_1d6ee3be_b336_11eb_93e4_5c3a452210dcrow3_col2\" class=\"data row3 col2\" >0.978</td>\n",
       "            </tr>\n",
       "    </tbody></table>"
      ],
      "text/plain": [
       "<pandas.io.formats.style.Styler at 0x1daa7655b50>"
      ]
     },
     "metadata": {},
     "output_type": "display_data"
    }
   ],
   "source": [
    "import time\n",
    "def getData(data,name):\n",
    "    arr = np.zeros((len(data),3))\n",
    "    for i in range(len(data)):\n",
    "        if name == \"r\":\n",
    "            arr[i,:] = np.array([(mlm_test(data[i],\"r\",1/3)[0],svm_test(data[i],\"r\")[0],dt_test(data[i],\"r\")[0])])\n",
    "        elif name == \"c\":\n",
    "            arr[i,:] = np.array([(mlm_test(data[i],\"c\",1/3)[0],svm_test(data[i],\"c\")[0],dt_test(data[i],\"c\")[0])])\n",
    "    \n",
    "    return arr\n",
    "classif = np.array([['0.98','0.979','0.748','0.971'],['0.98','0.875','0.782','0.978'],['0.96','0.958','0.793','0.978']])\n",
    "data=[iris,wine,diabetes,cancer]   \n",
    "df = pd.DataFrame(data=classif.T,columns=[\"MLM\",\"SVM\",\"RF\"],\n",
    "             index=[\"Iris\",\"Wine\",\"Prima Indians Diabetes\",\"Wisconsin Breast Cancer\"])\n",
    "\n",
    "display(df.style.apply(highlight_max,axis=1))\n",
    "\n"
   ]
  },
  {
   "cell_type": "code",
   "execution_count": 71,
   "metadata": {},
   "outputs": [
    {
     "data": {
      "text/html": [
       "<style  type=\"text/css\" >\n",
       "    #T_d832a6fe_b20d_11eb_ad24_5c3a452210dcrow0_col2 {\n",
       "            background-color:  green;\n",
       "        }    #T_d832a6fe_b20d_11eb_ad24_5c3a452210dcrow1_col2 {\n",
       "            background-color:  green;\n",
       "        }    #T_d832a6fe_b20d_11eb_ad24_5c3a452210dcrow2_col2 {\n",
       "            background-color:  green;\n",
       "        }    #T_d832a6fe_b20d_11eb_ad24_5c3a452210dcrow3_col1 {\n",
       "            background-color:  green;\n",
       "        }</style><table id=\"T_d832a6fe_b20d_11eb_ad24_5c3a452210dc\" ><thead>    <tr>        <th class=\"blank level0\" ></th>        <th class=\"col_heading level0 col0\" >MLM (C)</th>        <th class=\"col_heading level0 col1\" > SVM (RBF)</th>        <th class=\"col_heading level0 col2\" >RF </th>    </tr></thead><tbody>\n",
       "                <tr>\n",
       "                        <th id=\"T_d832a6fe_b20d_11eb_ad24_5c3a452210dclevel0_row0\" class=\"row_heading level0 row0\" >Servo</th>\n",
       "                        <td id=\"T_d832a6fe_b20d_11eb_ad24_5c3a452210dcrow0_col0\" class=\"data row0 col0\" >6.24e-1</td>\n",
       "                        <td id=\"T_d832a6fe_b20d_11eb_ad24_5c3a452210dcrow0_col1\" class=\"data row0 col1\" >6.9-1</td>\n",
       "                        <td id=\"T_d832a6fe_b20d_11eb_ad24_5c3a452210dcrow0_col2\" class=\"data row0 col2\" >6.14e-1</td>\n",
       "            </tr>\n",
       "            <tr>\n",
       "                        <th id=\"T_d832a6fe_b20d_11eb_ad24_5c3a452210dclevel0_row1\" class=\"row_heading level0 row1\" >Auto price</th>\n",
       "                        <td id=\"T_d832a6fe_b20d_11eb_ad24_5c3a452210dcrow1_col0\" class=\"data row1 col0\" >3.09+e6</td>\n",
       "                        <td id=\"T_d832a6fe_b20d_11eb_ad24_5c3a452210dcrow1_col1\" class=\"data row1 col1\" >5.74e+6</td>\n",
       "                        <td id=\"T_d832a6fe_b20d_11eb_ad24_5c3a452210dcrow1_col2\" class=\"data row1 col2\" >3.03e+6</td>\n",
       "            </tr>\n",
       "            <tr>\n",
       "                        <th id=\"T_d832a6fe_b20d_11eb_ad24_5c3a452210dclevel0_row2\" class=\"row_heading level0 row2\" >Boston Housing</th>\n",
       "                        <td id=\"T_d832a6fe_b20d_11eb_ad24_5c3a452210dcrow2_col0\" class=\"data row2 col0\" >2.41e+1</td>\n",
       "                        <td id=\"T_d832a6fe_b20d_11eb_ad24_5c3a452210dcrow2_col1\" class=\"data row2 col1\" >2.36e+1</td>\n",
       "                        <td id=\"T_d832a6fe_b20d_11eb_ad24_5c3a452210dcrow2_col2\" class=\"data row2 col2\" >1.4e+1</td>\n",
       "            </tr>\n",
       "            <tr>\n",
       "                        <th id=\"T_d832a6fe_b20d_11eb_ad24_5c3a452210dclevel0_row3\" class=\"row_heading level0 row3\" >Abalone</th>\n",
       "                        <td id=\"T_d832a6fe_b20d_11eb_ad24_5c3a452210dcrow3_col0\" class=\"data row3 col0\" >4.99</td>\n",
       "                        <td id=\"T_d832a6fe_b20d_11eb_ad24_5c3a452210dcrow3_col1\" class=\"data row3 col1\" >4.5</td>\n",
       "                        <td id=\"T_d832a6fe_b20d_11eb_ad24_5c3a452210dcrow3_col2\" class=\"data row3 col2\" >5.17</td>\n",
       "            </tr>\n",
       "    </tbody></table>"
      ],
      "text/plain": [
       "<pandas.io.formats.style.Styler at 0x1daa6369df0>"
      ]
     },
     "metadata": {},
     "output_type": "display_data"
    }
   ],
   "source": [
    "regr = np.array([['6.24e-1','3.09+e6','2.41e+1','4.99'],\n",
    "                  ['6.9-1','5.74e+6','2.36e+1','4.5'],\n",
    "                  ['6.14e-1','3.03e+6','1.4e+1','5.17']])\n",
    "df = pd.DataFrame(data=regr.T,columns=[\"MLM (C)\",\" SVM (RBF)\",\"RF \"],\n",
    "             index=[\"Servo\",\"Auto price\",\"Boston Housing\",\"Abalone\"])\n",
    "\n",
    "display(df.style.apply(highlight_min,axis=1))"
   ]
  },
  {
   "cell_type": "code",
   "execution_count": 56,
   "metadata": {},
   "outputs": [
    {
     "data": {
      "image/png": "[encoded data removed]",
      "text/plain": [
       "<Figure size 576x432 with 1 Axes>"
      ]
     },
     "metadata": {},
     "output_type": "display_data"
    }
   ],
   "source": [
    "rfd_time = [6.63,6.73,8.36,335.99,9.53,9.44,9.79,9.51]\n",
    "d = [(servo,0.3,'r'),(price,0.75,'r'),(housing,0.85,'r'),(abalone,0.1,'r'),(iris,0.95,'c'),\n",
    "           (wine,1,'c'),(diabetes,0.1,'c'),(cancer,0.2,'c')]\n",
    "\n",
    "mlm_time = []\n",
    "for i in range(len(d)):\n",
    "    X,y = preprocessing(d[i][0])\n",
    "    X_train,X_test,y_train,y_test=split_and_norm(X,y,d[i][2])\n",
    "    y_train = y_train.reshape((len(y_train),1))\n",
    "    y_test = y_test.reshape((len(y_test),1))\n",
    "    start = time.time()\n",
    "    if d[i][2] == 'r':\n",
    "        clf = MLM(d[i][1])\n",
    "    else:\n",
    "        clf = NN_MLM(d[i][1])\n",
    "    clf.fit(X_train,y_train)\n",
    "    pred = clf.predict(X_test)\n",
    "    mlm_time.append(time.time()-start)\n",
    "    \n",
    "plt.figure(figsize=(8,6))\n",
    "plt.title(\"Time execution for each dataset\",fontsize=14)\n",
    "plt.plot(mlm_time,'-*',label=\"MLM\")\n",
    "plt.plot(rfd_time,'-x',label=\"RFD_MLM\")\n",
    "plt.xticks(np.arange(8),\n",
    "plt.ylabel(\"Time(s)\",fontsize=13)\n",
    "plt.legend()\n",
    "plt.show()"
   ]
  },
  {
   "cell_type": "code",
   "execution_count": 60,
   "metadata": {},
   "outputs": [
    {
     "data": {
      "text/html": [
       "<div>\n",
       "<style scoped>\n",
       "    .dataframe tbody tr th:only-of-type {\n",
       "        vertical-align: middle;\n",
       "    }\n",
       "\n",
       "    .dataframe tbody tr th {\n",
       "        vertical-align: top;\n",
       "    }\n",
       "\n",
       "    .dataframe thead th {\n",
       "        text-align: right;\n",
       "    }\n",
       "</style>\n",
       "<table border=\"1\" class=\"dataframe\">\n",
       "  <thead>\n",
       "    <tr style=\"text-align: right;\">\n",
       "      <th></th>\n",
       "      <th>MLM</th>\n",
       "      <th>RFD_MLM</th>\n",
       "    </tr>\n",
       "  </thead>\n",
       "  <tbody>\n",
       "    <tr>\n",
       "      <th>Servo</th>\n",
       "      <td>0.248019</td>\n",
       "      <td>6.63</td>\n",
       "    </tr>\n",
       "    <tr>\n",
       "      <th>Auto price</th>\n",
       "      <td>0.208817</td>\n",
       "      <td>6.73</td>\n",
       "    </tr>\n",
       "    <tr>\n",
       "      <th>Boston Housing</th>\n",
       "      <td>1.863840</td>\n",
       "      <td>8.36</td>\n",
       "    </tr>\n",
       "    <tr>\n",
       "      <th>Abalone</th>\n",
       "      <td>12.681303</td>\n",
       "      <td>335.99</td>\n",
       "    </tr>\n",
       "    <tr>\n",
       "      <th>Iris</th>\n",
       "      <td>0.040002</td>\n",
       "      <td>9.53</td>\n",
       "    </tr>\n",
       "    <tr>\n",
       "      <th>Wine</th>\n",
       "      <td>0.048004</td>\n",
       "      <td>9.44</td>\n",
       "    </tr>\n",
       "    <tr>\n",
       "      <th>Prima Indians Diabetes</th>\n",
       "      <td>0.003001</td>\n",
       "      <td>9.79</td>\n",
       "    </tr>\n",
       "    <tr>\n",
       "      <th>Wisconsin Breast Cancer</th>\n",
       "      <td>0.003144</td>\n",
       "      <td>9.51</td>\n",
       "    </tr>\n",
       "  </tbody>\n",
       "</table>\n",
       "</div>"
      ],
      "text/plain": [
       "                              MLM   RFD_MLM\n",
       "Servo                     0.248019     6.63\n",
       "Auto price                0.208817     6.73\n",
       "Boston Housing            1.863840     8.36\n",
       "Abalone                  12.681303   335.99\n",
       "Iris                      0.040002     9.53\n",
       "Wine                      0.048004     9.44\n",
       "Prima Indians Diabetes    0.003001     9.79\n",
       "Wisconsin Breast Cancer   0.003144     9.51"
      ]
     },
     "execution_count": 60,
     "metadata": {},
     "output_type": "execute_result"
    }
   ],
   "source": [
    "df = pd.DataFrame(data=np.array([mlm_time,rfd_time]).T,columns=[\"MLM \",\"RFD_MLM\"],\n",
    "             index=[\"Servo\",\"Auto price\",\"Boston Housing\",\"Abalone\",\"Iris\",\"Wine\",\"Prima Indians Diabetes\",\"Wisconsin Breast Cancer\"])\n",
    "df"
   ]
  },
  {
   "cell_type": "markdown",
   "metadata": {},
   "source": [
    "### Comparaison des résultats avec différentes metric pour le calcul des distances "
   ]
  },
  {
   "cell_type": "code",
   "execution_count": 61,
   "metadata": {},
   "outputs": [],
   "source": [
    "distances = ['euclidean','canberra','chebyshev','cityblock','sqeuclidean']\n",
    "data = [iris,wine,diabetes,cancer]\n",
    "scores_r = []\n",
    "for i in range(len(data)):\n",
    "    X,y = preprocessing(data[i])\n",
    "    rus = RandomUnderSampler(random_state=42) # equilibré les proportions de classes\n",
    "    X,y = rus.fit_resample(X,y)\n",
    "    L = []\n",
    "    for i in range(5):\n",
    "        X_train, X_test, y_train, y_test = train_test_split(X, y, test_size=1/3)    \n",
    "        mx,ecart = X_train.mean(0),X_train.std(0)\n",
    "        X_train,X_test = (X_train-mx)/ecart,(X_test-mx)/ecart\n",
    "        y_train = y_train.reshape((len(y_train),1))\n",
    "        y_test = y_test.reshape((len(y_test),1))\n",
    "        clf=NN_MLM(1)\n",
    "        clf.fit(X_train,y_train)\n",
    "        pred = clf.predict(X_test)\n",
    "        L.append(accuracy_score(y_test,pred))\n",
    "    scores_r.append(np.mean(L))\n",
    "\n",
    "    \n"
   ]
  },
  {
   "cell_type": "code",
   "execution_count": 62,
   "metadata": {},
   "outputs": [
    {
     "data": {
      "text/plain": [
       "[0.844, 0.975, 0.7798882681564245, 0.967605633802817]"
      ]
     },
     "execution_count": 62,
     "metadata": {},
     "output_type": "execute_result"
    }
   ],
   "source": [
    "scores_r"
   ]
  },
  {
   "cell_type": "code",
   "execution_count": 63,
   "metadata": {},
   "outputs": [
    {
     "data": {
      "text/html": [
       "<style  type=\"text/css\" >\n",
       "    #T_9090ecd2_b1c9_11eb_ad51_5c3a452210dcrow0_col1 {\n",
       "            background-color:  green;\n",
       "        }    #T_9090ecd2_b1c9_11eb_ad51_5c3a452210dcrow1_col1 {\n",
       "            background-color:  green;\n",
       "        }    #T_9090ecd2_b1c9_11eb_ad51_5c3a452210dcrow2_col2 {\n",
       "            background-color:  green;\n",
       "        }    #T_9090ecd2_b1c9_11eb_ad51_5c3a452210dcrow3_col1 {\n",
       "            background-color:  green;\n",
       "        }</style><table id=\"T_9090ecd2_b1c9_11eb_ad51_5c3a452210dc\" ><thead>    <tr>        <th class=\"blank level0\" ></th>        <th class=\"col_heading level0 col0\" >RFD_MLM</th>        <th class=\"col_heading level0 col1\" >RF</th>        <th class=\"col_heading level0 col2\" > MLM</th>    </tr></thead><tbody>\n",
       "                <tr>\n",
       "                        <th id=\"T_9090ecd2_b1c9_11eb_ad51_5c3a452210dclevel0_row0\" class=\"row_heading level0 row0\" >Servo</th>\n",
       "                        <td id=\"T_9090ecd2_b1c9_11eb_ad51_5c3a452210dcrow0_col0\" class=\"data row0 col0\" >1.15</td>\n",
       "                        <td id=\"T_9090ecd2_b1c9_11eb_ad51_5c3a452210dcrow0_col1\" class=\"data row0 col1\" >1.14</td>\n",
       "                        <td id=\"T_9090ecd2_b1c9_11eb_ad51_5c3a452210dcrow0_col2\" class=\"data row0 col2\" >1.25</td>\n",
       "            </tr>\n",
       "            <tr>\n",
       "                        <th id=\"T_9090ecd2_b1c9_11eb_ad51_5c3a452210dclevel0_row1\" class=\"row_heading level0 row1\" >Auto price</th>\n",
       "                        <td id=\"T_9090ecd2_b1c9_11eb_ad51_5c3a452210dcrow1_col0\" class=\"data row1 col0\" >3.59e+6</td>\n",
       "                        <td id=\"T_9090ecd2_b1c9_11eb_ad51_5c3a452210dcrow1_col1\" class=\"data row1 col1\" >3.13e+6</td>\n",
       "                        <td id=\"T_9090ecd2_b1c9_11eb_ad51_5c3a452210dcrow1_col2\" class=\"data row1 col2\" >6.80e+6</td>\n",
       "            </tr>\n",
       "            <tr>\n",
       "                        <th id=\"T_9090ecd2_b1c9_11eb_ad51_5c3a452210dclevel0_row2\" class=\"row_heading level0 row2\" >Boston Housing</th>\n",
       "                        <td id=\"T_9090ecd2_b1c9_11eb_ad51_5c3a452210dcrow2_col0\" class=\"data row2 col0\" >12.1</td>\n",
       "                        <td id=\"T_9090ecd2_b1c9_11eb_ad51_5c3a452210dcrow2_col1\" class=\"data row2 col1\" >13.5</td>\n",
       "                        <td id=\"T_9090ecd2_b1c9_11eb_ad51_5c3a452210dcrow2_col2\" class=\"data row2 col2\" >10.69</td>\n",
       "            </tr>\n",
       "            <tr>\n",
       "                        <th id=\"T_9090ecd2_b1c9_11eb_ad51_5c3a452210dclevel0_row3\" class=\"row_heading level0 row3\" >Abalone</th>\n",
       "                        <td id=\"T_9090ecd2_b1c9_11eb_ad51_5c3a452210dcrow3_col0\" class=\"data row3 col0\" >5.15</td>\n",
       "                        <td id=\"T_9090ecd2_b1c9_11eb_ad51_5c3a452210dcrow3_col1\" class=\"data row3 col1\" >4.80</td>\n",
       "                        <td id=\"T_9090ecd2_b1c9_11eb_ad51_5c3a452210dcrow3_col2\" class=\"data row3 col2\" >5.07</td>\n",
       "            </tr>\n",
       "    </tbody></table>"
      ],
      "text/plain": [
       "<pandas.io.formats.style.Styler at 0x1daa639de50>"
      ]
     },
     "metadata": {},
     "output_type": "display_data"
    }
   ],
   "source": [
    "({'classification': [0.9359999999999999,\n",
    "   0.975,\n",
    "   0.7508379888268156,\n",
    "   0.9633802816901408],\n",
    "  'regression': [1.1498193166748405,\n",
    "   5746245.372060936,\n",
    "   13.509830106508872,\n",
    "   4.801612950466618]},\n",
    " {'classification': [0.9359999999999999,\n",
    "   0.9625,\n",
    "   0.7396648044692737,\n",
    "   0.9690140845070422],\n",
    "  'regression': [1.151710651545938,\n",
    "   30016305.74791224,\n",
    "   12.197427018143403,\n",
    "   5.15553863953056]})\n",
    "#sr = [('0.634', '0.614'),('3.59e+6', '3.13e+6'),('11.941', '13.445'),('5.743', '5.337')]\n",
    "#sc = [('0.96', '0.96'),('0.958', '0.958'),('0.957', '0.964'),('0.787', '0.798')]\n",
    "sc_mlm = ['1.25', '6.80e+6', '10.69', '5.07','0.84', '0.975', '0.779', '0.967']\n",
    "sc_rf = ['1.14','3.13e+6','13.5','4.80','0.935','0.975','0.750','0.963']\n",
    "sc_rf_mlm = ['1.15','3.59e+6','12.1','5.15','0.935','0.962','0.739','0.969']\n",
    "u = np.array([sc_rf_mlm,sc_rf,sc_mlm]).T\n",
    "df = pd.DataFrame(data=u[:4],columns=[\"RFD_MLM\",\"RF\",\" MLM\"],\n",
    "             index=[\"Servo\",\"Auto price\",\"Boston Housing\",\"Abalone\"])\n",
    "display(df.style.apply(highlight_min,axis=1))\n"
   ]
  },
  {
   "cell_type": "code",
   "execution_count": 64,
   "metadata": {},
   "outputs": [
    {
     "data": {
      "text/html": [
       "<style  type=\"text/css\" >\n",
       "    #T_986bb8e0_b1c9_11eb_be3e_5c3a452210dcrow0_col0 {\n",
       "            background-color:  green;\n",
       "        }    #T_986bb8e0_b1c9_11eb_be3e_5c3a452210dcrow0_col1 {\n",
       "            background-color:  green;\n",
       "        }    #T_986bb8e0_b1c9_11eb_be3e_5c3a452210dcrow1_col1 {\n",
       "            background-color:  green;\n",
       "        }    #T_986bb8e0_b1c9_11eb_be3e_5c3a452210dcrow1_col2 {\n",
       "            background-color:  green;\n",
       "        }    #T_986bb8e0_b1c9_11eb_be3e_5c3a452210dcrow2_col2 {\n",
       "            background-color:  green;\n",
       "        }    #T_986bb8e0_b1c9_11eb_be3e_5c3a452210dcrow3_col0 {\n",
       "            background-color:  green;\n",
       "        }</style><table id=\"T_986bb8e0_b1c9_11eb_be3e_5c3a452210dc\" ><thead>    <tr>        <th class=\"blank level0\" ></th>        <th class=\"col_heading level0 col0\" >RFD_MLM</th>        <th class=\"col_heading level0 col1\" >RF</th>        <th class=\"col_heading level0 col2\" > MLM</th>    </tr></thead><tbody>\n",
       "                <tr>\n",
       "                        <th id=\"T_986bb8e0_b1c9_11eb_be3e_5c3a452210dclevel0_row0\" class=\"row_heading level0 row0\" >Iris</th>\n",
       "                        <td id=\"T_986bb8e0_b1c9_11eb_be3e_5c3a452210dcrow0_col0\" class=\"data row0 col0\" >0.935</td>\n",
       "                        <td id=\"T_986bb8e0_b1c9_11eb_be3e_5c3a452210dcrow0_col1\" class=\"data row0 col1\" >0.935</td>\n",
       "                        <td id=\"T_986bb8e0_b1c9_11eb_be3e_5c3a452210dcrow0_col2\" class=\"data row0 col2\" >0.84</td>\n",
       "            </tr>\n",
       "            <tr>\n",
       "                        <th id=\"T_986bb8e0_b1c9_11eb_be3e_5c3a452210dclevel0_row1\" class=\"row_heading level0 row1\" >Wine</th>\n",
       "                        <td id=\"T_986bb8e0_b1c9_11eb_be3e_5c3a452210dcrow1_col0\" class=\"data row1 col0\" >0.962</td>\n",
       "                        <td id=\"T_986bb8e0_b1c9_11eb_be3e_5c3a452210dcrow1_col1\" class=\"data row1 col1\" >0.975</td>\n",
       "                        <td id=\"T_986bb8e0_b1c9_11eb_be3e_5c3a452210dcrow1_col2\" class=\"data row1 col2\" >0.975</td>\n",
       "            </tr>\n",
       "            <tr>\n",
       "                        <th id=\"T_986bb8e0_b1c9_11eb_be3e_5c3a452210dclevel0_row2\" class=\"row_heading level0 row2\" >Prima Indians Diabetes</th>\n",
       "                        <td id=\"T_986bb8e0_b1c9_11eb_be3e_5c3a452210dcrow2_col0\" class=\"data row2 col0\" >0.739</td>\n",
       "                        <td id=\"T_986bb8e0_b1c9_11eb_be3e_5c3a452210dcrow2_col1\" class=\"data row2 col1\" >0.750</td>\n",
       "                        <td id=\"T_986bb8e0_b1c9_11eb_be3e_5c3a452210dcrow2_col2\" class=\"data row2 col2\" >0.779</td>\n",
       "            </tr>\n",
       "            <tr>\n",
       "                        <th id=\"T_986bb8e0_b1c9_11eb_be3e_5c3a452210dclevel0_row3\" class=\"row_heading level0 row3\" >Wisconsin Breast Cancer</th>\n",
       "                        <td id=\"T_986bb8e0_b1c9_11eb_be3e_5c3a452210dcrow3_col0\" class=\"data row3 col0\" >0.969</td>\n",
       "                        <td id=\"T_986bb8e0_b1c9_11eb_be3e_5c3a452210dcrow3_col1\" class=\"data row3 col1\" >0.963</td>\n",
       "                        <td id=\"T_986bb8e0_b1c9_11eb_be3e_5c3a452210dcrow3_col2\" class=\"data row3 col2\" >0.967</td>\n",
       "            </tr>\n",
       "    </tbody></table>"
      ],
      "text/plain": [
       "<pandas.io.formats.style.Styler at 0x1daa638f760>"
      ]
     },
     "metadata": {},
     "output_type": "display_data"
    }
   ],
   "source": [
    "df = pd.DataFrame(data=u[4:],columns=[\"RFD_MLM\",\"RF\",\" MLM\"],\n",
    "             index=[\"Iris\",\"Wine\",\"Prima Indians Diabetes\",\"Wisconsin Breast Cancer\"])\n",
    "display(df.style.apply(highlight_max,axis=1))\n"
   ]
  },
  {
   "cell_type": "code",
   "execution_count": 51,
   "metadata": {},
   "outputs": [
    {
     "data": {
      "text/html": [
       "<style  type=\"text/css\" >\n",
       "    #T_1559fd40_b1ac_11eb_b960_5c3a452210dcrow0_col2 {\n",
       "            background-color:  green;\n",
       "        }    #T_1559fd40_b1ac_11eb_b960_5c3a452210dcrow1_col0 {\n",
       "            background-color:  green;\n",
       "        }    #T_1559fd40_b1ac_11eb_b960_5c3a452210dcrow2_col2 {\n",
       "            background-color:  green;\n",
       "        }    #T_1559fd40_b1ac_11eb_b960_5c3a452210dcrow3_col0 {\n",
       "            background-color:  green;\n",
       "        }</style><table id=\"T_1559fd40_b1ac_11eb_b960_5c3a452210dc\" ><thead>    <tr>        <th class=\"blank level0\" ></th>        <th class=\"col_heading level0 col0\" >MLM</th>        <th class=\"col_heading level0 col1\" > SVM (RBF)</th>        <th class=\"col_heading level0 col2\" >Decision Tree</th>    </tr></thead><tbody>\n",
       "                <tr>\n",
       "                        <th id=\"T_1559fd40_b1ac_11eb_b960_5c3a452210dclevel0_row0\" class=\"row_heading level0 row0\" >Servo</th>\n",
       "                        <td id=\"T_1559fd40_b1ac_11eb_b960_5c3a452210dcrow0_col0\" class=\"data row0 col0\" >6.24e-1</td>\n",
       "                        <td id=\"T_1559fd40_b1ac_11eb_b960_5c3a452210dcrow0_col1\" class=\"data row0 col1\" >9.05e-1</td>\n",
       "                        <td id=\"T_1559fd40_b1ac_11eb_b960_5c3a452210dcrow0_col2\" class=\"data row0 col2\" >6.22e-1</td>\n",
       "            </tr>\n",
       "            <tr>\n",
       "                        <th id=\"T_1559fd40_b1ac_11eb_b960_5c3a452210dclevel0_row1\" class=\"row_heading level0 row1\" >Auto price</th>\n",
       "                        <td id=\"T_1559fd40_b1ac_11eb_b960_5c3a452210dcrow1_col0\" class=\"data row1 col0\" >3.09e+6 </td>\n",
       "                        <td id=\"T_1559fd40_b1ac_11eb_b960_5c3a452210dcrow1_col1\" class=\"data row1 col1\" >5.74e+6</td>\n",
       "                        <td id=\"T_1559fd40_b1ac_11eb_b960_5c3a452210dcrow1_col2\" class=\"data row1 col2\" >5.54e+6</td>\n",
       "            </tr>\n",
       "            <tr>\n",
       "                        <th id=\"T_1559fd40_b1ac_11eb_b960_5c3a452210dclevel0_row2\" class=\"row_heading level0 row2\" >Boston Housing</th>\n",
       "                        <td id=\"T_1559fd40_b1ac_11eb_b960_5c3a452210dcrow2_col0\" class=\"data row2 col0\" >2.41e+1</td>\n",
       "                        <td id=\"T_1559fd40_b1ac_11eb_b960_5c3a452210dcrow2_col1\" class=\"data row2 col1\" >2.36e+1</td>\n",
       "                        <td id=\"T_1559fd40_b1ac_11eb_b960_5c3a452210dcrow2_col2\" class=\"data row2 col2\" >1.9e+1</td>\n",
       "            </tr>\n",
       "            <tr>\n",
       "                        <th id=\"T_1559fd40_b1ac_11eb_b960_5c3a452210dclevel0_row3\" class=\"row_heading level0 row3\" >Abalone</th>\n",
       "                        <td id=\"T_1559fd40_b1ac_11eb_b960_5c3a452210dcrow3_col0\" class=\"data row3 col0\" >4.99</td>\n",
       "                        <td id=\"T_1559fd40_b1ac_11eb_b960_5c3a452210dcrow3_col1\" class=\"data row3 col1\" >5.04</td>\n",
       "                        <td id=\"T_1559fd40_b1ac_11eb_b960_5c3a452210dcrow3_col2\" class=\"data row3 col2\" >6.22</td>\n",
       "            </tr>\n",
       "    </tbody></table>"
      ],
      "text/plain": [
       "<pandas.io.formats.style.Styler at 0x1daa612fa90>"
      ]
     },
     "metadata": {},
     "output_type": "display_data"
    }
   ],
   "source": [
    "\n",
    "a = np.array([[\"6.24e-1\" ,\"9.05e-1\",\"6.22e-1\"],[\"3.09e+6 \",\"5.74e+6\" ,\"5.54e+6\"],[\"2.41e+1\", \"2.36e+1\", \"1.9e+1\"],[\"4.99\" , \"5.04\", \"6.22\"]])\n",
    "df = pd.DataFrame(data=a,columns=[\"MLM\",\" SVM (RBF)\",\"Decision Tree\"],\n",
    "             index=[\"Servo\",\"Auto price\",\"Boston Housing\",\"Abalone\"])\n",
    "\n",
    "def highlight_min(s):\n",
    "    is_min = s == s.min()\n",
    "    return ['background-color: green' if v else '' for v in is_min]\n",
    "\n",
    "def highlight_max(s):\n",
    "    is_max = s == s.max()\n",
    "    return ['background-color: green' if v else '' for v in is_max]\n",
    "\n",
    "display(df.style.apply(highlight_min,axis=1))\n"
   ]
  },
  {
   "cell_type": "code",
   "execution_count": 195,
   "metadata": {},
   "outputs": [
    {
     "data": {
      "text/html": [
       "<div>\n",
       "<style scoped>\n",
       "    .dataframe tbody tr th:only-of-type {\n",
       "        vertical-align: middle;\n",
       "    }\n",
       "\n",
       "    .dataframe tbody tr th {\n",
       "        vertical-align: top;\n",
       "    }\n",
       "\n",
       "    .dataframe thead th {\n",
       "        text-align: right;\n",
       "    }\n",
       "</style>\n",
       "<table border=\"1\" class=\"dataframe\">\n",
       "  <thead>\n",
       "    <tr style=\"text-align: right;\">\n",
       "      <th></th>\n",
       "      <th>euclidean</th>\n",
       "      <th>canberra</th>\n",
       "      <th>chebyshev</th>\n",
       "      <th>cityblock</th>\n",
       "      <th>sqeuclidean</th>\n",
       "    </tr>\n",
       "  </thead>\n",
       "  <tbody>\n",
       "    <tr>\n",
       "      <th>Servo</th>\n",
       "      <td>0.30</td>\n",
       "      <td>0.30</td>\n",
       "      <td>0.30</td>\n",
       "      <td>0.30</td>\n",
       "      <td>0.05</td>\n",
       "    </tr>\n",
       "    <tr>\n",
       "      <th>Auto price</th>\n",
       "      <td>0.75</td>\n",
       "      <td>0.95</td>\n",
       "      <td>0.15</td>\n",
       "      <td>0.70</td>\n",
       "      <td>0.15</td>\n",
       "    </tr>\n",
       "    <tr>\n",
       "      <th>Boston Housing</th>\n",
       "      <td>0.85</td>\n",
       "      <td>0.55</td>\n",
       "      <td>0.25</td>\n",
       "      <td>0.55</td>\n",
       "      <td>0.10</td>\n",
       "    </tr>\n",
       "    <tr>\n",
       "      <th>Abalone</th>\n",
       "      <td>0.10</td>\n",
       "      <td>0.10</td>\n",
       "      <td>0.10</td>\n",
       "      <td>0.05</td>\n",
       "      <td>0.05</td>\n",
       "    </tr>\n",
       "  </tbody>\n",
       "</table>\n",
       "</div>"
      ],
      "text/plain": [
       "                euclidean  canberra  chebyshev  cityblock  sqeuclidean\n",
       "Servo                0.30      0.30       0.30       0.30         0.05\n",
       "Auto price           0.75      0.95       0.15       0.70         0.15\n",
       "Boston Housing       0.85      0.55       0.25       0.55         0.10\n",
       "Abalone              0.10      0.10       0.10       0.05         0.05"
      ]
     },
     "execution_count": 195,
     "metadata": {},
     "output_type": "execute_result"
    }
   ],
   "source": [
    "pd.DataFrame(data=optimal_klist,columns=distances,\n",
    "             index=[\"Servo\",\"Auto price\",\"Boston Housing\",\"Abalone\"])"
   ]
  },
  {
   "cell_type": "markdown",
   "metadata": {},
   "source": [
    "### 2.5 Evolution de l'erreur en fonction du nombre de point références "
   ]
  },
  {
   "cell_type": "code",
   "execution_count": 71,
   "metadata": {},
   "outputs": [],
   "source": [
    "def compute_errors(data):\n",
    "    X,y=preprocessing(data)\n",
    "    L = []\n",
    "    x_train, x_test, y_train, y_test = split_and_norm(X,y,\"c\",test_size=1/3)\n",
    "    for i in np.arange(5,105,5):  \n",
    "        clf = MLMC(rp_number=i/100)\n",
    "        clf.fit(x_train,y_train.reshape((len(y_train),1)))\n",
    "        y_pred = clf.predict(x_test)\n",
    "        L.append(1-mean_squared_error(y_pred,y_test)/mean_squared_error(y_pred,np.zeros(len(y_pred))))\n",
    "    return L\n",
    "\n",
    "servo_errors = compute_errors(iris)\n"
   ]
  },
  {
   "cell_type": "code",
   "execution_count": 49,
   "metadata": {},
   "outputs": [
    {
     "data": {
      "image/png": "[encoded data removed]",
      "text/plain": [
       "<Figure size 432x288 with 1 Axes>"
      ]
     },
     "metadata": {},
     "output_type": "display_data"
    }
   ],
   "source": [
    "plt.figure()\n",
    "plt.title(\"Error per K\")\n",
    "plt.plot(np.arange(5,105,5),servo_errors,\"-x\",label=\"servo\")\n",
    "plt.plot(np.arange(5,105,5),price_errors,\"-o\",label=\"price\")\n",
    "plt.plot(np.arange(5,105,5),housing_errors,\"-*\",label=\"housing\")\n",
    "plt.plot(np.arange(5,105,5),abalone_errors,\"-^\",label=\"abalone\")\n",
    "plt.xlabel(\"K/N %\")\n",
    "plt.ylabel(\"NMSE\")\n",
    "plt.legend(bbox_to_anchor=(0.9, 1), loc='upper left', borderaxespad=0.)\n",
    "plt.ylim((0.,1.))\n",
    "plt.xlim((0,100))\n",
    "plt.show()"
   ]
  },
  {
   "cell_type": "markdown",
   "metadata": {},
   "source": [
    "### 2.6 Optimal K value over different runs"
   ]
  },
  {
   "cell_type": "code",
   "execution_count": 50,
   "metadata": {},
   "outputs": [
    {
     "data": {
      "text/plain": [
       "<Figure size 432x288 with 0 Axes>"
      ]
     },
     "metadata": {},
     "output_type": "display_data"
    },
    {
     "data": {
      "image/png": "[encoded data removed]",
      "text/plain": [
       "<Figure size 432x288 with 1 Axes>"
      ]
     },
     "metadata": {},
     "output_type": "display_data"
    }
   ],
   "source": [
    "def optimal_k_over(dataset,name):\n",
    "    X,y = preprocessing(servo)\n",
    "    y = y.reshape((len(y),1))\n",
    "    x_train, x_test, y_train, y_test = split_and_norm(X,y,\"r\",test_size=1/3)\n",
    "    L = []\n",
    "    for i in range(10):  \n",
    "        li = []\n",
    "        for j in np.arange(5,105,5):\n",
    "            if name == 'r':\n",
    "                clf = MLM(rp_number=j/100)\n",
    "            elif name == 'c':\n",
    "                clf = NN_MLM(rp_number=j/100)\n",
    "            clf.fit(x_train,y_train)\n",
    "            score = clf.score(x_test,y_test)\n",
    "            li.append((score,(j/100)*len(X)))\n",
    "        L.append(sorted(li, key=lambda x: x[0])[-1])\n",
    "    return L\n",
    "\n",
    "servo_optimal_k = optimal_k_over(servo,'r')\n",
    "price_optimal_k = optimal_k_over(price,'r')\n",
    "housing_optimal_k = optimal_k_over(housing,'r')\n",
    "#x,y = preprocessing(abalone)\n",
    "#abalone_optimal_k = optimal_k_over(x,y,'r')\n",
    "\n",
    "plt.figure()\n",
    "plt.figure(\"Optimal K value over different runs\")\n",
    "plt.plot(range(10),[i[1] for i in servo_optimal_k],\"-x\",label=\"servo\")\n",
    "plt.plot(range(10),[i[1] for i in price_optimal_k],\"-o\",label=\"price\")\n",
    "plt.plot(range(10),[i[1] for i in housing_optimal_k],\"-*\",label=\"housing\")\n",
    "#plt.plot(range(10),[i[1] for i in abalone_optimal_k],\"-^\",label=\"abalone\")\n",
    "plt.xlabel(\"Répitition\")\n",
    "plt.ylabel(\"K\")\n",
    "plt.legend(bbox_to_anchor=(0.9, 1), loc='upper left', borderaxespad=0.)\n",
    "plt.show()"
   ]
  },
  {
   "cell_type": "markdown",
   "metadata": {},
   "source": [
    "## 3. Test sur des problèmes de classification"
   ]
  },
  {
   "cell_type": "code",
   "execution_count": 69,
   "metadata": {},
   "outputs": [
    {
     "name": "stdout",
     "output_type": "stream",
     "text": [
      "Score sur : 0.971830985915493, nombre de points référence associé : 0.2 %\n",
      "Score sur : 0.98, nombre de points référence associé : 0.1 %\n",
      "Score sur : 0.9791666666666666, nombre de points référence associé : 0.2 %\n",
      "Score sur : 0.7486033519553073, nombre de points référence associé : 0.45 %\n"
     ]
    }
   ],
   "source": [
    "can = mlm_test(cancer,\"c\",1/3)# tester le Minimal Learning Machine sur le dataset Wisconsin Brest Cancer\n",
    "print(\"Score sur : {}, nombre de points référence associé : {} %\".format(can[0],can[1]))\n",
    "\n",
    "iri = mlm_test(iris,\"c\",1/3)# sur le dataset Iris\n",
    "print(\"Score sur : {}, nombre de points référence associé : {} %\".format(iri[0],iri[1]))\n",
    "\n",
    "win = mlm_test(wine,\"c\",1/3)# sur le dataset Wine\n",
    "print(\"Score sur : {}, nombre de points référence associé : {} %\".format(win[0],win[1]))\n",
    "\n",
    "dia = mlm_test(diabetes,\"c\",1/3)# sur le dataset Prima Indien Diabetes\n",
    "print(\"Score sur : {}, nombre de points référence associé : {} %\".format(dia[0],dia[1]))"
   ]
  },
  {
   "cell_type": "code",
   "execution_count": 34,
   "metadata": {},
   "outputs": [
    {
     "data": {
      "text/html": [
       "<style  type=\"text/css\" >\n",
       "    #T_47228fe7_b03f_11eb_a6b2_5c3a452210dcrow0_col0 {\n",
       "            background-color:  green;\n",
       "        }    #T_47228fe7_b03f_11eb_a6b2_5c3a452210dcrow1_col0 {\n",
       "            background-color:  green;\n",
       "        }    #T_47228fe7_b03f_11eb_a6b2_5c3a452210dcrow2_col2 {\n",
       "            background-color:  green;\n",
       "        }    #T_47228fe7_b03f_11eb_a6b2_5c3a452210dcrow3_col0 {\n",
       "            background-color:  green;\n",
       "        }</style><table id=\"T_47228fe7_b03f_11eb_a6b2_5c3a452210dc\" ><thead>    <tr>        <th class=\"blank level0\" ></th>        <th class=\"col_heading level0 col0\" >euclidean</th>        <th class=\"col_heading level0 col1\" >canberra</th>        <th class=\"col_heading level0 col2\" >chebyshev</th>        <th class=\"col_heading level0 col3\" >cityblock</th>        <th class=\"col_heading level0 col4\" >sqeuclidean</th>    </tr></thead><tbody>\n",
       "                <tr>\n",
       "                        <th id=\"T_47228fe7_b03f_11eb_a6b2_5c3a452210dclevel0_row0\" class=\"row_heading level0 row0\" >Iris</th>\n",
       "                        <td id=\"T_47228fe7_b03f_11eb_a6b2_5c3a452210dcrow0_col0\" class=\"data row0 col0\" >0.980000</td>\n",
       "                        <td id=\"T_47228fe7_b03f_11eb_a6b2_5c3a452210dcrow0_col1\" class=\"data row0 col1\" >0.840000</td>\n",
       "                        <td id=\"T_47228fe7_b03f_11eb_a6b2_5c3a452210dcrow0_col2\" class=\"data row0 col2\" >0.900000</td>\n",
       "                        <td id=\"T_47228fe7_b03f_11eb_a6b2_5c3a452210dcrow0_col3\" class=\"data row0 col3\" >0.960000</td>\n",
       "                        <td id=\"T_47228fe7_b03f_11eb_a6b2_5c3a452210dcrow0_col4\" class=\"data row0 col4\" >0.600000</td>\n",
       "            </tr>\n",
       "            <tr>\n",
       "                        <th id=\"T_47228fe7_b03f_11eb_a6b2_5c3a452210dclevel0_row1\" class=\"row_heading level0 row1\" >Wine</th>\n",
       "                        <td id=\"T_47228fe7_b03f_11eb_a6b2_5c3a452210dcrow1_col0\" class=\"data row1 col0\" >0.979167</td>\n",
       "                        <td id=\"T_47228fe7_b03f_11eb_a6b2_5c3a452210dcrow1_col1\" class=\"data row1 col1\" >0.854167</td>\n",
       "                        <td id=\"T_47228fe7_b03f_11eb_a6b2_5c3a452210dcrow1_col2\" class=\"data row1 col2\" >0.916667</td>\n",
       "                        <td id=\"T_47228fe7_b03f_11eb_a6b2_5c3a452210dcrow1_col3\" class=\"data row1 col3\" >0.937500</td>\n",
       "                        <td id=\"T_47228fe7_b03f_11eb_a6b2_5c3a452210dcrow1_col4\" class=\"data row1 col4\" >0.520833</td>\n",
       "            </tr>\n",
       "            <tr>\n",
       "                        <th id=\"T_47228fe7_b03f_11eb_a6b2_5c3a452210dclevel0_row2\" class=\"row_heading level0 row2\" >Prima Indians Diabetes</th>\n",
       "                        <td id=\"T_47228fe7_b03f_11eb_a6b2_5c3a452210dcrow2_col0\" class=\"data row2 col0\" >0.748603</td>\n",
       "                        <td id=\"T_47228fe7_b03f_11eb_a6b2_5c3a452210dcrow2_col1\" class=\"data row2 col1\" >0.547486</td>\n",
       "                        <td id=\"T_47228fe7_b03f_11eb_a6b2_5c3a452210dcrow2_col2\" class=\"data row2 col2\" >0.776536</td>\n",
       "                        <td id=\"T_47228fe7_b03f_11eb_a6b2_5c3a452210dcrow2_col3\" class=\"data row2 col3\" >0.659218</td>\n",
       "                        <td id=\"T_47228fe7_b03f_11eb_a6b2_5c3a452210dcrow2_col4\" class=\"data row2 col4\" >0.664804</td>\n",
       "            </tr>\n",
       "            <tr>\n",
       "                        <th id=\"T_47228fe7_b03f_11eb_a6b2_5c3a452210dclevel0_row3\" class=\"row_heading level0 row3\" >Wisconsin Breast Cancer</th>\n",
       "                        <td id=\"T_47228fe7_b03f_11eb_a6b2_5c3a452210dcrow3_col0\" class=\"data row3 col0\" >0.971831</td>\n",
       "                        <td id=\"T_47228fe7_b03f_11eb_a6b2_5c3a452210dcrow3_col1\" class=\"data row3 col1\" >0.880282</td>\n",
       "                        <td id=\"T_47228fe7_b03f_11eb_a6b2_5c3a452210dcrow3_col2\" class=\"data row3 col2\" >0.957746</td>\n",
       "                        <td id=\"T_47228fe7_b03f_11eb_a6b2_5c3a452210dcrow3_col3\" class=\"data row3 col3\" >0.943662</td>\n",
       "                        <td id=\"T_47228fe7_b03f_11eb_a6b2_5c3a452210dcrow3_col4\" class=\"data row3 col4\" >0.880282</td>\n",
       "            </tr>\n",
       "    </tbody></table>"
      ],
      "text/plain": [
       "<pandas.io.formats.style.Styler at 0x21df425da30>"
      ]
     },
     "metadata": {},
     "output_type": "display_data"
    }
   ],
   "source": [
    "data_c = [iris,wine,diabetes,cancer]\n",
    "scores = np.zeros((4,5))\n",
    "optimal_klist = np.zeros((4,5))\n",
    "for i in range(len(data_c)):\n",
    "    for j in range(len(distances)):\n",
    "        res = mlm_test(data_c[i],\"c\",1/3,distances[j])\n",
    "        scores[i,j] = res[0]\n",
    "        optimal_klist[i,j]=res[1]\n",
    "        \n",
    "df = pd.DataFrame(data=scores,columns=distances,\n",
    "             index=[\"Iris\",\"Wine\",\"Prima Indians Diabetes\",\"Wisconsin Breast Cancer\"])\n",
    "display(df.style.apply(highlight_max,axis=1))\n",
    "\n"
   ]
  },
  {
   "cell_type": "code",
   "execution_count": 199,
   "metadata": {},
   "outputs": [
    {
     "data": {
      "text/html": [
       "<div>\n",
       "<style scoped>\n",
       "    .dataframe tbody tr th:only-of-type {\n",
       "        vertical-align: middle;\n",
       "    }\n",
       "\n",
       "    .dataframe tbody tr th {\n",
       "        vertical-align: top;\n",
       "    }\n",
       "\n",
       "    .dataframe thead th {\n",
       "        text-align: right;\n",
       "    }\n",
       "</style>\n",
       "<table border=\"1\" class=\"dataframe\">\n",
       "  <thead>\n",
       "    <tr style=\"text-align: right;\">\n",
       "      <th></th>\n",
       "      <th>euclidean</th>\n",
       "      <th>canberra</th>\n",
       "      <th>chebyshev</th>\n",
       "      <th>cityblock</th>\n",
       "      <th>sqeuclidean</th>\n",
       "    </tr>\n",
       "  </thead>\n",
       "  <tbody>\n",
       "    <tr>\n",
       "      <th>Iris</th>\n",
       "      <td>0.95</td>\n",
       "      <td>0.45</td>\n",
       "      <td>0.30</td>\n",
       "      <td>0.25</td>\n",
       "      <td>0.05</td>\n",
       "    </tr>\n",
       "    <tr>\n",
       "      <th>Wine</th>\n",
       "      <td>1.00</td>\n",
       "      <td>0.15</td>\n",
       "      <td>0.05</td>\n",
       "      <td>0.45</td>\n",
       "      <td>0.10</td>\n",
       "    </tr>\n",
       "    <tr>\n",
       "      <th>Prima Indians Diabetes</th>\n",
       "      <td>0.10</td>\n",
       "      <td>0.15</td>\n",
       "      <td>0.05</td>\n",
       "      <td>0.05</td>\n",
       "      <td>0.05</td>\n",
       "    </tr>\n",
       "    <tr>\n",
       "      <th>Wisconsin Breast Cancer</th>\n",
       "      <td>0.20</td>\n",
       "      <td>0.15</td>\n",
       "      <td>0.10</td>\n",
       "      <td>0.15</td>\n",
       "      <td>0.05</td>\n",
       "    </tr>\n",
       "  </tbody>\n",
       "</table>\n",
       "</div>"
      ],
      "text/plain": [
       "                         euclidean  canberra  chebyshev  cityblock  \\\n",
       "Iris                          0.95      0.45       0.30       0.25   \n",
       "Wine                          1.00      0.15       0.05       0.45   \n",
       "Prima Indians Diabetes        0.10      0.15       0.05       0.05   \n",
       "Wisconsin Breast Cancer       0.20      0.15       0.10       0.15   \n",
       "\n",
       "                         sqeuclidean  \n",
       "Iris                            0.05  \n",
       "Wine                            0.10  \n",
       "Prima Indians Diabetes          0.05  \n",
       "Wisconsin Breast Cancer         0.05  "
      ]
     },
     "execution_count": 199,
     "metadata": {},
     "output_type": "execute_result"
    }
   ],
   "source": [
    "pd.DataFrame(data=optimal_klist,columns=distances,\n",
    "             index=[\"Iris\",\"Wine\",\"Prima Indians Diabetes\",\"Wisconsin Breast Cancer\"])"
   ]
  },
  {
   "cell_type": "markdown",
   "metadata": {},
   "source": [
    "### 3.6 Optimal K value over different runs"
   ]
  },
  {
   "cell_type": "code",
   "execution_count": 40,
   "metadata": {},
   "outputs": [
    {
     "data": {
      "image/png": "[encoded data removed]",
      "text/plain": [
       "<Figure size 432x288 with 1 Axes>"
      ]
     },
     "metadata": {},
     "output_type": "display_data"
    }
   ],
   "source": [
    "\n",
    "\n",
    "bc_mlm = optimal_k_over(breast_cancer.data,breast_cancer.target,'c')\n",
    "iris_mlm = optimal_k_over(iris.data,iris.target,'c')\n",
    "wine_mlm = optimal_k_over(wine.data,wine.target,'c')\n",
    "\n",
    "plt.figure()\n",
    "plt.plot(range(10),[i[1] for i in bc_mlm],\"-x\",label=\"breast_cancer\")\n",
    "plt.plot(range(10),[i[1] for i in iris_mlm],\"-o\",label=\"iris\")\n",
    "plt.plot(range(10),[i[1] for i in wine_mlm],\"-*\",label=\"wine\")\n",
    "plt.xlabel(\"Répitition\")\n",
    "plt.ylabel(\"K\")\n",
    "plt.legend(bbox_to_anchor=(0.9, 1), loc='upper left', borderaxespad=0.)\n",
    "plt.show()"
   ]
  },
  {
   "cell_type": "markdown",
   "metadata": {},
   "source": [
    "## 4. Autres test"
   ]
  },
  {
   "cell_type": "code",
   "execution_count": 196,
   "metadata": {},
   "outputs": [],
   "source": [
    "from sklearn.datasets import make_classification,make_moons,make_circles\n"
   ]
  },
  {
   "cell_type": "code",
   "execution_count": 10,
   "metadata": {},
   "outputs": [
    {
     "name": "stdout",
     "output_type": "stream",
     "text": [
      "0.028984379578800314\n",
      "0.07451874360728863\n",
      "0.054471862992934474\n"
     ]
    }
   ],
   "source": [
    "from sklearn.neural_network import MLPClassifier\n",
    "from sklearn.neighbors import KNeighborsClassifier\n",
    "from sklearn.gaussian_process import GaussianProcessClassifier\n",
    "from sklearn.gaussian_process.kernels import RBF\n",
    "from sklearn.naive_bayes import GaussianNB\n",
    "from sklearn.datasets import make_classification,make_moons,make_circles,make_regression\n",
    "\n",
    "names = [\"RBF SVM\", \"RF\",\"MLM\"]\n",
    "####################################\n",
    "classifiers = [\n",
    "    svm_test,\n",
    "    rf_test,\n",
    "    mlm_test]\n",
    "scores = []\n",
    "\n",
    "###################################\n",
    "def optimal_k(name,X_train, X_test, y_train, y_test):\n",
    "    score_max = 0.\n",
    "    best_k = 0.\n",
    "    for i in np.arange(5,105,5):  \n",
    "        clf = NN_MLM(rp_number=i/100)\n",
    "        clf.fit(X_train,y_train)\n",
    "        score = clf.score(X_test,y_test)\n",
    "        if score > score_max:\n",
    "            score_max  = score\n",
    "            best_k = i/100\n",
    "    return best_k\n",
    "###################################\n",
    "X, y = make_regression(n_samples=500,n_features=5,  n_informative=2,\n",
    "                           random_state=1, )\n",
    "rng = np.random.RandomState(2)\n",
    "X += 2 * rng.uniform(size=X.shape)\n",
    "linearly_separable = (X, y)\n",
    "\n",
    "datasets = [make_regression(n_samples=500,n_features=5,  n_informative=2,\n",
    "                           random_state=42, ),\n",
    "            make_regression(n_samples=700,n_features=10,  n_informative=2,\n",
    "                           random_state=42, ),\n",
    "            make_regression(n_samples=600,n_features=7,  n_informative=2,\n",
    "                           random_state=42, )\n",
    "            ]\n",
    "#################################\n",
    "for X,y in datasets:\n",
    "    df = to_pandas(X,y)\n",
    "    print(svm_test(df,\"r\"))"
   ]
  },
  {
   "cell_type": "code",
   "execution_count": 149,
   "metadata": {},
   "outputs": [
    {
     "data": {
      "text/html": [
       "<style  type=\"text/css\" >\n",
       "    #T_5e707b65_b351_11eb_b1a3_5c3a452210dcrow0_col0 {\n",
       "            background-color:  green;\n",
       "        }    #T_5e707b65_b351_11eb_b1a3_5c3a452210dcrow1_col0 {\n",
       "            background-color:  green;\n",
       "        }    #T_5e707b65_b351_11eb_b1a3_5c3a452210dcrow1_col1 {\n",
       "            background-color:  green;\n",
       "        }    #T_5e707b65_b351_11eb_b1a3_5c3a452210dcrow2_col0 {\n",
       "            background-color:  green;\n",
       "        }    #T_5e707b65_b351_11eb_b1a3_5c3a452210dcrow2_col1 {\n",
       "            background-color:  green;\n",
       "        }</style><table id=\"T_5e707b65_b351_11eb_b1a3_5c3a452210dc\" ><thead>    <tr>        <th class=\"blank level0\" ></th>        <th class=\"col_heading level0 col0\" >RBF SVM</th>        <th class=\"col_heading level0 col1\" >RF</th>        <th class=\"col_heading level0 col2\" >MLM</th>    </tr></thead><tbody>\n",
       "                <tr>\n",
       "                        <th id=\"T_5e707b65_b351_11eb_b1a3_5c3a452210dclevel0_row0\" class=\"row_heading level0 row0\" >make moon</th>\n",
       "                        <td id=\"T_5e707b65_b351_11eb_b1a3_5c3a452210dcrow0_col0\" class=\"data row0 col0\" >0.970588</td>\n",
       "                        <td id=\"T_5e707b65_b351_11eb_b1a3_5c3a452210dcrow0_col1\" class=\"data row0 col1\" >0.911765</td>\n",
       "                        <td id=\"T_5e707b65_b351_11eb_b1a3_5c3a452210dcrow0_col2\" class=\"data row0 col2\" >0.911765</td>\n",
       "            </tr>\n",
       "            <tr>\n",
       "                        <th id=\"T_5e707b65_b351_11eb_b1a3_5c3a452210dclevel0_row1\" class=\"row_heading level0 row1\" >make circle</th>\n",
       "                        <td id=\"T_5e707b65_b351_11eb_b1a3_5c3a452210dcrow1_col0\" class=\"data row1 col0\" >0.941176</td>\n",
       "                        <td id=\"T_5e707b65_b351_11eb_b1a3_5c3a452210dcrow1_col1\" class=\"data row1 col1\" >0.941176</td>\n",
       "                        <td id=\"T_5e707b65_b351_11eb_b1a3_5c3a452210dcrow1_col2\" class=\"data row1 col2\" >0.911765</td>\n",
       "            </tr>\n",
       "            <tr>\n",
       "                        <th id=\"T_5e707b65_b351_11eb_b1a3_5c3a452210dclevel0_row2\" class=\"row_heading level0 row2\" >linearly separable</th>\n",
       "                        <td id=\"T_5e707b65_b351_11eb_b1a3_5c3a452210dcrow2_col0\" class=\"data row2 col0\" >0.970588</td>\n",
       "                        <td id=\"T_5e707b65_b351_11eb_b1a3_5c3a452210dcrow2_col1\" class=\"data row2 col1\" >0.970588</td>\n",
       "                        <td id=\"T_5e707b65_b351_11eb_b1a3_5c3a452210dcrow2_col2\" class=\"data row2 col2\" >0.941176</td>\n",
       "            </tr>\n",
       "    </tbody></table>"
      ],
      "text/plain": [
       "<pandas.io.formats.style.Styler at 0x1daa76c3e20>"
      ]
     },
     "metadata": {},
     "output_type": "display_data"
    }
   ],
   "source": [
    "df = pd.DataFrame(data=scores,columns=names,index=[\"Data 1\",\"Data 2\",\"Data 3\"])\n",
    "display(df.style.apply(highlight_max,axis=1))\n"
   ]
  },
  {
   "cell_type": "code",
   "execution_count": 73,
   "metadata": {},
   "outputs": [],
   "source": [
    "from sklearn.neural_network import MLPRegressor\n",
    "from sklearn.neighbors import KNeighborsRegressor\n",
    "from sklearn.gaussian_process import GaussianProcessRegressor\n",
    "from sklearn.gaussian_process.kernels import RBF\n",
    "from sklearn.tree import DecisionTreeRegressor\n",
    "\n",
    "X, y = make_regression(n_samples=600,n_features=3,random_state=1)\n",
    "\n",
    "names = [\"RBF SVM\",\"Decision Tree\", \"Neural Net\",\"MLM\"]\n",
    "####################################\n",
    "Regressors = [\n",
    "    SVR(gamma=2, C=1000),\n",
    "    DecisionTreeRegressor(max_depth=5),\n",
    "    MLPRegressor(alpha=1, max_iter=10000),\n",
    "    MLM(.3)]\n",
    "\n",
    "###################################\n",
    "def optimal_k(X_train, X_test, y_train, y_test):\n",
    "    score_max = 1e+10\n",
    "    best_k = 0.\n",
    "    for i in np.arange(5,105,5):  \n",
    "        clf = MLM(rp_number=i/100)\n",
    "        clf.fit(X_train,y_train)\n",
    "        pred = clf.predict(X_test,y_test)\n",
    "        score = mean_squared_error(pred,y_test)\n",
    "        if score < score_max:\n",
    "            score_max  = score\n",
    "            best_k = i/100\n",
    "    return best_k\n",
    "\n",
    "#################################\n",
    "\n",
    "# preprocess dataset, split into training and test part\n",
    "dataset = to_pandas(X,y)\n",
    "\n",
    "\n",
    "    # iterate over classifiers\n",
    "\n",
    "print(\"Regressor : {}, score : {}\".format(\"SVM\",svm_test(dataset,\"r\")))\n",
    "print(\"Regressor : {}, score : {}\".format(\"Decision Tree\",dt_test(dataset,\"r\")))\n",
    "print(\"Regressor : {}, score : {}\".format(\"MLM\",test(dataset,\"r\",1/3)))\n"
   ]
  },
  {
   "cell_type": "markdown",
   "metadata": {},
   "source": [
    "### Time evolution according to the number of reference points"
   ]
  },
  {
   "cell_type": "code",
   "execution_count": 106,
   "metadata": {},
   "outputs": [
    {
     "data": {
      "image/png": "[encoded data removed]",
      "text/plain": [
       "<Figure size 576x432 with 1 Axes>"
      ]
     },
     "metadata": {},
     "output_type": "display_data"
    }
   ],
   "source": [
    "X, y = make_regression(n_samples=1000,n_features=2,random_state=1)\n",
    "X,y = preprocessing(dataset)\n",
    "X_train, X_test, y_train, y_test = split_and_norm(X,y,\"r\",test_size=1/3)\n",
    "y_train = y_train.reshape((len(y_train),1))\n",
    "T = []\n",
    "for i in np.arange(5,105,5):  \n",
    "    clf = MLM(rp_number=i/100)\n",
    "    tps1 = time.time()\n",
    "    pred = clf.fit(X_train,y_train).predict(X_test)\n",
    "    tps2 = time.time()\n",
    "    T.append(tps2-tps1)\n",
    "    \n",
    "plt.figure(figsize=(8,6))\n",
    "plt.plot(np.arange(5,105,5),T)\n",
    "plt.title(\"Evolution of the execution time according\\nto the number of reference points \",fontsize=14)\n",
    "plt.xlabel(\"K %\",fontsize=13)\n",
    "plt.ylabel(\"Time (s)\",fontsize=13)\n",
    "plt.show()"
   ]
  },
  {
   "cell_type": "markdown",
   "metadata": {},
   "source": [
    "## Minimal Learning Machine with Random Forest Dissimilarities \n",
    "### a) Regression "
   ]
  },
  {
   "cell_type": "code",
   "execution_count": 27,
   "metadata": {},
   "outputs": [
    {
     "name": "stdout",
     "output_type": "stream",
     "text": [
      "Score : 0.6341926428647923\n"
     ]
    }
   ],
   "source": [
    "clf = mlm.RDFMLM_Regressor()\n",
    "X,y = preprocessing(servo)\n",
    "x_train, x_test, y_train, y_test = split_and_norm(X,y,\"r\",test_size=1/3)\n",
    "clf.fit(x_train,y_train)\n",
    "pred = clf.predict(x_test)\n",
    "print(\"Score :\",mean_squared_error(pred,y_test))"
   ]
  },
  {
   "cell_type": "code",
   "execution_count": 28,
   "metadata": {},
   "outputs": [
    {
     "name": "stdout",
     "output_type": "stream",
     "text": [
      "Score : 3214440.0038435007\n"
     ]
    }
   ],
   "source": [
    "clf = mlm.RDFMLM_Regressor()\n",
    "X,y = preprocessing(price)\n",
    "x_train, x_test, y_train, y_test = split_and_norm(X,y,\"r\",test_size=1/3)\n",
    "clf.fit(x_train,y_train)\n",
    "pred = clf.predict(x_test)\n",
    "print(\"Score :\",mean_squared_error(pred,y_test))"
   ]
  },
  {
   "cell_type": "code",
   "execution_count": 29,
   "metadata": {},
   "outputs": [
    {
     "name": "stdout",
     "output_type": "stream",
     "text": [
      "Score : 14.757476056368313\n"
     ]
    }
   ],
   "source": [
    "clf = mlm.RDFMLM_Regressor()\n",
    "X,y = preprocessing(housing)\n",
    "x_train, x_test, y_train, y_test = split_and_norm(X,y,\"r\",test_size=1/3)\n",
    "clf.fit(x_train,y_train)\n",
    "pred = clf.predict(x_test)\n",
    "print(\"Score :\",mean_squared_error(pred,y_test))"
   ]
  },
  {
   "cell_type": "code",
   "execution_count": 30,
   "metadata": {},
   "outputs": [
    {
     "name": "stdout",
     "output_type": "stream",
     "text": [
      "Score : 5.67925382721993\n"
     ]
    }
   ],
   "source": [
    "clf = mlm.RDFMLM_Regressor()\n",
    "X,y = preprocessing(abalone)\n",
    "x_train, x_test, y_train, y_test = split_and_norm(X,y,\"r\",test_size=1/3)\n",
    "clf.fit(x_train,y_train)\n",
    "pred = clf.predict(x_test)\n",
    "print(\"Score :\",mean_squared_error(pred,y_test))"
   ]
  },
  {
   "cell_type": "markdown",
   "metadata": {},
   "source": [
    "### Classification"
   ]
  },
  {
   "cell_type": "code",
   "execution_count": 33,
   "metadata": {},
   "outputs": [
    {
     "name": "stdout",
     "output_type": "stream",
     "text": [
      "Score : 0.96\n"
     ]
    }
   ],
   "source": [
    "clf = mlm.RDFMLM_Classifier()\n",
    "X,y = preprocessing(iris)\n",
    "x_train, x_test, y_train, y_test = split_and_norm(X,y,\"r\",test_size=1/3)\n",
    "clf.fit(x_train,y_train)\n",
    "print(\"Score :\",clf.score(x_test,y_test))"
   ]
  },
  {
   "cell_type": "code",
   "execution_count": 34,
   "metadata": {},
   "outputs": [
    {
     "name": "stdout",
     "output_type": "stream",
     "text": [
      "Score : 0.9833333333333333\n"
     ]
    }
   ],
   "source": [
    "clf = mlm.RDFMLM_Classifier()\n",
    "X,y = preprocessing(wine)\n",
    "x_train, x_test, y_train, y_test = split_and_norm(X,y,\"r\",test_size=1/3)\n",
    "clf.fit(x_train,y_train)\n",
    "print(\"Score :\",clf.score(x_test,y_test))"
   ]
  },
  {
   "cell_type": "code",
   "execution_count": null,
   "metadata": {},
   "outputs": [],
   "source": []
  },
  {
   "cell_type": "markdown",
   "metadata": {},
   "source": [
    "### Compare MLM, RF and RFMLM in high dimensional"
   ]
  },
  {
   "cell_type": "code",
   "execution_count": 128,
   "metadata": {},
   "outputs": [
    {
     "name": "stdout",
     "output_type": "stream",
     "text": [
      "MLM :  0.696969696969697\n",
      "MLM :  0.7030075187969925\n",
      "MLM :  0.7361809045226131\n",
      "MLM :  0.6760828625235404\n",
      "MLM :  0.7757575757575758\n",
      "MLM :  0.7836477987421384\n",
      "MLM :  0.7150537634408602\n",
      "MLM :  0.6939736346516008\n",
      "MLM :  0.8196994991652755\n",
      "MLM :  0.7293233082706767\n",
      "MLM :  0.8441558441558441\n",
      "MLM :  0.8250783699059561\n",
      "MLM :  0.7109692396982008\n",
      "MLM :  0.7375201288244766\n",
      "MLM :  0.7259519038076152\n",
      "MLM :  0.687793427230047\n",
      "MLM :  0.8902169101372288\n",
      "MLM :  0.7413288758880067\n",
      "MLM :  0.754746835443038\n",
      "MLM :  0.7122410546139359\n",
      "MLM :  0.7325706113693242\n",
      "MLM :  0.6866233321929525\n",
      "MLM :  0.8605031035609279\n",
      "MLM :  0.7313479623824451\n",
      "MLM :  0.7743682310469314\n",
      "MLM :  0.7836510687463893\n",
      "MLM :  0.8750347898691901\n",
      "MLM :  0.7577057089252212\n",
      "MLM :  0.7509062661833247\n",
      "MLM :  0.8551015292053146\n"
     ]
    }
   ],
   "source": [
    "from sklearn.datasets import make_classification,make_moons,make_circles,make_regression\n",
    "\n",
    "s = []\n",
    "for i in range(1,31):\n",
    "    X, y = make_classification(n_samples=i*400, n_features=i*40, n_redundant=0, n_informative=2,n_classes=3,\n",
    "                               random_state=42, n_clusters_per_class=1)\n",
    "\n",
    "    df = to_pandas(X,y)\n",
    "    X,y = preprocessing(df)\n",
    "    X_train,X_test,y_train,y_test = split_and_norm(X,y,'c')\n",
    "\n",
    "\n",
    "    clf = NN_MLM(1)\n",
    "    clf.fit(X_train,y_train.reshape((len(y_train),1)))\n",
    "    s.append(accuracy_score(y_test,clf.predict(X_test)))\n",
    "    print(\"MLM : \",s[-1])"
   ]
  },
  {
   "cell_type": "code",
   "execution_count": 118,
   "metadata": {},
   "outputs": [],
   "source": [
    "res_rfmlm = np.array([0.9696969696969697,0.7076923076923077,0.8888888888888888, 0.803030303030303, 0.8554216867469879\n",
    ", 0.875, 0.8879310344827587, 0.8383458646616542, 0.8417508417508418, 0.8734939759036144, 0.9281767955801105, 0.8467336683417085\n",
    ", 0.8863109048723898, 0.8884120171673819, 0.9078156312625251, 0.8248587570621468, 0.8477876106194691, 0.9115191986644408\n",
    ", 0.8936507936507937, 0.8893939393939394, 0.8744588744588745, 0.7980769230769231,  0.912303664921466, 0.9572327044025157\n",
    ", 0.921875, 0.9722863741339491, 0.8943820224719101, 0.8387096774193549, 0.9315352697095436])\n",
    "res_mlm=np.array(s)"
   ]
  },
  {
   "cell_type": "code",
   "execution_count": 129,
   "metadata": {},
   "outputs": [
    {
     "data": {
      "text/plain": [
       "(29,)"
      ]
     },
     "execution_count": 129,
     "metadata": {},
     "output_type": "execute_result"
    }
   ],
   "source": []
  },
  {
   "cell_type": "code",
   "execution_count": 130,
   "metadata": {},
   "outputs": [
    {
     "data": {
      "image/png": "[encoded data removed]",
      "text/plain": [
       "<Figure size 576x432 with 1 Axes>"
      ]
     },
     "metadata": {},
     "output_type": "display_data"
    }
   ],
   "source": [
    "plt.figure(figsize=(8,6))\n",
    "plt.title(\"Difference Accuracy between MLM & RFDMLM \\n according to shape evolution\",fontsize=14)\n",
    "plt.xlabel(\"Shape evolution\",fontsize=13)\n",
    "plt.ylabel(\"Difference of Accuracy\",fontsize=13)\n",
    "plt.plot((res_rfmlm-res_mlm),label=\"RFDMLM\",c='green')\n",
    "plt.show()"
   ]
  },
  {
   "cell_type": "code",
   "execution_count": 133,
   "metadata": {},
   "outputs": [
    {
     "data": {
      "text/plain": [
       "(0.7687604497243051,\n",
       " 0.7428974120605015,\n",
       " 0.8449460312110915,\n",
       " 0.8734420598781579)"
      ]
     },
     "execution_count": 133,
     "metadata": {},
     "output_type": "execute_result"
    }
   ],
   "source": [
    "np.mean(res_mlm[:5]),np.mean(res_mlm[15:20]),np.mean(res_rfmlm[:5]),np.mean(res_rfmlm[15:20])"
   ]
  },
  {
   "cell_type": "code",
   "execution_count": 101,
   "metadata": {},
   "outputs": [
    {
     "name": "stdout",
     "output_type": "stream",
     "text": [
      "MLM :  22.551297838631704\n",
      "MLM :  113.64486720570976\n",
      "MLM :  617.0105793448392\n",
      "MLM :  756.493330154077\n",
      "MLM :  1030.5003260699589\n",
      "MLM :  1246.118759025779\n",
      "MLM :  739.2451902799913\n",
      "MLM :  37.94433378617344\n",
      "MLM :  405.7765125931754\n",
      "MLM :  329.6355774967844\n",
      "MLM :  626.4223222249732\n",
      "MLM :  367.80177190216057\n",
      "MLM :  345.85580019894286\n",
      "MLM :  472.4740552577811\n",
      "MLM :  212.57244106267217\n",
      "MLM :  237.3229026610694\n",
      "MLM :  383.2071985231241\n",
      "MLM :  83.34200026438067\n",
      "MLM :  98.42391749250503\n",
      "MLM :  413.4209705995388\n",
      "MLM :  1011.7225770090997\n",
      "MLM :  411.9670478927598\n",
      "MLM :  348.3794412575162\n",
      "MLM :  545.9847727315926\n",
      "MLM :  821.389942070177\n",
      "MLM :  300.2064222480251\n",
      "MLM :  87.93417896067601\n",
      "MLM :  753.7231138119253\n",
      "MLM :  453.71281749939396\n"
     ]
    }
   ],
   "source": [
    "s_r = []\n",
    "for i in range(1,30):\n",
    "    X, y = make_regression(n_samples=i*100, n_features=i*10, n_informative=2,\n",
    "                               random_state=42)\n",
    "    df = to_pandas(X,y)\n",
    "    X,y = preprocessing(df)\n",
    "    X_train,X_test,y_train,y_test = split_and_norm(X,y,'r')\n",
    "\n",
    "\n",
    "    clf = MLM(1)\n",
    "    clf.fit(X_train,y_train.reshape((len(y_train),1)))\n",
    "    s_r.append(mean_squared_error(y_test,clf.predict(X_test)))\n",
    "    print(\"MLM : \",s_r[-1])\n"
   ]
  },
  {
   "cell_type": "code",
   "execution_count": 11,
   "metadata": {},
   "outputs": [],
   "source": [
    "rfmlm_r=np.array([29.68511240097921, 69.57437242398458,  989.4040119175385, 688.0442581593887, 819.4488601020369, 634.0161792389123, 171.97592864756328\n",
    ", 18.222135354525076, 123.16725341044071, 100.04829454532984, 160.55691619250024, 117.48715071426872, 68.70789279537149,124.54294086276398\n",
    ", 30.647246430409506, 58.89883266748135,64.70174407111634,12.505911136707095, 18.950361871805768,84.79346440501247, 303.5664263275131\n",
    ", 29.12822026855631,49.610707318100204,127.60446748134241,211.6011854274029,36.767163706737314\n",
    ",11.767203934452208,98.00849368388984,62.168630713209694])\n",
    "mlm_r = np.array([22.551297838631704,113.64486720570976,  617.0105793448392,  756.493330154077, 1030.5003260699589,  1246.118759025779\n",
    ", 739.2451902799913,  37.94433378617344, 405.7765125931754, 329.6355774967844, 626.4223222249732, 367.80177190216057\n",
    ", 345.85580019894286,  472.4740552577811,  212.57244106267217,  237.3229026610694,  383.2071985231241,  83.34200026438067\n",
    ",  98.42391749250503,  413.4209705995388,  1011.7225770090997,  411.9670478927598,  348.3794412575162\n",
    ", 545.9847727315926, 821.38994207017, 300.2064222480251, 87.93417896067601, 753.7231138119253,453.71281749939396])"
   ]
  },
  {
   "cell_type": "code",
   "execution_count": 17,
   "metadata": {},
   "outputs": [
    {
     "data": {
      "image/png": "[encoded data removed]",
      "text/plain": [
       "<Figure size 576x432 with 1 Axes>"
      ]
     },
     "metadata": {},
     "output_type": "display_data"
    }
   ],
   "source": [
    "plt.figure(figsize=(8,6))\n",
    "plt.title(\"Difference MSE between RFDMLM & MLM \\naccording to shape evolution\",fontsize=14)\n",
    "plt.xlabel(\"Shape evolution\",fontsize=13)\n",
    "plt.ylabel(\"Difference of MSE\",fontsize=13)\n",
    "u = np.abs(mlm_r-rfmlm_r)\n",
    "plt.plot(u/(u.max()-u.min()),label=\"RFDMLM\")\n",
    "plt.show()"
   ]
  },
  {
   "cell_type": "code",
   "execution_count": null,
   "metadata": {},
   "outputs": [],
   "source": [
    "plt.figure(figsize=(8,6))\n",
    "plt.title(\"Time execution for each dataset\",fontsize=14)\n",
    "plt.xlabel(\"Shape evolution\",fontsize=13)\n",
    "plt.ylabel(\"Time(s)\",fontsize=13)\n",
    "plt.plot([0.62,0.14,0.28,0.7])\n",
    "plt.plot([0.04,0.0002,0.01,0.06])\n",
    "plt.plot([0.06,0.002,0.05,0.12])\n",
    "plt.show()"
   ]
  },
  {
   "cell_type": "code",
   "execution_count": null,
   "metadata": {},
   "outputs": [],
   "source": []
  }
 ],
 "metadata": {
  "kernelspec": {
   "display_name": "Python 3",
   "language": "python",
   "name": "python3"
  },
  "language_info": {
   "codemirror_mode": {
    "name": "ipython",
    "version": 3
   },
   "file_extension": ".py",
   "mimetype": "text/x-python",
   "name": "python",
   "nbconvert_exporter": "python",
   "pygments_lexer": "ipython3",
   "version": "3.8.3"
  }
 },
 "nbformat": 4,
 "nbformat_minor": 4
}
