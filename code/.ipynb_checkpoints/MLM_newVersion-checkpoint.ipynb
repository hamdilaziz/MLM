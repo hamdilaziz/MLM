{
 "cells": [
  {
   "cell_type": "code",
   "execution_count": 1,
   "metadata": {},
   "outputs": [
    {
     "name": "stderr",
     "output_type": "stream",
     "text": [
      "C:\\Users\\hamdi\\anaconda3\\lib\\site-packages\\sklearn\\utils\\deprecation.py:143: FutureWarning: The sklearn.datasets.samples_generator module is  deprecated in version 0.22 and will be removed in version 0.24. The corresponding classes / functions should instead be imported from sklearn.datasets. Anything that cannot be imported from sklearn.datasets is now part of the private API.\n",
      "  warnings.warn(message, FutureWarning)\n"
     ]
    }
   ],
   "source": [
    "# -*- coding: utf-8 -*-\n",
    "\"\"\"\n",
    "Created on Sun Feb 28 16:58:28 2021\n",
    "\n",
    "@author: hamdi\n",
    "\"\"\"\n",
    "\n",
    "import numpy as np\n",
    "from scipy.spatial import distance\n",
    "from sklearn.datasets import make_circles\n",
    "from scipy.optimize import least_squares\n",
    "from sklearn.preprocessing import StandardScaler,MinMaxScaler\n",
    "from sklearn.model_selection import train_test_split\n",
    "from sklearn.metrics import mean_squared_error\n",
    "from scipy.spatial.distance import cdist\n",
    "import pandas as pd\n",
    "import random\n",
    "from skmlm import MLM"
   ]
  },
  {
   "cell_type": "code",
   "execution_count": 7,
   "metadata": {},
   "outputs": [],
   "source": [
    "# charger les données \n",
    "domain = pd.read_csv(\"Servo/servo.domain\",delimiter=\":\", names=[\"column\",\"type\" ])\n",
    "servo = pd.read_csv(\"Servo/servo.data\",names=domain.column.to_list())\n",
    "\n",
    "domain = pd.read_csv(\"Housing/housing.domain\",delimiter=\":\", names=[\"column\",\"type\" ])\n",
    "housing = pd.read_csv(\"Housing/housing.data\",names=domain.column.to_list())\n",
    "\n",
    "def preprocessing(dataset):\n",
    "    # séparer les colonnes en deux types catégorielles et numériques\n",
    "    cat_col=[col for col in dataset.columns if dataset[col].dtype=='object']\n",
    "    num_col=[col for col in dataset.columns if dataset[col].dtype=='int64' or dataset[col].dtype=='float64']\n",
    "    # garder uniquement les colonnes catégorielles et supprimer les valeurs manquantes \n",
    "    dataset = dataset[num_col].dropna(axis=0)\n",
    "    # 10 pérmutation aléatoire pour mélanger les données \n",
    "    df_shuffled=dataset.sample(frac=1).reset_index(drop=True)\n",
    "    for i in range(10):\n",
    "        df_shuffled=df_shuffled.sample(frac=1).reset_index(drop=True)\n",
    "    data = df_shuffled.to_numpy()\n",
    "    size = data.shape[1]\n",
    "    X = data[:,:size-1]\n",
    "    y = data[:,size-1]\n",
    "    y = y.reshape((len(y),1))\n",
    "    x_train, x_test, y_train, y_test = train_test_split(X, y, test_size=1/3,random_state=42)\n",
    "    # centrer réduire\n",
    "    mx,my = x_train.mean(axis=0),y_train.mean(axis=0)\n",
    "    ecart1,ecart2 = np.sqrt(np.var(x_train)),np.sqrt(np.var(y_train))\n",
    "    return (x_train-mx)/ecart1, (x_test-mx)/ecart1, (y_train-my)/ecart2, (y_test-my)/ecart2"
   ]
  },
  {
   "cell_type": "code",
   "execution_count": 8,
   "metadata": {},
   "outputs": [],
   "source": [
    "class KMLM():\n",
    "    def __init__(self,rp_number=None,random_state=42):\n",
    "        self.rp_number = rp_number\n",
    "        if self.rp_number == None: self.rp_number = 0.1\n",
    "        self.random_state = random_state\n",
    "        \n",
    "    def selectRP(self,X,y):\n",
    "        n = len(X)\n",
    "        if self.rp_number <= 1:\n",
    "            self.rp_number = int(self.rp_number * n)\n",
    "        y = y.reshape((n,1))\n",
    "        r = np.random.RandomState(self.random_state)\n",
    "        id_rp = r.choice(range(n),self.rp_number,replace=False)\n",
    "        self.rp_x = X[id_rp]\n",
    "        self.rp_y = y[id_rp]\n",
    "        return self.rp_x,self.rp_y\n",
    "\n",
    "    def pinv_(self,D_x):\n",
    "        try:\n",
    "            return np.linalg.inv(D_x.T @ D_x) @ D_x.T\n",
    "        except Exception as e:\n",
    "            return np.linalg.pinv(D_x)\n",
    "    \n",
    "    def fit(self,D_x,D_y):\n",
    "        self.B = self.pinv_(D_x) @ D_y \n",
    "\n",
    "    def cost(self,y,x,d_x):\n",
    "        d_y  = cdist(y.reshape((len(y),1)),self.rp_y)# elle seras modifier selon la méthode de calcul de la distance \n",
    "        return ((d_y**2 - (d_x@self.B)**2)**2)[0]\n",
    "\n",
    "    def optimse(self,x,d_x):\n",
    "        J = lambda y: self.cost(y,x,d_x)\n",
    "        out = least_squares(J,x0 =self.rp_y.mean(axis=0),method='lm')\n",
    "        return out.x[0]\n",
    "\n",
    "    def predict(self,X,D_x):\n",
    "        return np.array([self.optimse(x,d_x) for x,d_x in zip(X,D_x)])\n",
    "    \n",
    "\n",
    "\n"
   ]
  },
  {
   "cell_type": "code",
   "execution_count": 9,
   "metadata": {},
   "outputs": [
    {
     "data": {
      "text/plain": [
       "array([ True,  True,  True,  True,  True,  True,  True,  True,  True,\n",
       "        True,  True,  True,  True,  True,  True,  True,  True,  True,\n",
       "        True,  True,  True,  True,  True,  True,  True,  True,  True,\n",
       "        True,  True,  True,  True,  True,  True,  True,  True,  True,\n",
       "        True,  True,  True,  True,  True,  True,  True,  True,  True,\n",
       "        True,  True,  True,  True,  True,  True,  True,  True,  True,\n",
       "        True,  True])"
      ]
     },
     "execution_count": 9,
     "metadata": {},
     "output_type": "execute_result"
    }
   ],
   "source": [
    "x_train, x_test, y_train, y_test = preprocessing(servo)\n",
    "k = KMLM(0.1)\n",
    "rp_x,rp_y=k.selectRP(x_train,y_train)\n",
    "D_x,D_y = cdist(x_train,rp_x,\"euclidean\"),cdist(y_train.reshape((len(y_train),1)),rp_y,\"euclidean\")\n",
    "k.fit(D_x,D_y)\n",
    "D_x_test =  cdist(x_test,rp_x)\n",
    "ypred1 = k.predict(x_test,D_x_test)\n",
    "\n",
    "    \n",
    "clf = MLM(0.1)\n",
    "B1 = clf.fit(x_train,y_train)\n",
    "ypred2 = clf.predict(x_test)\n",
    "\n",
    "ypred1 == ypred2"
   ]
  },
  {
   "cell_type": "code",
   "execution_count": 10,
   "metadata": {},
   "outputs": [
    {
     "data": {
      "text/plain": [
       "array([ True,  True,  True,  True,  True,  True,  True,  True,  True,\n",
       "        True,  True,  True,  True,  True,  True,  True,  True,  True,\n",
       "        True,  True,  True,  True,  True,  True,  True,  True,  True,\n",
       "        True,  True,  True,  True,  True,  True,  True,  True,  True,\n",
       "        True,  True,  True,  True,  True,  True,  True,  True,  True,\n",
       "        True,  True,  True,  True,  True,  True,  True,  True,  True,\n",
       "        True,  True,  True,  True,  True,  True,  True,  True,  True,\n",
       "        True,  True,  True,  True,  True,  True,  True,  True,  True,\n",
       "        True,  True,  True,  True,  True,  True,  True,  True,  True,\n",
       "        True,  True,  True,  True,  True,  True,  True,  True,  True,\n",
       "        True,  True,  True,  True,  True,  True,  True,  True,  True,\n",
       "        True,  True,  True,  True,  True,  True,  True,  True,  True,\n",
       "        True,  True,  True,  True,  True,  True,  True,  True,  True,\n",
       "        True,  True,  True,  True,  True,  True,  True,  True,  True,\n",
       "        True,  True,  True,  True,  True,  True,  True,  True,  True,\n",
       "        True,  True,  True,  True,  True,  True,  True,  True,  True,\n",
       "        True,  True,  True,  True,  True,  True,  True,  True,  True,\n",
       "        True,  True,  True,  True,  True,  True,  True,  True,  True,\n",
       "        True,  True,  True,  True,  True,  True,  True])"
      ]
     },
     "execution_count": 10,
     "metadata": {},
     "output_type": "execute_result"
    }
   ],
   "source": [
    "x_train, x_test, y_train, y_test = preprocessing(housing)\n",
    "k = KMLM(0.1)\n",
    "rp_x,rp_y=k.selectRP(x_train,y_train)\n",
    "D_x,D_y = cdist(x_train,rp_x,\"euclidean\"),cdist(y_train.reshape((len(y_train),1)),rp_y,\"euclidean\")\n",
    "k.fit(D_x,D_y)\n",
    "D_x_test =  cdist(x_test,rp_x)\n",
    "ypred1 = k.predict(x_test,D_x_test)\n",
    "\n",
    "    \n",
    "clf = MLM(0.1)\n",
    "B1 = clf.fit(x_train,y_train)\n",
    "ypred2 = clf.predict(x_test)\n",
    "\n",
    "ypred1 == ypred2"
   ]
  },
  {
   "cell_type": "code",
   "execution_count": 32,
   "metadata": {},
   "outputs": [],
   "source": [
    "\n",
    "\n",
    "########################### fonction that compute the distances between points ##################################### \n",
    "def compute_dist(X,u,methode=\"euclidean\"):\n",
    "    dic = {'euclidean':distance.euclidean,'cosine':distance.cosine,'manhatan':distance.cityblock,\"braycurtis\":distance.braycurtis}\n",
    "    assert methode in dic.keys()\n",
    "    \n",
    "    nbrl = len(X)\n",
    "    nbrc = len(u)\n",
    "    \n",
    "    if len(X.shape) == 1:# si X est un vecteur \n",
    "        m = np.zeros(nbrc)\n",
    "        for i in range(nbrc):\n",
    "            m[i] = dic[methode](X,u[i])# calcul la distance entre les 2 observations\n",
    "    else: # si X est une matrice \n",
    "        m = np.zeros((nbrl,nbrc))\n",
    "        for i in range(nbrl):\n",
    "            for j in range(nbrc):\n",
    "                m[i,j] = dic[methode](X[i],u[j]) # calcul la distance entre les 2 observations\n",
    "    return m\n",
    "\n",
    "\n"
   ]
  },
  {
   "cell_type": "code",
   "execution_count": null,
   "metadata": {},
   "outputs": [],
   "source": []
  },
  {
   "cell_type": "code",
   "execution_count": null,
   "metadata": {},
   "outputs": [],
   "source": []
  },
  {
   "cell_type": "code",
   "execution_count": null,
   "metadata": {},
   "outputs": [],
   "source": []
  }
 ],
 "metadata": {
  "kernelspec": {
   "display_name": "Python 3",
   "language": "python",
   "name": "python3"
  },
  "language_info": {
   "codemirror_mode": {
    "name": "ipython",
    "version": 3
   },
   "file_extension": ".py",
   "mimetype": "text/x-python",
   "name": "python",
   "nbconvert_exporter": "python",
   "pygments_lexer": "ipython3",
   "version": "3.8.3"
  }
 },
 "nbformat": 4,
 "nbformat_minor": 4
}
