{
 "cells": [
  {
   "cell_type": "code",
   "execution_count": 1,
   "metadata": {},
   "outputs": [
    {
     "name": "stderr",
     "output_type": "stream",
     "text": [
      "C:\\Users\\hamdi\\anaconda3\\lib\\site-packages\\sklearn\\utils\\deprecation.py:143: FutureWarning: The sklearn.datasets.samples_generator module is  deprecated in version 0.22 and will be removed in version 0.24. The corresponding classes / functions should instead be imported from sklearn.datasets. Anything that cannot be imported from sklearn.datasets is now part of the private API.\n",
      "  warnings.warn(message, FutureWarning)\n"
     ]
    }
   ],
   "source": [
    "import matplotlib.pyplot as plt\n",
    "import numpy as np\n",
    "import pandas as pd\n",
    "import seaborn as sns\n",
    "from skmlm import MLM,MLMC,NN_MLM\n",
    "from sklearn.metrics import mean_squared_error\n",
    "from sklearn.pipeline import make_pipeline\n",
    "from sklearn.preprocessing import StandardScaler,MinMaxScaler\n",
    "from sklearn.svm import SVR,SVC\n",
    "from sklearn.model_selection import train_test_split,GridSearchCV,StratifiedKFold\n",
    "sns.set_theme(style=\"darkgrid\")\n",
    "from sklearn.utils import shuffle"
   ]
  },
  {
   "cell_type": "code",
   "execution_count": 2,
   "metadata": {},
   "outputs": [],
   "source": [
    "from sklearn.datasets import load_iris,load_wine,load_breast_cancer"
   ]
  },
  {
   "cell_type": "markdown",
   "metadata": {},
   "source": [
    "## 1. Préparations des données"
   ]
  },
  {
   "cell_type": "markdown",
   "metadata": {},
   "source": [
    "### 1.1 Chargement de données "
   ]
  },
  {
   "cell_type": "code",
   "execution_count": 3,
   "metadata": {},
   "outputs": [],
   "source": [
    "def to_pandas(X,y):\n",
    "    n = len(X)\n",
    "    return pd.DataFrame(data = np.concatenate((X,y.reshape((n,1))),axis=1),columns=[\"c\"+str(i) for i in range(X.shape[1]+1)])\n",
    "\n",
    "# 6 datasets pour la régression \n",
    "domain = pd.read_csv(\"Abalone/abalone.domain\",delimiter=\":\", names=[\"column\",\"type\" ])# Pour charger les noms des dolonnes\n",
    "abalone = pd.read_csv(\"Abalone/abalone.data\",names=domain.column.to_list()) # charher la dataset, \n",
    "\n",
    "domain = pd.read_csv(\"Auto-Price/price.domain\",delimiter=\":\", names=[\"column\",\"type\",\"unknow\"])\n",
    "price = pd.read_csv(\"Auto-Price/price.data\",names=domain.column.to_list())\n",
    "\n",
    "domain = pd.read_csv(\"Housing/housing.domain\",delimiter=\":\", names=[\"column\",\"type\" ])\n",
    "housing = pd.read_csv(\"Housing/housing.data\",names=domain.column.to_list())\n",
    "\n",
    "domain = pd.read_csv(\"Servo/servo.domain\",delimiter=\":\", names=[\"column\",\"type\" ])\n",
    "servo = pd.read_csv(\"Servo/servo.data\",names=domain.column.to_list())\n",
    "\n",
    "# 3 dataset pour la classification\n",
    "cancer = to_pandas(load_breast_cancer().data,load_breast_cancer().target)\n",
    "iris = to_pandas(load_iris().data,load_iris().target)\n",
    "wine = to_pandas(load_wine().data,load_wine().target)\n",
    "diabetes = pd.read_csv(\"diabetes.csv\")\n",
    "\n"
   ]
  },
  {
   "cell_type": "code",
   "execution_count": 4,
   "metadata": {},
   "outputs": [
    {
     "name": "stdout",
     "output_type": "stream",
     "text": [
      "Les dimensions des données :\n",
      "Servo         : (167, 5)\n",
      "Abalone       : (4177, 9)\n",
      "housing       : (506, 14)\n",
      "Auto price    : (159, 16)\n",
      "breast_cancer : (569, 31)\n",
      "iris          : (150, 5)\n",
      "wine          : (178, 14)\n",
      "Diabetes      : (768, 9)\n"
     ]
    }
   ],
   "source": [
    "print(\"Les dimensions des données :\")\n",
    "print(\"Servo         :\",servo.shape)\n",
    "print(\"Abalone       :\",abalone.shape)\n",
    "print(\"housing       :\",housing.shape)\n",
    "print(\"Auto price    :\", price.shape)\n",
    "print(\"breast_cancer :\",cancer.shape)\n",
    "print(\"iris          :\",iris.shape)\n",
    "print(\"wine          :\",wine.shape)\n",
    "print(\"Diabetes      :\",diabetes.shape)"
   ]
  },
  {
   "cell_type": "code",
   "execution_count": 5,
   "metadata": {},
   "outputs": [
    {
     "data": {
      "text/html": [
       "<div>\n",
       "<style scoped>\n",
       "    .dataframe tbody tr th:only-of-type {\n",
       "        vertical-align: middle;\n",
       "    }\n",
       "\n",
       "    .dataframe tbody tr th {\n",
       "        vertical-align: top;\n",
       "    }\n",
       "\n",
       "    .dataframe thead th {\n",
       "        text-align: right;\n",
       "    }\n",
       "</style>\n",
       "<table border=\"1\" class=\"dataframe\">\n",
       "  <thead>\n",
       "    <tr style=\"text-align: right;\">\n",
       "      <th></th>\n",
       "      <th>motor</th>\n",
       "      <th>screw</th>\n",
       "      <th>pgain</th>\n",
       "      <th>vgain</th>\n",
       "      <th>class</th>\n",
       "    </tr>\n",
       "  </thead>\n",
       "  <tbody>\n",
       "    <tr>\n",
       "      <th>0</th>\n",
       "      <td>E</td>\n",
       "      <td>E</td>\n",
       "      <td>5</td>\n",
       "      <td>4</td>\n",
       "      <td>0.281251</td>\n",
       "    </tr>\n",
       "    <tr>\n",
       "      <th>1</th>\n",
       "      <td>B</td>\n",
       "      <td>D</td>\n",
       "      <td>6</td>\n",
       "      <td>5</td>\n",
       "      <td>0.506252</td>\n",
       "    </tr>\n",
       "  </tbody>\n",
       "</table>\n",
       "</div>"
      ],
      "text/plain": [
       "  motor screw  pgain  vgain     class\n",
       "0     E     E      5      4  0.281251\n",
       "1     B     D      6      5  0.506252"
      ]
     },
     "execution_count": 5,
     "metadata": {},
     "output_type": "execute_result"
    }
   ],
   "source": [
    "servo.head(2)"
   ]
  },
  {
   "cell_type": "code",
   "execution_count": 6,
   "metadata": {},
   "outputs": [
    {
     "data": {
      "text/html": [
       "<div>\n",
       "<style scoped>\n",
       "    .dataframe tbody tr th:only-of-type {\n",
       "        vertical-align: middle;\n",
       "    }\n",
       "\n",
       "    .dataframe tbody tr th {\n",
       "        vertical-align: top;\n",
       "    }\n",
       "\n",
       "    .dataframe thead th {\n",
       "        text-align: right;\n",
       "    }\n",
       "</style>\n",
       "<table border=\"1\" class=\"dataframe\">\n",
       "  <thead>\n",
       "    <tr style=\"text-align: right;\">\n",
       "      <th></th>\n",
       "      <th>sex</th>\n",
       "      <th>length</th>\n",
       "      <th>diameter</th>\n",
       "      <th>height</th>\n",
       "      <th>whole weight</th>\n",
       "      <th>shucked weight</th>\n",
       "      <th>viscera weight</th>\n",
       "      <th>shell weight</th>\n",
       "      <th>rings</th>\n",
       "    </tr>\n",
       "  </thead>\n",
       "  <tbody>\n",
       "    <tr>\n",
       "      <th>0</th>\n",
       "      <td>M</td>\n",
       "      <td>0.455</td>\n",
       "      <td>0.365</td>\n",
       "      <td>0.095</td>\n",
       "      <td>0.5140</td>\n",
       "      <td>0.2245</td>\n",
       "      <td>0.1010</td>\n",
       "      <td>0.15</td>\n",
       "      <td>15</td>\n",
       "    </tr>\n",
       "    <tr>\n",
       "      <th>1</th>\n",
       "      <td>M</td>\n",
       "      <td>0.350</td>\n",
       "      <td>0.265</td>\n",
       "      <td>0.090</td>\n",
       "      <td>0.2255</td>\n",
       "      <td>0.0995</td>\n",
       "      <td>0.0485</td>\n",
       "      <td>0.07</td>\n",
       "      <td>7</td>\n",
       "    </tr>\n",
       "  </tbody>\n",
       "</table>\n",
       "</div>"
      ],
      "text/plain": [
       "  sex   length   diameter  height  whole weight  shucked weight  \\\n",
       "0    M    0.455     0.365   0.095        0.5140          0.2245   \n",
       "1    M    0.350     0.265   0.090        0.2255          0.0995   \n",
       "\n",
       "   viscera weight  shell weight  rings  \n",
       "0          0.1010          0.15     15  \n",
       "1          0.0485          0.07      7  "
      ]
     },
     "execution_count": 6,
     "metadata": {},
     "output_type": "execute_result"
    }
   ],
   "source": [
    "abalone.head(2)"
   ]
  },
  {
   "cell_type": "code",
   "execution_count": 7,
   "metadata": {},
   "outputs": [
    {
     "data": {
      "text/html": [
       "<div>\n",
       "<style scoped>\n",
       "    .dataframe tbody tr th:only-of-type {\n",
       "        vertical-align: middle;\n",
       "    }\n",
       "\n",
       "    .dataframe tbody tr th {\n",
       "        vertical-align: top;\n",
       "    }\n",
       "\n",
       "    .dataframe thead th {\n",
       "        text-align: right;\n",
       "    }\n",
       "</style>\n",
       "<table border=\"1\" class=\"dataframe\">\n",
       "  <thead>\n",
       "    <tr style=\"text-align: right;\">\n",
       "      <th></th>\n",
       "      <th>CRIM</th>\n",
       "      <th>ZN</th>\n",
       "      <th>INDUS</th>\n",
       "      <th>CHAS</th>\n",
       "      <th>NOX</th>\n",
       "      <th>RM</th>\n",
       "      <th>AGE</th>\n",
       "      <th>DIS</th>\n",
       "      <th>RAD</th>\n",
       "      <th>TAX</th>\n",
       "      <th>PTRATIO</th>\n",
       "      <th>B</th>\n",
       "      <th>LSTAT</th>\n",
       "      <th>class</th>\n",
       "    </tr>\n",
       "  </thead>\n",
       "  <tbody>\n",
       "    <tr>\n",
       "      <th>0</th>\n",
       "      <td>0.006</td>\n",
       "      <td>18.0</td>\n",
       "      <td>2.31</td>\n",
       "      <td>0</td>\n",
       "      <td>0.538</td>\n",
       "      <td>6.575</td>\n",
       "      <td>65.2</td>\n",
       "      <td>4.090</td>\n",
       "      <td>1</td>\n",
       "      <td>296.0</td>\n",
       "      <td>15.3</td>\n",
       "      <td>396.898</td>\n",
       "      <td>4.98</td>\n",
       "      <td>24.0</td>\n",
       "    </tr>\n",
       "    <tr>\n",
       "      <th>1</th>\n",
       "      <td>0.027</td>\n",
       "      <td>0.0</td>\n",
       "      <td>7.07</td>\n",
       "      <td>0</td>\n",
       "      <td>0.469</td>\n",
       "      <td>6.421</td>\n",
       "      <td>78.9</td>\n",
       "      <td>4.967</td>\n",
       "      <td>2</td>\n",
       "      <td>242.0</td>\n",
       "      <td>17.8</td>\n",
       "      <td>396.898</td>\n",
       "      <td>9.14</td>\n",
       "      <td>21.6</td>\n",
       "    </tr>\n",
       "  </tbody>\n",
       "</table>\n",
       "</div>"
      ],
      "text/plain": [
       "    CRIM    ZN  INDUS  CHAS    NOX     RM   AGE    DIS  RAD    TAX  PTRATIO  \\\n",
       "0  0.006  18.0   2.31     0  0.538  6.575  65.2  4.090    1  296.0     15.3   \n",
       "1  0.027   0.0   7.07     0  0.469  6.421  78.9  4.967    2  242.0     17.8   \n",
       "\n",
       "         B  LSTAT  class   \n",
       "0  396.898   4.98    24.0  \n",
       "1  396.898   9.14    21.6  "
      ]
     },
     "execution_count": 7,
     "metadata": {},
     "output_type": "execute_result"
    }
   ],
   "source": [
    "housing.head(2)"
   ]
  },
  {
   "cell_type": "code",
   "execution_count": 8,
   "metadata": {},
   "outputs": [
    {
     "data": {
      "text/html": [
       "<div>\n",
       "<style scoped>\n",
       "    .dataframe tbody tr th:only-of-type {\n",
       "        vertical-align: middle;\n",
       "    }\n",
       "\n",
       "    .dataframe tbody tr th {\n",
       "        vertical-align: top;\n",
       "    }\n",
       "\n",
       "    .dataframe thead th {\n",
       "        text-align: right;\n",
       "    }\n",
       "</style>\n",
       "<table border=\"1\" class=\"dataframe\">\n",
       "  <thead>\n",
       "    <tr style=\"text-align: right;\">\n",
       "      <th></th>\n",
       "      <th>symboling</th>\n",
       "      <th>normalized-losses</th>\n",
       "      <th>wheel-base</th>\n",
       "      <th>length</th>\n",
       "      <th>width</th>\n",
       "      <th>height</th>\n",
       "      <th>curb-weight</th>\n",
       "      <th>engine-size</th>\n",
       "      <th>bore</th>\n",
       "      <th>stroke</th>\n",
       "      <th>compression-ratio</th>\n",
       "      <th>horsepower</th>\n",
       "      <th>peak-rpm</th>\n",
       "      <th>city-mpg</th>\n",
       "      <th>highway-mpg</th>\n",
       "      <th>price</th>\n",
       "    </tr>\n",
       "  </thead>\n",
       "  <tbody>\n",
       "    <tr>\n",
       "      <th>0</th>\n",
       "      <td>2</td>\n",
       "      <td>164</td>\n",
       "      <td>99.8</td>\n",
       "      <td>176.6</td>\n",
       "      <td>66.2</td>\n",
       "      <td>54.3</td>\n",
       "      <td>2337</td>\n",
       "      <td>109</td>\n",
       "      <td>3.19</td>\n",
       "      <td>3.4</td>\n",
       "      <td>10.0</td>\n",
       "      <td>102</td>\n",
       "      <td>5500</td>\n",
       "      <td>24</td>\n",
       "      <td>30</td>\n",
       "      <td>13950</td>\n",
       "    </tr>\n",
       "    <tr>\n",
       "      <th>1</th>\n",
       "      <td>2</td>\n",
       "      <td>164</td>\n",
       "      <td>99.4</td>\n",
       "      <td>176.6</td>\n",
       "      <td>66.4</td>\n",
       "      <td>54.3</td>\n",
       "      <td>2824</td>\n",
       "      <td>136</td>\n",
       "      <td>3.19</td>\n",
       "      <td>3.4</td>\n",
       "      <td>8.0</td>\n",
       "      <td>115</td>\n",
       "      <td>5500</td>\n",
       "      <td>18</td>\n",
       "      <td>22</td>\n",
       "      <td>17450</td>\n",
       "    </tr>\n",
       "  </tbody>\n",
       "</table>\n",
       "</div>"
      ],
      "text/plain": [
       "   symboling  normalized-losses  wheel-base  length  width  height  \\\n",
       "0          2                164        99.8   176.6   66.2    54.3   \n",
       "1          2                164        99.4   176.6   66.4    54.3   \n",
       "\n",
       "   curb-weight  engine-size  bore  stroke  compression-ratio  horsepower  \\\n",
       "0         2337          109  3.19     3.4               10.0         102   \n",
       "1         2824          136  3.19     3.4                8.0         115   \n",
       "\n",
       "   peak-rpm  city-mpg  highway-mpg  price  \n",
       "0      5500        24           30  13950  \n",
       "1      5500        18           22  17450  "
      ]
     },
     "execution_count": 8,
     "metadata": {},
     "output_type": "execute_result"
    }
   ],
   "source": [
    "price.head(2)"
   ]
  },
  {
   "cell_type": "code",
   "execution_count": 9,
   "metadata": {},
   "outputs": [
    {
     "data": {
      "text/html": [
       "<div>\n",
       "<style scoped>\n",
       "    .dataframe tbody tr th:only-of-type {\n",
       "        vertical-align: middle;\n",
       "    }\n",
       "\n",
       "    .dataframe tbody tr th {\n",
       "        vertical-align: top;\n",
       "    }\n",
       "\n",
       "    .dataframe thead th {\n",
       "        text-align: right;\n",
       "    }\n",
       "</style>\n",
       "<table border=\"1\" class=\"dataframe\">\n",
       "  <thead>\n",
       "    <tr style=\"text-align: right;\">\n",
       "      <th></th>\n",
       "      <th>Pregnancies</th>\n",
       "      <th>Glucose</th>\n",
       "      <th>BloodPressure</th>\n",
       "      <th>SkinThickness</th>\n",
       "      <th>Insulin</th>\n",
       "      <th>BMI</th>\n",
       "      <th>DiabetesPedigreeFunction</th>\n",
       "      <th>Age</th>\n",
       "      <th>Outcome</th>\n",
       "    </tr>\n",
       "  </thead>\n",
       "  <tbody>\n",
       "    <tr>\n",
       "      <th>0</th>\n",
       "      <td>6</td>\n",
       "      <td>148</td>\n",
       "      <td>72</td>\n",
       "      <td>35</td>\n",
       "      <td>0</td>\n",
       "      <td>33.6</td>\n",
       "      <td>0.627</td>\n",
       "      <td>50</td>\n",
       "      <td>1</td>\n",
       "    </tr>\n",
       "    <tr>\n",
       "      <th>1</th>\n",
       "      <td>1</td>\n",
       "      <td>85</td>\n",
       "      <td>66</td>\n",
       "      <td>29</td>\n",
       "      <td>0</td>\n",
       "      <td>26.6</td>\n",
       "      <td>0.351</td>\n",
       "      <td>31</td>\n",
       "      <td>0</td>\n",
       "    </tr>\n",
       "  </tbody>\n",
       "</table>\n",
       "</div>"
      ],
      "text/plain": [
       "   Pregnancies  Glucose  BloodPressure  SkinThickness  Insulin   BMI  \\\n",
       "0            6      148             72             35        0  33.6   \n",
       "1            1       85             66             29        0  26.6   \n",
       "\n",
       "   DiabetesPedigreeFunction  Age  Outcome  \n",
       "0                     0.627   50        1  \n",
       "1                     0.351   31        0  "
      ]
     },
     "execution_count": 9,
     "metadata": {},
     "output_type": "execute_result"
    }
   ],
   "source": [
    "diabetes.head(2)"
   ]
  },
  {
   "cell_type": "markdown",
   "metadata": {},
   "source": [
    "### 1.2 Prétraitements"
   ]
  },
  {
   "cell_type": "code",
   "execution_count": 175,
   "metadata": {},
   "outputs": [],
   "source": [
    "\n",
    "def split_and_norm(X,y,name,test_size=1/3):\n",
    "    if name == \"c\":\n",
    "        classes = [list() for i in range(len(np.unique(y)))]# séparer les données selon la classe\n",
    "        for i in range(len(X)):\n",
    "            classes[int(y[i])].append(np.append(X[i],[y[i]],axis=0))\n",
    "        classes = [np.array(e) for e in classes]\n",
    "        train,test = train_test_split(classes[0],test_size=test_size,random_state=42)\n",
    "        for k in range(1,len(classes)):\n",
    "            train_k,test_k = train_test_split(classes[k],test_size=test_size,random_state=42)\n",
    "            train = np.append(train,train_k,axis = 0)\n",
    "            test = np.append(test,test_k,axis = 0)\n",
    "        size = train.shape[1]\n",
    "        x_train,x_test = train[:,:size-1],test[:,:size-1]\n",
    "        y_train,y_test = train[:,size-1],test[:,size-1]\n",
    "    elif name == \"r\":\n",
    "        x_train, x_test, y_train, y_test = train_test_split(X, y, test_size=test_size,random_state=42)\n",
    "    # centrer réduire\n",
    "    mx = x_train.mean(axis=0)\n",
    "    ecart1 = x_train.std()\n",
    "    return (x_train-mx)/ecart1,(x_test-mx)/ecart1,y_train,y_test\n",
    "\n",
    "def preprocessing(dataset):\n",
    "    # séparer les colonnes en deux types catégorielles et numériques\n",
    "    cat_col=[col for col in dataset.columns if dataset[col].dtype=='object']\n",
    "    num_col=[col for col in dataset.columns if dataset[col].dtype=='int64' or dataset[col].dtype=='float64']\n",
    "    # garder uniquement les colonnes catégorielles et supprimer les valeurs manquantes \n",
    "    dataset = dataset[num_col].dropna(axis=0)\n",
    "    # 10 pérmutation aléatoire pour mélanger les données \n",
    "\n",
    "    for i in range(10):\n",
    "        dataset=shuffle(dataset,random_state=0)\n",
    "    data = dataset.to_numpy()\n",
    "    size = data.shape[1]\n",
    "    X = data[:,:size-1]\n",
    "    y = data[:,size-1]\n",
    "    return X,y\n"
   ]
  },
  {
   "cell_type": "code",
   "execution_count": 189,
   "metadata": {},
   "outputs": [],
   "source": [
    "def test(dataset,name,test_size,dist=\"euclidean\"):\n",
    "    L = []\n",
    "    X,y = preprocessing(dataset)\n",
    "    x_train, x_test, y_train, y_test = split_and_norm(X,y,name,test_size=1/3)\n",
    "    y_train = y_train.reshape((len(y_train),1))\n",
    "    y_test = y_test.reshape((len(y_test),1))\n",
    "    if name == \"r\":\n",
    "        for i in np.arange(5,105,5): \n",
    "            clf = MLM(rp_number=i/100,dist = dist)\n",
    "            clf.fit(x_train,y_train)\n",
    "            ypred = clf.predict(x_test)\n",
    "            L.append((mean_squared_error(ypred,y_test),i/100))\n",
    "        return sorted(L, key = lambda couple : couple[0])[0]\n",
    "    elif name== \"c\" :\n",
    "\n",
    "        for i in np.arange(5,105,5): \n",
    "            clf = MLMC(rp_number=i/100,dist=dist)\n",
    "            clf.fit(x_train,y_train)\n",
    "            L.append((clf.score(x_test,y_test),i/100))\n",
    "        return sorted(L, key = lambda couple : couple[0],reverse=True)[0]\n"
   ]
  },
  {
   "cell_type": "code",
   "execution_count": 161,
   "metadata": {},
   "outputs": [],
   "source": [
    "def grid_search_param(x,y,name):\n",
    "    \n",
    "    # je définie les paramètres du grid search \n",
    "    param_grid = {'C': np.logspace(-2, 4, 10),  \n",
    "                  'gamma': [1, 0.1, 0.01, 0.001, 0.0001], \n",
    "                  'epsilon':[0.1,0.2,0.5,0.3],\n",
    "                  'kernel': ['rbf']}\n",
    "\n",
    "    if name == 'r':\n",
    "        grid = GridSearchCV(SVR(), param_grid) \n",
    "    elif name =='c':\n",
    "        param_grid = {'C': np.logspace(-2, 4, 10),  \n",
    "                  'gamma': [1, 0.1, 0.01, 0.001, 0.0001], \n",
    "                  'kernel': ['rbf']}\n",
    "        \n",
    "        grid = GridSearchCV(SVC(),param_grid) \n",
    "    # entrainement du modèle \n",
    "    grid.fit(x,y.reshape(len(y))) \n",
    "    # affichage des meilleurs hyper paramètres\n",
    "    #print(grid.best_params_) \n",
    "\n",
    "    # affciher l'état du modèle avec les meilleurs paramètres trouvés\n",
    "    #print(grid.best_estimator_) \n",
    "    return grid.best_params_\n",
    "\n",
    "def svm_test(dataset,name):\n",
    "    score = 0\n",
    "    X,y = preprocessing(dataset)# pré traiter les données\n",
    "    x_train, x_test, y_train, y_test = split_and_norm(X,y,name,test_size=1/3)# divisier les données et normaliser \n",
    "    g = grid_search_param(x_train,y_train,name)# optimiser les hyper paramètres \n",
    "    if name == \"r\":\n",
    "        clf = SVR(C= g['C'], epsilon= g['epsilon'], gamma= g['gamma'], kernel= g['kernel'])\n",
    "    elif name == \"c\":\n",
    "        clf = SVC(C= g['C'], gamma= g['gamma'], kernel= g['kernel'])\n",
    "        \n",
    "    pred = clf.fit(x_train,y_train).predict(x_test)# prediction\n",
    "    if name == \"r\":\n",
    "        score = mean_squared_error(pred,y_test)# calcul du score\n",
    "    elif name == \"c\":\n",
    "        score = clf.score(x_test,y_test)\n",
    "    return score\n",
    "\n",
    "\n",
    "def dt_test(dataset,name):\n",
    "    score = 0\n",
    "    X,y = preprocessing(dataset)# pré traiter les données\n",
    "    x_train, x_test, y_train, y_test = split_and_norm(X,y,name,test_size=1/3)# divisier les données et normaliser \n",
    "\n",
    "    if name == 'r':\n",
    "        parameters = {'criterion':[\"mse\",  \"mae\"],\n",
    "                      'max_depth':[2,4,6,8,10,12]}\n",
    "        grid = GridSearchCV(DecisionTreeRegressor(), parameters) \n",
    "    elif name =='c':\n",
    "        parameters = {'criterion':[\"gini\", \"entropy\"],\n",
    "                      'max_depth':[2,4,6,8,10,12]}\n",
    "        grid = GridSearchCV(DecisionTreeClassifier(),parameters) \n",
    "    # entrainement du modèle \n",
    "    grid.fit(x_train,y_train) \n",
    "    g = grid.best_params_\n",
    "    if name == \"r\":\n",
    "        clf = DecisionTreeRegressor(criterion=g['criterion'],max_depth=g['max_depth'])\n",
    "    elif name == \"c\":\n",
    "        clf = DecisionTreeClassifier(criterion=g['criterion'],max_depth=g['max_depth'])\n",
    "        \n",
    "    pred = clf.fit(x_train,y_train).predict(x_test)# prediction\n",
    "    if name == \"r\":\n",
    "        score = mean_squared_error(pred,y_test)# calcul du score\n",
    "    elif name == \"c\":\n",
    "        score = clf.score(x_test,y_test)\n",
    "    return score\n"
   ]
  },
  {
   "cell_type": "markdown",
   "metadata": {},
   "source": [
    "## 2. Test sur des problèmes de régressions"
   ]
  },
  {
   "cell_type": "markdown",
   "metadata": {},
   "source": [
    "### Servo dataset\n",
    "#### a) Minimal Learning Machine "
   ]
  },
  {
   "cell_type": "code",
   "execution_count": 140,
   "metadata": {},
   "outputs": [
    {
     "name": "stdout",
     "output_type": "stream",
     "text": [
      "Score : 0.6241376186539634, nombre de points référence associé : 0.3 %\n"
     ]
    }
   ],
   "source": [
    "ser = test(servo,\"r\",1/3)\n",
    "print(\"Score : {}, nombre de points référence associé : {} %\".format(ser[0],ser[1]))"
   ]
  },
  {
   "cell_type": "markdown",
   "metadata": {},
   "source": [
    "#### b) SVM "
   ]
  },
  {
   "cell_type": "code",
   "execution_count": 141,
   "metadata": {},
   "outputs": [
    {
     "name": "stdout",
     "output_type": "stream",
     "text": [
      "Score :  0.9052101169099293\n"
     ]
    }
   ],
   "source": [
    "print(\"Score : \",svm_test(servo,\"r\"))"
   ]
  },
  {
   "cell_type": "markdown",
   "metadata": {},
   "source": [
    "#### c) Decision Tree"
   ]
  },
  {
   "cell_type": "code",
   "execution_count": 153,
   "metadata": {},
   "outputs": [
    {
     "name": "stdout",
     "output_type": "stream",
     "text": [
      "Score :  0.6226242143457469\n"
     ]
    }
   ],
   "source": [
    "print(\"Score : \",dt_test(servo,\"r\"))"
   ]
  },
  {
   "cell_type": "markdown",
   "metadata": {},
   "source": [
    "### 2.2 Dataset Auto Price"
   ]
  },
  {
   "cell_type": "markdown",
   "metadata": {},
   "source": [
    "#### a) MLM"
   ]
  },
  {
   "cell_type": "code",
   "execution_count": 14,
   "metadata": {},
   "outputs": [
    {
     "name": "stdout",
     "output_type": "stream",
     "text": [
      "Meilleur score : 3099576.643231837, Nombre de point références associé : 0.75 %\n"
     ]
    }
   ],
   "source": [
    "pri = test(price,\"r\",1/3)\n",
    "print(\"Meilleur score : {}, Nombre de point références associé : {} %\".format(pri[0],pri[1]))"
   ]
  },
  {
   "cell_type": "markdown",
   "metadata": {},
   "source": [
    "#### b) SVM "
   ]
  },
  {
   "cell_type": "code",
   "execution_count": 142,
   "metadata": {},
   "outputs": [
    {
     "name": "stdout",
     "output_type": "stream",
     "text": [
      "Score :  5744279.762076074\n"
     ]
    }
   ],
   "source": [
    "print(\"Score : \",svm_test(price,\"r\"))"
   ]
  },
  {
   "cell_type": "markdown",
   "metadata": {},
   "source": [
    "#### c) Decision Tree"
   ]
  },
  {
   "cell_type": "code",
   "execution_count": 155,
   "metadata": {},
   "outputs": [
    {
     "name": "stdout",
     "output_type": "stream",
     "text": [
      "Score :  6689661.947684507\n"
     ]
    }
   ],
   "source": [
    "print(\"Score : \",dt_test(price,\"r\"))"
   ]
  },
  {
   "cell_type": "markdown",
   "metadata": {},
   "source": [
    "### 2.3 Dataset Boston Housing"
   ]
  },
  {
   "cell_type": "markdown",
   "metadata": {},
   "source": [
    "#### a) MLM"
   ]
  },
  {
   "cell_type": "code",
   "execution_count": 15,
   "metadata": {},
   "outputs": [
    {
     "name": "stdout",
     "output_type": "stream",
     "text": [
      "Meilleur valeur : 24.157636881665386, Nombre de point références associé : 0.85 %\n"
     ]
    }
   ],
   "source": [
    "hou = test(housing,\"r\",1/3)\n",
    "print(\"Meilleur valeur : {}, Nombre de point références associé : {} %\".format(hou[0],hou[1]))"
   ]
  },
  {
   "cell_type": "markdown",
   "metadata": {
    "collapsed": true
   },
   "source": [
    "#### b) SVM"
   ]
  },
  {
   "cell_type": "code",
   "execution_count": 143,
   "metadata": {},
   "outputs": [
    {
     "name": "stdout",
     "output_type": "stream",
     "text": [
      "Score :  23.65626975523274\n"
     ]
    }
   ],
   "source": [
    "print(\"Score : \",svm_test(housing,\"r\"))"
   ]
  },
  {
   "cell_type": "markdown",
   "metadata": {},
   "source": [
    "#### c) Decision Tree"
   ]
  },
  {
   "cell_type": "code",
   "execution_count": 156,
   "metadata": {},
   "outputs": [
    {
     "name": "stdout",
     "output_type": "stream",
     "text": [
      "Score :  17.729197821276486\n"
     ]
    }
   ],
   "source": [
    "print(\"Score : \",dt_test(housing,\"r\"))"
   ]
  },
  {
   "cell_type": "markdown",
   "metadata": {},
   "source": [
    "### 2.4 Dataset Abalone "
   ]
  },
  {
   "cell_type": "markdown",
   "metadata": {},
   "source": [
    "#### a) MLM"
   ]
  },
  {
   "cell_type": "code",
   "execution_count": 16,
   "metadata": {},
   "outputs": [
    {
     "name": "stdout",
     "output_type": "stream",
     "text": [
      "Meilleur valeur : 4.991579625045996, Nombre de point références associé : 0.1\n"
     ]
    }
   ],
   "source": [
    "aba = test(abalone,\"r\",1/3)\n",
    "print(\"Meilleur valeur : {}, Nombre de point références associé : {}\".format(aba[0],aba[1]))"
   ]
  },
  {
   "cell_type": "markdown",
   "metadata": {},
   "source": [
    "#### b) SVM"
   ]
  },
  {
   "cell_type": "code",
   "execution_count": 144,
   "metadata": {},
   "outputs": [
    {
     "name": "stdout",
     "output_type": "stream",
     "text": [
      "Score :  5.041134592485038\n"
     ]
    }
   ],
   "source": [
    "print(\"Score : \",svm_test(abalone,\"r\"))"
   ]
  },
  {
   "cell_type": "markdown",
   "metadata": {},
   "source": [
    "#### c) Decision Tree"
   ]
  },
  {
   "cell_type": "code",
   "execution_count": 157,
   "metadata": {},
   "outputs": [
    {
     "name": "stdout",
     "output_type": "stream",
     "text": [
      "Score :  6.222055403070914\n"
     ]
    }
   ],
   "source": [
    "print(\"Score : \",dt_test(abalone,\"r\"))"
   ]
  },
  {
   "cell_type": "code",
   "execution_count": 159,
   "metadata": {},
   "outputs": [
    {
     "data": {
      "text/html": [
       "<div>\n",
       "<style scoped>\n",
       "    .dataframe tbody tr th:only-of-type {\n",
       "        vertical-align: middle;\n",
       "    }\n",
       "\n",
       "    .dataframe tbody tr th {\n",
       "        vertical-align: top;\n",
       "    }\n",
       "\n",
       "    .dataframe thead th {\n",
       "        text-align: right;\n",
       "    }\n",
       "</style>\n",
       "<table border=\"1\" class=\"dataframe\">\n",
       "  <thead>\n",
       "    <tr style=\"text-align: right;\">\n",
       "      <th></th>\n",
       "      <th>Nb ligne</th>\n",
       "      <th>Nb colonne</th>\n",
       "      <th>optimal_k</th>\n",
       "      <th>MLM</th>\n",
       "      <th>SVM</th>\n",
       "      <th>Decision Tree</th>\n",
       "    </tr>\n",
       "  </thead>\n",
       "  <tbody>\n",
       "    <tr>\n",
       "      <th>Servo</th>\n",
       "      <td>167.0</td>\n",
       "      <td>5.0</td>\n",
       "      <td>0.30</td>\n",
       "      <td>6.241376e-01</td>\n",
       "      <td>9.052101e-01</td>\n",
       "      <td>6.226242e-01</td>\n",
       "    </tr>\n",
       "    <tr>\n",
       "      <th>Auto price</th>\n",
       "      <td>159.0</td>\n",
       "      <td>16.0</td>\n",
       "      <td>0.75</td>\n",
       "      <td>3.099577e+06</td>\n",
       "      <td>5.744280e+06</td>\n",
       "      <td>5.544299e+06</td>\n",
       "    </tr>\n",
       "    <tr>\n",
       "      <th>Boston Housing</th>\n",
       "      <td>506.0</td>\n",
       "      <td>14.0</td>\n",
       "      <td>0.85</td>\n",
       "      <td>2.415764e+01</td>\n",
       "      <td>2.365627e+01</td>\n",
       "      <td>1.900300e+01</td>\n",
       "    </tr>\n",
       "    <tr>\n",
       "      <th>Abalone</th>\n",
       "      <td>4177.0</td>\n",
       "      <td>9.0</td>\n",
       "      <td>0.10</td>\n",
       "      <td>4.991580e+00</td>\n",
       "      <td>5.041135e+00</td>\n",
       "      <td>6.224193e+00</td>\n",
       "    </tr>\n",
       "  </tbody>\n",
       "</table>\n",
       "</div>"
      ],
      "text/plain": [
       "                Nb ligne  Nb colonne  optimal_k           MLM           SVM  \\\n",
       "Servo              167.0         5.0       0.30  6.241376e-01  9.052101e-01   \n",
       "Auto price         159.0        16.0       0.75  3.099577e+06  5.744280e+06   \n",
       "Boston Housing     506.0        14.0       0.85  2.415764e+01  2.365627e+01   \n",
       "Abalone           4177.0         9.0       0.10  4.991580e+00  5.041135e+00   \n",
       "\n",
       "                Decision Tree  \n",
       "Servo            6.226242e-01  \n",
       "Auto price       5.544299e+06  \n",
       "Boston Housing   1.900300e+01  \n",
       "Abalone          6.224193e+00  "
      ]
     },
     "execution_count": 159,
     "metadata": {},
     "output_type": "execute_result"
    }
   ],
   "source": [
    "import time\n",
    "def getData(data,name,optimal_k):\n",
    "    res = []\n",
    "    for i in range(len(data)):\n",
    "        X,y = preprocessing(data[i])\n",
    "        x_train, x_test, y_train, y_test = split_and_norm(X,y,name,test_size=1/3)\n",
    "        y_train = y_train.reshape((len(y_train),1))\n",
    "        y_test = y_test.reshape((len(y_test),1))\n",
    "        clf = MLM(optimal_k[i])\n",
    "        clf.fit(x_train,y_train)\n",
    "        pred = clf.predict(x_test)\n",
    "        if name == \"r\":\n",
    "            res.append((mean_squared_error(pred,y_test),optimal_k[i],svm_test(data[i],\"r\"),dt_test(data[i],\"r\")))\n",
    "        elif name == \"c\":\n",
    "            res.append((clf.score(x_test,y_test),optimal_k[i],svm_test(data[i],\"c\"),dt_test(data[i],\"c\")))\n",
    "    \n",
    "    arr = np.zeros((len(data),6))\n",
    "    for i in range(4):\n",
    "        arr[i] = [data[i].shape[0],data[i].shape[1],res[i][1],res[i][0],res[i][2],res[i][3]]\n",
    "    return arr\n",
    "\n",
    "data,optimal_k = [servo,price,housing,abalone],[ser[1],pri[1],hou[1],aba[1]]        \n",
    "pd.DataFrame(data=getData(data,\"r\",optimal_k),columns=[\"Nb ligne\",\"Nb colonne\",\"optimal_k\",\"MLM\",\"SVM\",\"Decision Tree\"],\n",
    "             index=[\"Servo\",\"Auto price\",\"Boston Housing\",\"Abalone\"])\n"
   ]
  },
  {
   "cell_type": "markdown",
   "metadata": {},
   "source": [
    "### Comparaison des résultats avec différentes metric pour le calcul des distances "
   ]
  },
  {
   "cell_type": "code",
   "execution_count": 194,
   "metadata": {},
   "outputs": [
    {
     "data": {
      "text/html": [
       "<div>\n",
       "<style scoped>\n",
       "    .dataframe tbody tr th:only-of-type {\n",
       "        vertical-align: middle;\n",
       "    }\n",
       "\n",
       "    .dataframe tbody tr th {\n",
       "        vertical-align: top;\n",
       "    }\n",
       "\n",
       "    .dataframe thead th {\n",
       "        text-align: right;\n",
       "    }\n",
       "</style>\n",
       "<table border=\"1\" class=\"dataframe\">\n",
       "  <thead>\n",
       "    <tr style=\"text-align: right;\">\n",
       "      <th></th>\n",
       "      <th>euclidean</th>\n",
       "      <th>canberra</th>\n",
       "      <th>chebyshev</th>\n",
       "      <th>cityblock</th>\n",
       "      <th>sqeuclidean</th>\n",
       "    </tr>\n",
       "  </thead>\n",
       "  <tbody>\n",
       "    <tr>\n",
       "      <th>Servo</th>\n",
       "      <td>6.241376e-01</td>\n",
       "      <td>7.926140e-01</td>\n",
       "      <td>6.296618e-01</td>\n",
       "      <td>5.801007e-01</td>\n",
       "      <td>4.995894e-01</td>\n",
       "    </tr>\n",
       "    <tr>\n",
       "      <th>Auto price</th>\n",
       "      <td>3.099577e+06</td>\n",
       "      <td>2.714728e+06</td>\n",
       "      <td>5.883827e+06</td>\n",
       "      <td>3.731392e+06</td>\n",
       "      <td>7.468511e+06</td>\n",
       "    </tr>\n",
       "    <tr>\n",
       "      <th>Boston Housing</th>\n",
       "      <td>2.415764e+01</td>\n",
       "      <td>1.531544e+01</td>\n",
       "      <td>4.759292e+01</td>\n",
       "      <td>1.662636e+01</td>\n",
       "      <td>2.686278e+02</td>\n",
       "    </tr>\n",
       "    <tr>\n",
       "      <th>Abalone</th>\n",
       "      <td>4.991580e+00</td>\n",
       "      <td>5.317277e+00</td>\n",
       "      <td>5.199909e+00</td>\n",
       "      <td>5.087684e+00</td>\n",
       "      <td>2.427622e+02</td>\n",
       "    </tr>\n",
       "  </tbody>\n",
       "</table>\n",
       "</div>"
      ],
      "text/plain": [
       "                   euclidean      canberra     chebyshev     cityblock  \\\n",
       "Servo           6.241376e-01  7.926140e-01  6.296618e-01  5.801007e-01   \n",
       "Auto price      3.099577e+06  2.714728e+06  5.883827e+06  3.731392e+06   \n",
       "Boston Housing  2.415764e+01  1.531544e+01  4.759292e+01  1.662636e+01   \n",
       "Abalone         4.991580e+00  5.317277e+00  5.199909e+00  5.087684e+00   \n",
       "\n",
       "                 sqeuclidean  \n",
       "Servo           4.995894e-01  \n",
       "Auto price      7.468511e+06  \n",
       "Boston Housing  2.686278e+02  \n",
       "Abalone         2.427622e+02  "
      ]
     },
     "execution_count": 194,
     "metadata": {},
     "output_type": "execute_result"
    }
   ],
   "source": [
    "distances = ['euclidean','canberra','chebyshev','cityblock','sqeuclidean']\n",
    "data = [servo,price,housing,abalone]\n",
    "scores = np.zeros((4,5))\n",
    "optimal_klist = np.zeros((4,5))\n",
    "for i in range(len(data)):\n",
    "    for j in range(len(distances)):\n",
    "        res = test(data[i],\"r\",1/3,distances[j])\n",
    "        scores[i,j] = res[0]\n",
    "        optimal_klist[i,j]=res[1]\n",
    "        \n",
    "pd.DataFrame(data=scores,columns=distances,\n",
    "             index=[\"Servo\",\"Auto price\",\"Boston Housing\",\"Abalone\"])"
   ]
  },
  {
   "cell_type": "code",
   "execution_count": 195,
   "metadata": {},
   "outputs": [
    {
     "data": {
      "text/html": [
       "<div>\n",
       "<style scoped>\n",
       "    .dataframe tbody tr th:only-of-type {\n",
       "        vertical-align: middle;\n",
       "    }\n",
       "\n",
       "    .dataframe tbody tr th {\n",
       "        vertical-align: top;\n",
       "    }\n",
       "\n",
       "    .dataframe thead th {\n",
       "        text-align: right;\n",
       "    }\n",
       "</style>\n",
       "<table border=\"1\" class=\"dataframe\">\n",
       "  <thead>\n",
       "    <tr style=\"text-align: right;\">\n",
       "      <th></th>\n",
       "      <th>euclidean</th>\n",
       "      <th>canberra</th>\n",
       "      <th>chebyshev</th>\n",
       "      <th>cityblock</th>\n",
       "      <th>sqeuclidean</th>\n",
       "    </tr>\n",
       "  </thead>\n",
       "  <tbody>\n",
       "    <tr>\n",
       "      <th>Servo</th>\n",
       "      <td>0.30</td>\n",
       "      <td>0.30</td>\n",
       "      <td>0.30</td>\n",
       "      <td>0.30</td>\n",
       "      <td>0.05</td>\n",
       "    </tr>\n",
       "    <tr>\n",
       "      <th>Auto price</th>\n",
       "      <td>0.75</td>\n",
       "      <td>0.95</td>\n",
       "      <td>0.15</td>\n",
       "      <td>0.70</td>\n",
       "      <td>0.15</td>\n",
       "    </tr>\n",
       "    <tr>\n",
       "      <th>Boston Housing</th>\n",
       "      <td>0.85</td>\n",
       "      <td>0.55</td>\n",
       "      <td>0.25</td>\n",
       "      <td>0.55</td>\n",
       "      <td>0.10</td>\n",
       "    </tr>\n",
       "    <tr>\n",
       "      <th>Abalone</th>\n",
       "      <td>0.10</td>\n",
       "      <td>0.10</td>\n",
       "      <td>0.10</td>\n",
       "      <td>0.05</td>\n",
       "      <td>0.05</td>\n",
       "    </tr>\n",
       "  </tbody>\n",
       "</table>\n",
       "</div>"
      ],
      "text/plain": [
       "                euclidean  canberra  chebyshev  cityblock  sqeuclidean\n",
       "Servo                0.30      0.30       0.30       0.30         0.05\n",
       "Auto price           0.75      0.95       0.15       0.70         0.15\n",
       "Boston Housing       0.85      0.55       0.25       0.55         0.10\n",
       "Abalone              0.10      0.10       0.10       0.05         0.05"
      ]
     },
     "execution_count": 195,
     "metadata": {},
     "output_type": "execute_result"
    }
   ],
   "source": [
    "pd.DataFrame(data=optimal_klist,columns=distances,\n",
    "             index=[\"Servo\",\"Auto price\",\"Boston Housing\",\"Abalone\"])"
   ]
  },
  {
   "cell_type": "markdown",
   "metadata": {},
   "source": [
    "### 2.5 Evolution de l'erreur en fonction du nombre de point références "
   ]
  },
  {
   "cell_type": "code",
   "execution_count": 187,
   "metadata": {},
   "outputs": [],
   "source": [
    "def compute_errors(data):\n",
    "    X,y=preprocessing(data)\n",
    "    y = y.reshape((len(y),1))\n",
    "    L = []\n",
    "    x_train, x_test, y_train, y_test = split_and_norm(X,y,\"r\",test_size=1/3)\n",
    "    for i in np.arange(5,105,5):  \n",
    "        clf = MLM(rp_number=i/100)\n",
    "        clf.fit(x_train,y_train)\n",
    "        y_pred = clf.predict(x_test)\n",
    "        L.append(mean_squared_error(y_pred,y_test)/mean_squared_error(y_pred,np.zeros(len(y_pred))))\n",
    "    return L\n",
    "\n",
    "servo_errors = compute_errors(servo)\n",
    "price_errors = compute_errors(price)\n",
    "housing_errors = compute_errors(housing)\n",
    "#abalone_errors = compute_errors(abalone)"
   ]
  },
  {
   "cell_type": "code",
   "execution_count": 188,
   "metadata": {},
   "outputs": [
    {
     "data": {
      "image/png": "[encoded data removed]",
      "text/plain": [
       "<Figure size 432x288 with 1 Axes>"
      ]
     },
     "metadata": {},
     "output_type": "display_data"
    }
   ],
   "source": [
    "plt.figure()\n",
    "plt.title(\"Error per K\")\n",
    "plt.plot(np.arange(5,105,5),servo_errors,\"-x\",label=\"servo\")\n",
    "plt.plot(np.arange(5,105,5),price_errors,\"-o\",label=\"price\")\n",
    "plt.plot(np.arange(5,105,5),housing_errors,\"-*\",label=\"housing\")\n",
    "#plt.plot(np.arange(5,105,5),abalone_errors,\"-^\",label=\"abalone\")\n",
    "plt.xlabel(\"K/N %\")\n",
    "plt.ylabel(\"NMSE\")\n",
    "plt.legend(bbox_to_anchor=(0.9, 1), loc='upper left', borderaxespad=0.)\n",
    "plt.ylim((0.,1.))\n",
    "plt.xlim((0,100))\n",
    "plt.show()"
   ]
  },
  {
   "cell_type": "markdown",
   "metadata": {},
   "source": [
    "### 2.6 Optimal K value over different runs"
   ]
  },
  {
   "cell_type": "code",
   "execution_count": 50,
   "metadata": {},
   "outputs": [
    {
     "data": {
      "text/plain": [
       "<Figure size 432x288 with 0 Axes>"
      ]
     },
     "metadata": {},
     "output_type": "display_data"
    },
    {
     "data": {
      "image/png": "[encoded data removed]",
      "text/plain": [
       "<Figure size 432x288 with 1 Axes>"
      ]
     },
     "metadata": {},
     "output_type": "display_data"
    }
   ],
   "source": [
    "def optimal_k_over(dataset,name):\n",
    "    X,y = preprocessing(servo)\n",
    "    y = y.reshape((len(y),1))\n",
    "    x_train, x_test, y_train, y_test = split_and_norm(X,y,\"r,\"test_size=1/3)\n",
    "    L = []\n",
    "    for i in range(10):  \n",
    "        li = []\n",
    "        for j in np.arange(5,105,5):\n",
    "            if name == 'r':\n",
    "                clf = MLM(rp_number=j/100)\n",
    "            elif name == 'c':\n",
    "                clf = NN_MLM(rp_number=j/100)\n",
    "            clf.fit(x_train,y_train)\n",
    "            score = clf.score(x_test,y_test)\n",
    "            li.append((score,(j/100)*len(X)))\n",
    "        L.append(sorted(li, key=lambda x: x[0])[-1])\n",
    "    return L\n",
    "\n",
    "servo_optimal_k = optimal_k_over(servo,'r')\n",
    "price_optimal_k = optimal_k_over(price,'r')\n",
    "housing_optimal_k = optimal_k_over(housing,'r')\n",
    "#x,y = preprocessing(abalone)\n",
    "#abalone_optimal_k = optimal_k_over(x,y,'r')\n",
    "\n",
    "plt.figure()\n",
    "plt.figure(\"Optimal K value over different runs\")\n",
    "plt.plot(range(10),[i[1] for i in servo_optimal_k],\"-x\",label=\"servo\")\n",
    "plt.plot(range(10),[i[1] for i in price_optimal_k],\"-o\",label=\"price\")\n",
    "plt.plot(range(10),[i[1] for i in housing_optimal_k],\"-*\",label=\"housing\")\n",
    "#plt.plot(range(10),[i[1] for i in abalone_optimal_k],\"-^\",label=\"abalone\")\n",
    "plt.xlabel(\"Répitition\")\n",
    "plt.ylabel(\"K\")\n",
    "plt.legend(bbox_to_anchor=(0.9, 1), loc='upper left', borderaxespad=0.)\n",
    "plt.show()"
   ]
  },
  {
   "cell_type": "markdown",
   "metadata": {},
   "source": [
    "## 3. Test sur des problèmes de classification"
   ]
  },
  {
   "cell_type": "code",
   "execution_count": 17,
   "metadata": {},
   "outputs": [
    {
     "name": "stdout",
     "output_type": "stream",
     "text": [
      "Score sur : 0.7724237042112563, nombre de points référence associé : 0.2 %\n"
     ]
    }
   ],
   "source": [
    "can = test(cancer,\"c\",1/3)# tester le Minimal Learning Machine sur le dataset Wisconsin Brest Cancer\n",
    "print(\"Score sur : {}, nombre de points référence associé : {} %\".format(can[0],can[1]))\n",
    "\n",
    "iri = test(iris,\"c\",1/3)# sur le dataset Iris\n",
    "print(\"Score sur : {}, nombre de points référence associé : {} %\".format(iri[0],iri[1]))\n",
    "\n",
    "win = test(wine,\"c\",1/3)# sur le dataset Wine\n",
    "print(\"Score sur : {}, nombre de points référence associé : {} %\".format(win[0],win[1]))\n",
    "\n",
    "dia = test(diabetes,\"c\",1/3)# sur le dataset Prima Indien Diabetes\n",
    "print(\"Score sur : {}, nombre de points référence associé : {} %\".format(dia[0],dia[1]))"
   ]
  },
  {
   "cell_type": "code",
   "execution_count": 163,
   "metadata": {},
   "outputs": [
    {
     "data": {
      "text/html": [
       "<div>\n",
       "<style scoped>\n",
       "    .dataframe tbody tr th:only-of-type {\n",
       "        vertical-align: middle;\n",
       "    }\n",
       "\n",
       "    .dataframe tbody tr th {\n",
       "        vertical-align: top;\n",
       "    }\n",
       "\n",
       "    .dataframe thead th {\n",
       "        text-align: right;\n",
       "    }\n",
       "</style>\n",
       "<table border=\"1\" class=\"dataframe\">\n",
       "  <thead>\n",
       "    <tr style=\"text-align: right;\">\n",
       "      <th></th>\n",
       "      <th>Nb ligne</th>\n",
       "      <th>Nb colonne</th>\n",
       "      <th>optimal_k</th>\n",
       "      <th>MLM</th>\n",
       "      <th>SVM</th>\n",
       "      <th>Decision Tree</th>\n",
       "    </tr>\n",
       "  </thead>\n",
       "  <tbody>\n",
       "    <tr>\n",
       "      <th>Iris</th>\n",
       "      <td>150.0</td>\n",
       "      <td>5.0</td>\n",
       "      <td>0.95</td>\n",
       "      <td>0.979863</td>\n",
       "      <td>0.980392</td>\n",
       "      <td>0.980392</td>\n",
       "    </tr>\n",
       "    <tr>\n",
       "      <th>Wine</th>\n",
       "      <td>178.0</td>\n",
       "      <td>14.0</td>\n",
       "      <td>1.00</td>\n",
       "      <td>0.603731</td>\n",
       "      <td>0.966667</td>\n",
       "      <td>0.950000</td>\n",
       "    </tr>\n",
       "    <tr>\n",
       "      <th>Prima Indians Diabetes</th>\n",
       "      <td>768.0</td>\n",
       "      <td>9.0</td>\n",
       "      <td>0.10</td>\n",
       "      <td>0.276074</td>\n",
       "      <td>0.750973</td>\n",
       "      <td>0.731518</td>\n",
       "    </tr>\n",
       "    <tr>\n",
       "      <th>Wisconsin Breast Cancer</th>\n",
       "      <td>569.0</td>\n",
       "      <td>31.0</td>\n",
       "      <td>0.20</td>\n",
       "      <td>0.772424</td>\n",
       "      <td>0.963158</td>\n",
       "      <td>0.926316</td>\n",
       "    </tr>\n",
       "  </tbody>\n",
       "</table>\n",
       "</div>"
      ],
      "text/plain": [
       "                         Nb ligne  Nb colonne  optimal_k       MLM       SVM  \\\n",
       "Iris                        150.0         5.0       0.95  0.979863  0.980392   \n",
       "Wine                        178.0        14.0       1.00  0.603731  0.966667   \n",
       "Prima Indians Diabetes      768.0         9.0       0.10  0.276074  0.750973   \n",
       "Wisconsin Breast Cancer     569.0        31.0       0.20  0.772424  0.963158   \n",
       "\n",
       "                         Decision Tree  \n",
       "Iris                          0.980392  \n",
       "Wine                          0.950000  \n",
       "Prima Indians Diabetes        0.731518  \n",
       "Wisconsin Breast Cancer       0.926316  "
      ]
     },
     "execution_count": 163,
     "metadata": {},
     "output_type": "execute_result"
    }
   ],
   "source": [
    "data,optimal_k = [iris,wine,diabetes,cancer],[iri[1],win[1],dia[1],can[1]]        \n",
    "pd.DataFrame(data=getData(data,\"c\",optimal_k),columns=[\"Nb ligne\",\"Nb colonne\",\"optimal_k\",\"MLM\",\"SVM\",\"Decision Tree\"],\n",
    "             index=[\"Iris\",\"Wine\",\"Prima Indians Diabetes\",\"Wisconsin Breast Cancer\"])"
   ]
  },
  {
   "cell_type": "code",
   "execution_count": 198,
   "metadata": {},
   "outputs": [
    {
     "data": {
      "text/html": [
       "<div>\n",
       "<style scoped>\n",
       "    .dataframe tbody tr th:only-of-type {\n",
       "        vertical-align: middle;\n",
       "    }\n",
       "\n",
       "    .dataframe tbody tr th {\n",
       "        vertical-align: top;\n",
       "    }\n",
       "\n",
       "    .dataframe thead th {\n",
       "        text-align: right;\n",
       "    }\n",
       "</style>\n",
       "<table border=\"1\" class=\"dataframe\">\n",
       "  <thead>\n",
       "    <tr style=\"text-align: right;\">\n",
       "      <th></th>\n",
       "      <th>euclidean</th>\n",
       "      <th>canberra</th>\n",
       "      <th>chebyshev</th>\n",
       "      <th>cityblock</th>\n",
       "      <th>sqeuclidean</th>\n",
       "    </tr>\n",
       "  </thead>\n",
       "  <tbody>\n",
       "    <tr>\n",
       "      <th>Iris</th>\n",
       "      <td>0.979863</td>\n",
       "      <td>0.814849</td>\n",
       "      <td>0.949010</td>\n",
       "      <td>0.968976</td>\n",
       "      <td>0.923906</td>\n",
       "    </tr>\n",
       "    <tr>\n",
       "      <th>Wine</th>\n",
       "      <td>0.603731</td>\n",
       "      <td>0.589003</td>\n",
       "      <td>0.535413</td>\n",
       "      <td>0.896885</td>\n",
       "      <td>0.911088</td>\n",
       "    </tr>\n",
       "    <tr>\n",
       "      <th>Prima Indians Diabetes</th>\n",
       "      <td>0.276074</td>\n",
       "      <td>0.259150</td>\n",
       "      <td>0.121434</td>\n",
       "      <td>0.289758</td>\n",
       "      <td>-0.188359</td>\n",
       "    </tr>\n",
       "    <tr>\n",
       "      <th>Wisconsin Breast Cancer</th>\n",
       "      <td>0.772424</td>\n",
       "      <td>0.654998</td>\n",
       "      <td>0.737043</td>\n",
       "      <td>0.755489</td>\n",
       "      <td>0.530034</td>\n",
       "    </tr>\n",
       "  </tbody>\n",
       "</table>\n",
       "</div>"
      ],
      "text/plain": [
       "                         euclidean  canberra  chebyshev  cityblock  \\\n",
       "Iris                      0.979863  0.814849   0.949010   0.968976   \n",
       "Wine                      0.603731  0.589003   0.535413   0.896885   \n",
       "Prima Indians Diabetes    0.276074  0.259150   0.121434   0.289758   \n",
       "Wisconsin Breast Cancer   0.772424  0.654998   0.737043   0.755489   \n",
       "\n",
       "                         sqeuclidean  \n",
       "Iris                        0.923906  \n",
       "Wine                        0.911088  \n",
       "Prima Indians Diabetes     -0.188359  \n",
       "Wisconsin Breast Cancer     0.530034  "
      ]
     },
     "execution_count": 198,
     "metadata": {},
     "output_type": "execute_result"
    }
   ],
   "source": [
    "data_c = [iris,wine,diabetes,cancer]\n",
    "scores = np.zeros((4,5))\n",
    "optimal_klist = np.zeros((4,5))\n",
    "for i in range(len(data_c)):\n",
    "    for j in range(len(distances)):\n",
    "        res = test(data_c[i],\"c\",1/3,distances[j])\n",
    "        scores[i,j] = res[0]\n",
    "        optimal_klist[i,j]=res[1]\n",
    "        \n",
    "pd.DataFrame(data=scores,columns=distances,\n",
    "             index=[\"Iris\",\"Wine\",\"Prima Indians Diabetes\",\"Wisconsin Breast Cancer\"])"
   ]
  },
  {
   "cell_type": "code",
   "execution_count": 199,
   "metadata": {},
   "outputs": [
    {
     "data": {
      "text/html": [
       "<div>\n",
       "<style scoped>\n",
       "    .dataframe tbody tr th:only-of-type {\n",
       "        vertical-align: middle;\n",
       "    }\n",
       "\n",
       "    .dataframe tbody tr th {\n",
       "        vertical-align: top;\n",
       "    }\n",
       "\n",
       "    .dataframe thead th {\n",
       "        text-align: right;\n",
       "    }\n",
       "</style>\n",
       "<table border=\"1\" class=\"dataframe\">\n",
       "  <thead>\n",
       "    <tr style=\"text-align: right;\">\n",
       "      <th></th>\n",
       "      <th>euclidean</th>\n",
       "      <th>canberra</th>\n",
       "      <th>chebyshev</th>\n",
       "      <th>cityblock</th>\n",
       "      <th>sqeuclidean</th>\n",
       "    </tr>\n",
       "  </thead>\n",
       "  <tbody>\n",
       "    <tr>\n",
       "      <th>Iris</th>\n",
       "      <td>0.95</td>\n",
       "      <td>0.45</td>\n",
       "      <td>0.30</td>\n",
       "      <td>0.25</td>\n",
       "      <td>0.05</td>\n",
       "    </tr>\n",
       "    <tr>\n",
       "      <th>Wine</th>\n",
       "      <td>1.00</td>\n",
       "      <td>0.15</td>\n",
       "      <td>0.05</td>\n",
       "      <td>0.45</td>\n",
       "      <td>0.10</td>\n",
       "    </tr>\n",
       "    <tr>\n",
       "      <th>Prima Indians Diabetes</th>\n",
       "      <td>0.10</td>\n",
       "      <td>0.15</td>\n",
       "      <td>0.05</td>\n",
       "      <td>0.05</td>\n",
       "      <td>0.05</td>\n",
       "    </tr>\n",
       "    <tr>\n",
       "      <th>Wisconsin Breast Cancer</th>\n",
       "      <td>0.20</td>\n",
       "      <td>0.15</td>\n",
       "      <td>0.10</td>\n",
       "      <td>0.15</td>\n",
       "      <td>0.05</td>\n",
       "    </tr>\n",
       "  </tbody>\n",
       "</table>\n",
       "</div>"
      ],
      "text/plain": [
       "                         euclidean  canberra  chebyshev  cityblock  \\\n",
       "Iris                          0.95      0.45       0.30       0.25   \n",
       "Wine                          1.00      0.15       0.05       0.45   \n",
       "Prima Indians Diabetes        0.10      0.15       0.05       0.05   \n",
       "Wisconsin Breast Cancer       0.20      0.15       0.10       0.15   \n",
       "\n",
       "                         sqeuclidean  \n",
       "Iris                            0.05  \n",
       "Wine                            0.10  \n",
       "Prima Indians Diabetes          0.05  \n",
       "Wisconsin Breast Cancer         0.05  "
      ]
     },
     "execution_count": 199,
     "metadata": {},
     "output_type": "execute_result"
    }
   ],
   "source": [
    "pd.DataFrame(data=optimal_klist,columns=distances,\n",
    "             index=[\"Iris\",\"Wine\",\"Prima Indians Diabetes\",\"Wisconsin Breast Cancer\"])"
   ]
  },
  {
   "cell_type": "markdown",
   "metadata": {},
   "source": [
    "### 3.6 Optimal K value over different runs"
   ]
  },
  {
   "cell_type": "code",
   "execution_count": 40,
   "metadata": {},
   "outputs": [
    {
     "data": {
      "image/png": "[encoded data removed]",
      "text/plain": [
       "<Figure size 432x288 with 1 Axes>"
      ]
     },
     "metadata": {},
     "output_type": "display_data"
    }
   ],
   "source": [
    "\n",
    "\n",
    "bc_mlm = optimal_k_over(breast_cancer.data,breast_cancer.target,'c')\n",
    "iris_mlm = optimal_k_over(iris.data,iris.target,'c')\n",
    "wine_mlm = optimal_k_over(wine.data,wine.target,'c')\n",
    "\n",
    "plt.figure()\n",
    "plt.plot(range(10),[i[1] for i in bc_mlm],\"-x\",label=\"breast_cancer\")\n",
    "plt.plot(range(10),[i[1] for i in iris_mlm],\"-o\",label=\"iris\")\n",
    "plt.plot(range(10),[i[1] for i in wine_mlm],\"-*\",label=\"wine\")\n",
    "plt.xlabel(\"Répitition\")\n",
    "plt.ylabel(\"K\")\n",
    "plt.legend(bbox_to_anchor=(0.9, 1), loc='upper left', borderaxespad=0.)\n",
    "plt.show()"
   ]
  },
  {
   "cell_type": "markdown",
   "metadata": {},
   "source": [
    "## 4. Autres test"
   ]
  },
  {
   "cell_type": "code",
   "execution_count": 196,
   "metadata": {},
   "outputs": [],
   "source": [
    "from sklearn.datasets import make_classification,make_moons,make_circles\n"
   ]
  },
  {
   "cell_type": "code",
   "execution_count": 45,
   "metadata": {},
   "outputs": [
    {
     "name": "stdout",
     "output_type": "stream",
     "text": [
      "classifier : Nearest Neighbors, score : 0.9411764705882353\n",
      "classifier : RBF SVM, score : 0.9117647058823529\n",
      "classifier : Gaussian Process, score : 0.9411764705882353\n",
      "classifier : Decision Tree, score : 0.9411764705882353\n",
      "classifier : Neural Net, score : 0.7941176470588235\n",
      "classifier : Naive Bayes, score : 0.7647058823529411\n",
      "classifier : MLM, score : 0.835594907818838\n",
      "\n",
      "\n",
      "classifier : Nearest Neighbors, score : 0.8235294117647058\n",
      "classifier : RBF SVM, score : 0.8823529411764706\n",
      "classifier : Gaussian Process, score : 0.8235294117647058\n",
      "classifier : Decision Tree, score : 0.8235294117647058\n",
      "classifier : Neural Net, score : 0.8529411764705882\n",
      "classifier : Naive Bayes, score : 0.8529411764705882\n",
      "classifier : MLM, score : 0.5097741382040851\n",
      "\n",
      "\n",
      "classifier : Nearest Neighbors, score : 1.0\n",
      "classifier : RBF SVM, score : 0.9411764705882353\n",
      "classifier : Gaussian Process, score : 1.0\n",
      "classifier : Decision Tree, score : 0.9705882352941176\n",
      "classifier : Neural Net, score : 1.0\n",
      "classifier : Naive Bayes, score : 0.9705882352941176\n",
      "classifier : MLM, score : 0.9291326125834253\n",
      "\n",
      "\n"
     ]
    }
   ],
   "source": [
    "from sklearn.neural_network import MLPClassifier\n",
    "from sklearn.neighbors import KNeighborsClassifier\n",
    "from sklearn.gaussian_process import GaussianProcessClassifier\n",
    "from sklearn.gaussian_process.kernels import RBF\n",
    "from sklearn.tree import DecisionTreeClassifier\n",
    "from sklearn.naive_bayes import GaussianNB\n",
    "from sklearn.datasets import make_classification,make_moons,make_circles,make_regression\n",
    "\n",
    "names = [\"Nearest Neighbors\", \"RBF SVM\", \"Gaussian Process\",\n",
    "         \"Decision Tree\", \"Neural Net\",\n",
    "         \"Naive Bayes\",\"MLM\"]\n",
    "####################################\n",
    "classifiers = [\n",
    "    KNeighborsClassifier(3),\n",
    "    SVC(gamma=2, C=1),\n",
    "    GaussianProcessClassifier(1.0 * RBF(1.0)),\n",
    "    DecisionTreeClassifier(max_depth=5),\n",
    "    MLPClassifier(alpha=1, max_iter=1000),\n",
    "    GaussianNB(),\n",
    "    MLMC(.3)]\n",
    "scores = []\n",
    "\n",
    "###################################\n",
    "def optimal_k(name,X_train, X_test, y_train, y_test):\n",
    "    score_max = 0.\n",
    "    best_k = 0.\n",
    "    for i in np.arange(5,105,5):  \n",
    "        clf = MLMC(rp_number=i/100)\n",
    "        clf.fit(X_train,y_train)\n",
    "        score = clf.score(X_test,y_test)\n",
    "        if score > score_max:\n",
    "            score_max  = score\n",
    "            best_k = i/100\n",
    "    return best_k\n",
    "###################################\n",
    "X, y = make_classification(n_features=2, n_redundant=0, n_informative=2,\n",
    "                           random_state=1, n_clusters_per_class=1)\n",
    "rng = np.random.RandomState(2)\n",
    "X += 2 * rng.uniform(size=X.shape)\n",
    "linearly_separable = (X, y)\n",
    "\n",
    "datasets = [make_moons(noise=0.3, random_state=0),\n",
    "            make_circles(noise=0.2, factor=0.5, random_state=1),\n",
    "            linearly_separable\n",
    "            ]\n",
    "#################################\n",
    "for ds_cnt, ds in enumerate(datasets):\n",
    "    # preprocess dataset, split into training and test part\n",
    "    dataset = to_pandas(ds[0],ds[1])\n",
    "    X,y = preprocessing(dataset)\n",
    "    X_train, X_test, y_train, y_test = split_and_norm(X,y,\"c\",test_size=1/3)\n",
    "\n",
    "        # iterate over classifiers\n",
    "    L = []\n",
    "    for name, clf in zip(names, classifiers):\n",
    "        if name in \"MLM\":\n",
    "            y_train = y_train.reshape((len(y_train),1)) \n",
    "            y_test = y_test.reshape((len(y_test),1)) \n",
    "            k = optimal_k(name,X_train, X_test, y_train, y_test)\n",
    "            clf = MLMC(k)\n",
    "            \n",
    "        clf.fit(X_train,y_train)\n",
    "        L.append(clf.score(X_test,y_test))\n",
    "        print(\"classifier : {}, score : {}\".format(name,L[-1]))\n",
    "    scores.append(L)\n",
    "    print(\"\\n\")"
   ]
  },
  {
   "cell_type": "code",
   "execution_count": 44,
   "metadata": {},
   "outputs": [
    {
     "data": {
      "text/html": [
       "<div>\n",
       "<style scoped>\n",
       "    .dataframe tbody tr th:only-of-type {\n",
       "        vertical-align: middle;\n",
       "    }\n",
       "\n",
       "    .dataframe tbody tr th {\n",
       "        vertical-align: top;\n",
       "    }\n",
       "\n",
       "    .dataframe thead th {\n",
       "        text-align: right;\n",
       "    }\n",
       "</style>\n",
       "<table border=\"1\" class=\"dataframe\">\n",
       "  <thead>\n",
       "    <tr style=\"text-align: right;\">\n",
       "      <th></th>\n",
       "      <th>Nearest Neighbors</th>\n",
       "      <th>RBF SVM</th>\n",
       "      <th>Gaussian Process</th>\n",
       "      <th>Decision Tree</th>\n",
       "      <th>Neural Net</th>\n",
       "      <th>Naive Bayes</th>\n",
       "      <th>MLM</th>\n",
       "    </tr>\n",
       "  </thead>\n",
       "  <tbody>\n",
       "    <tr>\n",
       "      <th>make moon</th>\n",
       "      <td>0.941176</td>\n",
       "      <td>0.911765</td>\n",
       "      <td>0.941176</td>\n",
       "      <td>0.941176</td>\n",
       "      <td>0.823529</td>\n",
       "      <td>0.764706</td>\n",
       "      <td>0.835595</td>\n",
       "    </tr>\n",
       "    <tr>\n",
       "      <th>make circle</th>\n",
       "      <td>0.823529</td>\n",
       "      <td>0.882353</td>\n",
       "      <td>0.823529</td>\n",
       "      <td>0.794118</td>\n",
       "      <td>0.852941</td>\n",
       "      <td>0.852941</td>\n",
       "      <td>0.509774</td>\n",
       "    </tr>\n",
       "    <tr>\n",
       "      <th>linearly separable</th>\n",
       "      <td>1.000000</td>\n",
       "      <td>0.941176</td>\n",
       "      <td>1.000000</td>\n",
       "      <td>0.970588</td>\n",
       "      <td>1.000000</td>\n",
       "      <td>0.970588</td>\n",
       "      <td>0.929133</td>\n",
       "    </tr>\n",
       "  </tbody>\n",
       "</table>\n",
       "</div>"
      ],
      "text/plain": [
       "                    Nearest Neighbors   RBF SVM  Gaussian Process  \\\n",
       "make moon                    0.941176  0.911765          0.941176   \n",
       "make circle                  0.823529  0.882353          0.823529   \n",
       "linearly separable           1.000000  0.941176          1.000000   \n",
       "\n",
       "                    Decision Tree  Neural Net  Naive Bayes       MLM  \n",
       "make moon                0.941176    0.823529     0.764706  0.835595  \n",
       "make circle              0.794118    0.852941     0.852941  0.509774  \n",
       "linearly separable       0.970588    1.000000     0.970588  0.929133  "
      ]
     },
     "execution_count": 44,
     "metadata": {},
     "output_type": "execute_result"
    }
   ],
   "source": [
    "pd.DataFrame(data=scores,columns=names,index=[\"make moon\",\"make circle\",\"linearly separable\"])"
   ]
  },
  {
   "cell_type": "code",
   "execution_count": 107,
   "metadata": {},
   "outputs": [
    {
     "name": "stdout",
     "output_type": "stream",
     "text": [
      "Regressor : Nearest Neighbors, score : 168.8666808036201\n",
      "Regressor : RBF SVM, score : 66.11548411254822\n",
      "Regressor : Gaussian Process, score : 9567.684371874064\n",
      "Regressor : Decision Tree, score : 246.87782544878243\n",
      "Regressor : Neural Net, score : 0.05087894892648391\n",
      "Regressor : MLM, score : 0.8479636166972755\n",
      "\n",
      "\n"
     ]
    }
   ],
   "source": [
    "from sklearn.neural_network import MLPRegressor\n",
    "from sklearn.neighbors import KNeighborsRegressor\n",
    "from sklearn.gaussian_process import GaussianProcessRegressor\n",
    "from sklearn.gaussian_process.kernels import RBF\n",
    "from sklearn.tree import DecisionTreeRegressor\n",
    "\n",
    "X, y = make_regression(n_samples=600,n_features=2,random_state=1)\n",
    "\n",
    "names = [\"Nearest Neighbors\", \"RBF SVM\", \"Gaussian Process\",\n",
    "         \"Decision Tree\", \"Neural Net\",\n",
    "         \"MLM\"]\n",
    "####################################\n",
    "Regressors = [\n",
    "    KNeighborsRegressor(10),\n",
    "    SVR(gamma=2, C=1000),\n",
    "    GaussianProcessRegressor(1.0 * RBF(1.0)),\n",
    "    DecisionTreeRegressor(max_depth=5),\n",
    "    MLPRegressor(alpha=1, max_iter=10000),\n",
    "    MLM(.3)]\n",
    "scores = []\n",
    "\n",
    "###################################\n",
    "def optimal_k(X_train, X_test, y_train, y_test):\n",
    "    score_max = 1e+10\n",
    "    best_k = 0.\n",
    "    for i in np.arange(5,105,5):  \n",
    "        clf = MLM(rp_number=i/100)\n",
    "        clf.fit(X_train,y_train)\n",
    "        pred = clf.predict(X_test,y_test)\n",
    "        score = mean_squared_error(pred,y_test)\n",
    "        if score < score_max:\n",
    "            score_max  = score\n",
    "            best_k = i/100\n",
    "    return best_k\n",
    "\n",
    "#################################\n",
    "\n",
    "# preprocess dataset, split into training and test part\n",
    "dataset = to_pandas(X,y)\n",
    "X,y = preprocessing(dataset)\n",
    "X_train, X_test, y_train, y_test = split_and_norm(X,y,\"r\",test_size=1/3)\n",
    "\n",
    "    # iterate over classifiers\n",
    "L = []\n",
    "for name, clf in zip(names, Regressors):\n",
    "    if name in \"MLM\":\n",
    "        y_train = y_train.reshape((len(y_train),1)) \n",
    "        y_test = y_test.reshape((len(y_test),1)) \n",
    "        k = optimal_k(X_train, X_test, y_train, y_test)\n",
    "        clf = MLM(k)\n",
    "    clf.fit(X_train,y_train)\n",
    "    pred = clf.predict(X_test)\n",
    "    L.append(mean_squared_error(pred,y_test))\n",
    "    print(\"Regressor : {}, score : {}\".format(name,L[-1]))\n",
    "scores.append(L)\n",
    "print(\"\\n\")"
   ]
  },
  {
   "cell_type": "markdown",
   "metadata": {},
   "source": [
    "### Time evolution according to the number of reference points"
   ]
  },
  {
   "cell_type": "code",
   "execution_count": 106,
   "metadata": {},
   "outputs": [
    {
     "data": {
      "image/png": "[encoded data removed]",
      "text/plain": [
       "<Figure size 576x432 with 1 Axes>"
      ]
     },
     "metadata": {},
     "output_type": "display_data"
    }
   ],
   "source": [
    "X, y = make_regression(n_samples=1000,n_features=2,random_state=1)\n",
    "X,y = preprocessing(dataset)\n",
    "X_train, X_test, y_train, y_test = split_and_norm(X,y,\"r\",test_size=1/3)\n",
    "y_train = y_train.reshape((len(y_train),1))\n",
    "T = []\n",
    "for i in np.arange(5,105,5):  \n",
    "    clf = MLM(rp_number=i/100)\n",
    "    tps1 = time.time()\n",
    "    pred = clf.fit(X_train,y_train).predict(X_test)\n",
    "    tps2 = time.time()\n",
    "    T.append(tps2-tps1)\n",
    "    \n",
    "plt.figure(figsize=(8,6))\n",
    "plt.plot(np.arange(5,105,5),T)\n",
    "plt.title(\"Evolution of the execution time according\\nto the number of reference points \",fontsize=14)\n",
    "plt.xlabel(\"K %\",fontsize=13)\n",
    "plt.ylabel(\"Time (s)\",fontsize=13)\n",
    "plt.show()"
   ]
  },
  {
   "cell_type": "code",
   "execution_count": null,
   "metadata": {},
   "outputs": [],
   "source": []
  }
 ],
 "metadata": {
  "kernelspec": {
   "display_name": "Python 3",
   "language": "python",
   "name": "python3"
  },
  "language_info": {
   "codemirror_mode": {
    "name": "ipython",
    "version": 3
   },
   "file_extension": ".py",
   "mimetype": "text/x-python",
   "name": "python",
   "nbconvert_exporter": "python",
   "pygments_lexer": "ipython3",
   "version": "3.8.3"
  }
 },
 "nbformat": 4,
 "nbformat_minor": 4
}
